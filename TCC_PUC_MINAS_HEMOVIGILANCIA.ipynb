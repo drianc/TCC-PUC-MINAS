{
  "nbformat": 4,
  "nbformat_minor": 0,
  "metadata": {
    "colab": {
      "name": "TCC_PUC_MINAS_HEMOVIGILANCIA.ipynb",
      "provenance": [],
      "collapsed_sections": [],
      "authorship_tag": "ABX9TyP1RtQbZLVxshTTAM7MbknS",
      "include_colab_link": true
    },
    "kernelspec": {
      "name": "python3",
      "display_name": "Python 3"
    },
    "language_info": {
      "name": "python"
    }
  },
  "cells": [
    {
      "cell_type": "markdown",
      "metadata": {
        "id": "view-in-github",
        "colab_type": "text"
      },
      "source": [
        "<a href=\"https://colab.research.google.com/github/drianc/TCC-PUC-MINAS/blob/main/TCC_PUC_MINAS_HEMOVIGILANCIA.ipynb\" target=\"_parent\"><img src=\"https://colab.research.google.com/assets/colab-badge.svg\" alt=\"Open In Colab\"/></a>"
      ]
    },
    {
      "cell_type": "markdown",
      "metadata": {
        "id": "PymmpKcqweGg"
      },
      "source": [
        "##Machine Learning"
      ]
    },
    {
      "cell_type": "markdown",
      "metadata": {
        "id": "Dwg0YNITw6lG"
      },
      "source": [
        "##Preparação da Base para Analise Machine Learning"
      ]
    },
    {
      "cell_type": "markdown",
      "metadata": {
        "id": "5du2Kzht3ybm"
      },
      "source": [
        "#Coleta de Dados"
      ]
    },
    {
      "cell_type": "code",
      "metadata": {
        "id": "ZuFXpt8gwtJv"
      },
      "source": [
        "#Bibliotecas \n",
        "import pandas as pd\n",
        "import numpy as np\n",
        "\n",
        "#bibliotecas para trabalhar com gráficos\n",
        "import seaborn as sns\n",
        "import matplotlib.pyplot as plt\n",
        "\n"
      ],
      "execution_count": 363,
      "outputs": []
    },
    {
      "cell_type": "code",
      "metadata": {
        "id": "e-DB4acXykF3"
      },
      "source": [
        "\n",
        "#Configuração da apresentação do dataframe\n",
        "pd.set_option('display.max_rows',1000)\n",
        "pd.set_option('display.max_columns',500)\n",
        "pd.set_option('display.width',1000)\n",
        "pd.set_option('display.precision',4)\n",
        "pd.set_option('display.expand_frame_repr',False)"
      ],
      "execution_count": 364,
      "outputs": []
    },
    {
      "cell_type": "code",
      "metadata": {
        "colab": {
          "base_uri": "https://localhost:8080/",
          "height": 309
        },
        "id": "NNBt_RFS0vMe",
        "outputId": "d451e598-9264-4966-bf2b-a723bb900c2f"
      },
      "source": [
        "#Os dados de Notificações em Hemovigilância é um projeto de Inteligência de Dados que extrai os dados do sistema Notivisa de notificações de eventos adversos relacionados ao ciclo do sangue com objetivo de melhorar a qualidade de produtos (sangue e hemocomponentes) e dos processos, bem como aumentar a segurança do doador e receptor. Evento adverso do ciclo do sangue é toda ocorrência adversa associada às etapas do ciclo do sangue que possa resultar em risco para a saúde do doador ou do receptor, tendo ou não como consequência uma reação adversa.\n",
        "#O Objetivo é dar transparência e apresentar os dados provenientes das notificações realizadas. \n",
        "#A legislação vigente estabelece a obrigatoriedade de notificar a ocorrência de reações adversas, quase-erros graves \n",
        "#e incidentes graves relacionados ao uso terapêutico de sangue e hemoderivados ao \n",
        "#Sistema Nacional de Vigilância Sanitária por meio do Notivisa.\n",
        "#Fonte: dados.gov.br\n",
        "      \n",
        "df_hemovigilancia = pd.read_csv('DADOS_ABERTOS_HEMOVIGILANCIA.csv',sep=';',encoding = 'ISO-8859-1')\n",
        "df_hemovigilancia.head()"
      ],
      "execution_count": 28,
      "outputs": [
        {
          "output_type": "execute_result",
          "data": {
            "text/html": [
              "<div>\n",
              "<style scoped>\n",
              "    .dataframe tbody tr th:only-of-type {\n",
              "        vertical-align: middle;\n",
              "    }\n",
              "\n",
              "    .dataframe tbody tr th {\n",
              "        vertical-align: top;\n",
              "    }\n",
              "\n",
              "    .dataframe thead th {\n",
              "        text-align: right;\n",
              "    }\n",
              "</style>\n",
              "<table border=\"1\" class=\"dataframe\">\n",
              "  <thead>\n",
              "    <tr style=\"text-align: right;\">\n",
              "      <th></th>\n",
              "      <th>NU_NOTIFICACAO</th>\n",
              "      <th>DATA_OCORRENCIA_EVENTO</th>\n",
              "      <th>DATA_NOTIFICACAO_EVENTO</th>\n",
              "      <th>STATUS_ANALISE</th>\n",
              "      <th>PRODUTO_MOTIVO</th>\n",
              "      <th>TIPO_REACAO_TRANSFUSIONAL</th>\n",
              "      <th>GRAU_RISCO</th>\n",
              "      <th>CATEGORIA_NOTIFICADOR</th>\n",
              "      <th>TIPO_HEMOCOMPONENTE</th>\n",
              "      <th>FAIXA_ETARIA_PACIENTE</th>\n",
              "      <th>CIDADE_NOTIFICACAO</th>\n",
              "      <th>UF_NOTIFICACAO</th>\n",
              "      <th>DS_TEMPORALIDADE_REACAO</th>\n",
              "      <th>TIPO_EVENTO_ADVERSO</th>\n",
              "      <th>ETAPA_CICLO_SANGUE</th>\n",
              "      <th>DS_ESPECIFICACAO_EVENTO</th>\n",
              "    </tr>\n",
              "  </thead>\n",
              "  <tbody>\n",
              "    <tr>\n",
              "      <th>0</th>\n",
              "      <td>200612000141</td>\n",
              "      <td>06/20/2006 00:00:00</td>\n",
              "      <td>12/22/2006 00:00:00</td>\n",
              "      <td>Concluída</td>\n",
              "      <td>Uso de sangue ou componente</td>\n",
              "      <td>Reação alérgica (ALG)</td>\n",
              "      <td>Grau I   - Leve</td>\n",
              "      <td>Rede Sentinela</td>\n",
              "      <td>CONCENTRADO DE HEMÁCIAS</td>\n",
              "      <td>DE 60 A 69 ANOS</td>\n",
              "      <td>FLORIANÓPOLIS</td>\n",
              "      <td>SC</td>\n",
              "      <td>IMEDIATA</td>\n",
              "      <td>Reação transfusional</td>\n",
              "      <td>Não informado</td>\n",
              "      <td>Não informado</td>\n",
              "    </tr>\n",
              "    <tr>\n",
              "      <th>1</th>\n",
              "      <td>200612000144</td>\n",
              "      <td>06/14/2006 00:00:00</td>\n",
              "      <td>12/22/2006 00:00:00</td>\n",
              "      <td>Concluída</td>\n",
              "      <td>Uso de sangue ou componente</td>\n",
              "      <td>Reação alérgica (ALG)</td>\n",
              "      <td>Grau I   - Leve</td>\n",
              "      <td>Rede Sentinela</td>\n",
              "      <td>PLASMA FRESCO CONGELADO</td>\n",
              "      <td>DE 30 A 39 ANOS</td>\n",
              "      <td>FLORIANÓPOLIS</td>\n",
              "      <td>SC</td>\n",
              "      <td>IMEDIATA</td>\n",
              "      <td>Reação transfusional</td>\n",
              "      <td>Não informado</td>\n",
              "      <td>Não informado</td>\n",
              "    </tr>\n",
              "    <tr>\n",
              "      <th>2</th>\n",
              "      <td>200612000146</td>\n",
              "      <td>04/24/2006 00:00:00</td>\n",
              "      <td>12/22/2006 00:00:00</td>\n",
              "      <td>Concluída</td>\n",
              "      <td>Uso de sangue ou componente</td>\n",
              "      <td>Sobrecarga circulatória associada à transfusão...</td>\n",
              "      <td>Grau III - Grave</td>\n",
              "      <td>Rede Sentinela</td>\n",
              "      <td>CONCENTRADO DE HEMÁCIAS</td>\n",
              "      <td>DE 60 A 69 ANOS</td>\n",
              "      <td>FLORIANÓPOLIS</td>\n",
              "      <td>SC</td>\n",
              "      <td>IMEDIATA</td>\n",
              "      <td>Reação transfusional</td>\n",
              "      <td>Não informado</td>\n",
              "      <td>Não informado</td>\n",
              "    </tr>\n",
              "    <tr>\n",
              "      <th>3</th>\n",
              "      <td>200612000152</td>\n",
              "      <td>07/18/2006 00:00:00</td>\n",
              "      <td>12/22/2006 00:00:00</td>\n",
              "      <td>Concluída</td>\n",
              "      <td>Uso de sangue ou componente</td>\n",
              "      <td>Outras reações imediatas (OI)</td>\n",
              "      <td>Grau III - Grave</td>\n",
              "      <td>Rede Sentinela</td>\n",
              "      <td>CONCENTRADO DE HEMÁCIAS</td>\n",
              "      <td>MAIOR DE 70 ANOS</td>\n",
              "      <td>FLORIANÓPOLIS</td>\n",
              "      <td>SC</td>\n",
              "      <td>IMEDIATA</td>\n",
              "      <td>Reação transfusional</td>\n",
              "      <td>Não informado</td>\n",
              "      <td>Não informado</td>\n",
              "    </tr>\n",
              "    <tr>\n",
              "      <th>4</th>\n",
              "      <td>200612000154</td>\n",
              "      <td>08/16/2006 00:00:00</td>\n",
              "      <td>12/22/2006 00:00:00</td>\n",
              "      <td>Concluída</td>\n",
              "      <td>Uso de sangue ou componente</td>\n",
              "      <td>Reação febril não hemolítica (RFNH)</td>\n",
              "      <td>Grau I   - Leve</td>\n",
              "      <td>Rede Sentinela</td>\n",
              "      <td>CONCENTRADO DE HEMÁCIAS</td>\n",
              "      <td>MAIOR DE 70 ANOS</td>\n",
              "      <td>FLORIANÓPOLIS</td>\n",
              "      <td>SC</td>\n",
              "      <td>IMEDIATA</td>\n",
              "      <td>Reação transfusional</td>\n",
              "      <td>Não informado</td>\n",
              "      <td>Não informado</td>\n",
              "    </tr>\n",
              "  </tbody>\n",
              "</table>\n",
              "</div>"
            ],
            "text/plain": [
              "   NU_NOTIFICACAO DATA_OCORRENCIA_EVENTO DATA_NOTIFICACAO_EVENTO STATUS_ANALISE               PRODUTO_MOTIVO                          TIPO_REACAO_TRANSFUSIONAL        GRAU_RISCO CATEGORIA_NOTIFICADOR      TIPO_HEMOCOMPONENTE FAIXA_ETARIA_PACIENTE CIDADE_NOTIFICACAO UF_NOTIFICACAO DS_TEMPORALIDADE_REACAO   TIPO_EVENTO_ADVERSO ETAPA_CICLO_SANGUE DS_ESPECIFICACAO_EVENTO\n",
              "0    200612000141    06/20/2006 00:00:00     12/22/2006 00:00:00      Concluída  Uso de sangue ou componente                              Reação alérgica (ALG)   Grau I   - Leve        Rede Sentinela  CONCENTRADO DE HEMÁCIAS       DE 60 A 69 ANOS      FLORIANÓPOLIS             SC                IMEDIATA  Reação transfusional      Não informado           Não informado\n",
              "1    200612000144    06/14/2006 00:00:00     12/22/2006 00:00:00      Concluída  Uso de sangue ou componente                              Reação alérgica (ALG)   Grau I   - Leve        Rede Sentinela  PLASMA FRESCO CONGELADO       DE 30 A 39 ANOS      FLORIANÓPOLIS             SC                IMEDIATA  Reação transfusional      Não informado           Não informado\n",
              "2    200612000146    04/24/2006 00:00:00     12/22/2006 00:00:00      Concluída  Uso de sangue ou componente  Sobrecarga circulatória associada à transfusão...  Grau III - Grave        Rede Sentinela  CONCENTRADO DE HEMÁCIAS       DE 60 A 69 ANOS      FLORIANÓPOLIS             SC                IMEDIATA  Reação transfusional      Não informado           Não informado\n",
              "3    200612000152    07/18/2006 00:00:00     12/22/2006 00:00:00      Concluída  Uso de sangue ou componente                      Outras reações imediatas (OI)  Grau III - Grave        Rede Sentinela  CONCENTRADO DE HEMÁCIAS      MAIOR DE 70 ANOS      FLORIANÓPOLIS             SC                IMEDIATA  Reação transfusional      Não informado           Não informado\n",
              "4    200612000154    08/16/2006 00:00:00     12/22/2006 00:00:00      Concluída  Uso de sangue ou componente                Reação febril não hemolítica (RFNH)   Grau I   - Leve        Rede Sentinela  CONCENTRADO DE HEMÁCIAS      MAIOR DE 70 ANOS      FLORIANÓPOLIS             SC                IMEDIATA  Reação transfusional      Não informado           Não informado"
            ]
          },
          "metadata": {},
          "execution_count": 28
        }
      ]
    },
    {
      "cell_type": "markdown",
      "metadata": {
        "id": "3STYe04f9l7F"
      },
      "source": [
        ""
      ]
    },
    {
      "cell_type": "code",
      "metadata": {
        "id": "glVXvWeG9zEt"
      },
      "source": [
        "df_hemo_analise = df_hemovigilancia.drop(columns=['DATA_OCORRENCIA_EVENTO', 'DATA_NOTIFICACAO_EVENTO', 'STATUS_ANALISE', 'PRODUTO_MOTIVO', 'CATEGORIA_NOTIFICADOR', 'TIPO_HEMOCOMPONENTE','CIDADE_NOTIFICACAO', 'UF_NOTIFICACAO', 'ETAPA_CICLO_SANGUE'])"
      ],
      "execution_count": 451,
      "outputs": []
    },
    {
      "cell_type": "code",
      "metadata": {
        "colab": {
          "base_uri": "https://localhost:8080/"
        },
        "id": "vNveEwn1AL94",
        "outputId": "9a2bf197-ceea-45a0-93ad-cc4a1aad8e8f"
      },
      "source": [
        "df_hemo_analise.columns"
      ],
      "execution_count": 452,
      "outputs": [
        {
          "output_type": "execute_result",
          "data": {
            "text/plain": [
              "Index(['NU_NOTIFICACAO', 'TIPO_REACAO_TRANSFUSIONAL', 'GRAU_RISCO', 'FAIXA_ETARIA_PACIENTE', 'DS_TEMPORALIDADE_REACAO', 'TIPO_EVENTO_ADVERSO', 'DS_ESPECIFICACAO_EVENTO'], dtype='object')"
            ]
          },
          "metadata": {},
          "execution_count": 452
        }
      ]
    },
    {
      "cell_type": "code",
      "metadata": {
        "colab": {
          "base_uri": "https://localhost:8080/",
          "height": 309
        },
        "id": "JkpjVHvdAVKG",
        "outputId": "d4b798e4-52a5-455b-d1a3-e8be36c6cda6"
      },
      "source": [
        "df_hemo_analise.head()"
      ],
      "execution_count": 453,
      "outputs": [
        {
          "output_type": "execute_result",
          "data": {
            "text/html": [
              "<div>\n",
              "<style scoped>\n",
              "    .dataframe tbody tr th:only-of-type {\n",
              "        vertical-align: middle;\n",
              "    }\n",
              "\n",
              "    .dataframe tbody tr th {\n",
              "        vertical-align: top;\n",
              "    }\n",
              "\n",
              "    .dataframe thead th {\n",
              "        text-align: right;\n",
              "    }\n",
              "</style>\n",
              "<table border=\"1\" class=\"dataframe\">\n",
              "  <thead>\n",
              "    <tr style=\"text-align: right;\">\n",
              "      <th></th>\n",
              "      <th>NU_NOTIFICACAO</th>\n",
              "      <th>TIPO_REACAO_TRANSFUSIONAL</th>\n",
              "      <th>GRAU_RISCO</th>\n",
              "      <th>FAIXA_ETARIA_PACIENTE</th>\n",
              "      <th>DS_TEMPORALIDADE_REACAO</th>\n",
              "      <th>TIPO_EVENTO_ADVERSO</th>\n",
              "      <th>DS_ESPECIFICACAO_EVENTO</th>\n",
              "    </tr>\n",
              "  </thead>\n",
              "  <tbody>\n",
              "    <tr>\n",
              "      <th>0</th>\n",
              "      <td>200612000141</td>\n",
              "      <td>Reação alérgica (ALG)</td>\n",
              "      <td>Grau I   - Leve</td>\n",
              "      <td>DE 60 A 69 ANOS</td>\n",
              "      <td>IMEDIATA</td>\n",
              "      <td>Reação transfusional</td>\n",
              "      <td>Não informado</td>\n",
              "    </tr>\n",
              "    <tr>\n",
              "      <th>1</th>\n",
              "      <td>200612000144</td>\n",
              "      <td>Reação alérgica (ALG)</td>\n",
              "      <td>Grau I   - Leve</td>\n",
              "      <td>DE 30 A 39 ANOS</td>\n",
              "      <td>IMEDIATA</td>\n",
              "      <td>Reação transfusional</td>\n",
              "      <td>Não informado</td>\n",
              "    </tr>\n",
              "    <tr>\n",
              "      <th>2</th>\n",
              "      <td>200612000146</td>\n",
              "      <td>Sobrecarga circulatória associada à transfusão...</td>\n",
              "      <td>Grau III - Grave</td>\n",
              "      <td>DE 60 A 69 ANOS</td>\n",
              "      <td>IMEDIATA</td>\n",
              "      <td>Reação transfusional</td>\n",
              "      <td>Não informado</td>\n",
              "    </tr>\n",
              "    <tr>\n",
              "      <th>3</th>\n",
              "      <td>200612000152</td>\n",
              "      <td>Outras reações imediatas (OI)</td>\n",
              "      <td>Grau III - Grave</td>\n",
              "      <td>MAIOR DE 70 ANOS</td>\n",
              "      <td>IMEDIATA</td>\n",
              "      <td>Reação transfusional</td>\n",
              "      <td>Não informado</td>\n",
              "    </tr>\n",
              "    <tr>\n",
              "      <th>4</th>\n",
              "      <td>200612000154</td>\n",
              "      <td>Reação febril não hemolítica (RFNH)</td>\n",
              "      <td>Grau I   - Leve</td>\n",
              "      <td>MAIOR DE 70 ANOS</td>\n",
              "      <td>IMEDIATA</td>\n",
              "      <td>Reação transfusional</td>\n",
              "      <td>Não informado</td>\n",
              "    </tr>\n",
              "  </tbody>\n",
              "</table>\n",
              "</div>"
            ],
            "text/plain": [
              "   NU_NOTIFICACAO                          TIPO_REACAO_TRANSFUSIONAL        GRAU_RISCO FAIXA_ETARIA_PACIENTE DS_TEMPORALIDADE_REACAO   TIPO_EVENTO_ADVERSO DS_ESPECIFICACAO_EVENTO\n",
              "0    200612000141                              Reação alérgica (ALG)   Grau I   - Leve       DE 60 A 69 ANOS                IMEDIATA  Reação transfusional           Não informado\n",
              "1    200612000144                              Reação alérgica (ALG)   Grau I   - Leve       DE 30 A 39 ANOS                IMEDIATA  Reação transfusional           Não informado\n",
              "2    200612000146  Sobrecarga circulatória associada à transfusão...  Grau III - Grave       DE 60 A 69 ANOS                IMEDIATA  Reação transfusional           Não informado\n",
              "3    200612000152                      Outras reações imediatas (OI)  Grau III - Grave      MAIOR DE 70 ANOS                IMEDIATA  Reação transfusional           Não informado\n",
              "4    200612000154                Reação febril não hemolítica (RFNH)   Grau I   - Leve      MAIOR DE 70 ANOS                IMEDIATA  Reação transfusional           Não informado"
            ]
          },
          "metadata": {},
          "execution_count": 453
        }
      ]
    },
    {
      "cell_type": "code",
      "metadata": {
        "colab": {
          "base_uri": "https://localhost:8080/",
          "height": 309
        },
        "id": "f-x0DbWkBbGn",
        "outputId": "8ddc46df-6843-4f04-a83a-c8e2c65823d1"
      },
      "source": [
        "df_hemo_analise.tail()"
      ],
      "execution_count": 454,
      "outputs": [
        {
          "output_type": "execute_result",
          "data": {
            "text/html": [
              "<div>\n",
              "<style scoped>\n",
              "    .dataframe tbody tr th:only-of-type {\n",
              "        vertical-align: middle;\n",
              "    }\n",
              "\n",
              "    .dataframe tbody tr th {\n",
              "        vertical-align: top;\n",
              "    }\n",
              "\n",
              "    .dataframe thead th {\n",
              "        text-align: right;\n",
              "    }\n",
              "</style>\n",
              "<table border=\"1\" class=\"dataframe\">\n",
              "  <thead>\n",
              "    <tr style=\"text-align: right;\">\n",
              "      <th></th>\n",
              "      <th>NU_NOTIFICACAO</th>\n",
              "      <th>TIPO_REACAO_TRANSFUSIONAL</th>\n",
              "      <th>GRAU_RISCO</th>\n",
              "      <th>FAIXA_ETARIA_PACIENTE</th>\n",
              "      <th>DS_TEMPORALIDADE_REACAO</th>\n",
              "      <th>TIPO_EVENTO_ADVERSO</th>\n",
              "      <th>DS_ESPECIFICACAO_EVENTO</th>\n",
              "    </tr>\n",
              "  </thead>\n",
              "  <tbody>\n",
              "    <tr>\n",
              "      <th>148917</th>\n",
              "      <td>202109001373</td>\n",
              "      <td>Reação alérgica (ALG)</td>\n",
              "      <td>Grau I   - Leve</td>\n",
              "      <td>DE 60 A 69 ANOS</td>\n",
              "      <td>IMEDIATA</td>\n",
              "      <td>Reação transfusional</td>\n",
              "      <td>Não informado</td>\n",
              "    </tr>\n",
              "    <tr>\n",
              "      <th>148918</th>\n",
              "      <td>202109001374</td>\n",
              "      <td>Reação alérgica (ALG)</td>\n",
              "      <td>Grau I   - Leve</td>\n",
              "      <td>DE 10 A 19 ANOS</td>\n",
              "      <td>IMEDIATA</td>\n",
              "      <td>Reação transfusional</td>\n",
              "      <td>Não informado</td>\n",
              "    </tr>\n",
              "    <tr>\n",
              "      <th>148919</th>\n",
              "      <td>202109001376</td>\n",
              "      <td>Reação alérgica (ALG)</td>\n",
              "      <td>Grau I   - Leve</td>\n",
              "      <td>DE 20 A 29 ANOS</td>\n",
              "      <td>IMEDIATA</td>\n",
              "      <td>Reação transfusional</td>\n",
              "      <td>Não informado</td>\n",
              "    </tr>\n",
              "    <tr>\n",
              "      <th>148920</th>\n",
              "      <td>202109001380</td>\n",
              "      <td>Reação alérgica (ALG)</td>\n",
              "      <td>Grau I   - Leve</td>\n",
              "      <td>DE 40 A 49 ANOS</td>\n",
              "      <td>IMEDIATA</td>\n",
              "      <td>Reação transfusional</td>\n",
              "      <td>Não informado</td>\n",
              "    </tr>\n",
              "    <tr>\n",
              "      <th>148921</th>\n",
              "      <td>202109001382</td>\n",
              "      <td>Reação alérgica (ALG)</td>\n",
              "      <td>Grau I   - Leve</td>\n",
              "      <td>DE 10 A 19 ANOS</td>\n",
              "      <td>IMEDIATA</td>\n",
              "      <td>Reação transfusional</td>\n",
              "      <td>Não informado</td>\n",
              "    </tr>\n",
              "  </tbody>\n",
              "</table>\n",
              "</div>"
            ],
            "text/plain": [
              "        NU_NOTIFICACAO TIPO_REACAO_TRANSFUSIONAL       GRAU_RISCO FAIXA_ETARIA_PACIENTE DS_TEMPORALIDADE_REACAO   TIPO_EVENTO_ADVERSO DS_ESPECIFICACAO_EVENTO\n",
              "148917    202109001373     Reação alérgica (ALG)  Grau I   - Leve       DE 60 A 69 ANOS                IMEDIATA  Reação transfusional           Não informado\n",
              "148918    202109001374     Reação alérgica (ALG)  Grau I   - Leve       DE 10 A 19 ANOS                IMEDIATA  Reação transfusional           Não informado\n",
              "148919    202109001376     Reação alérgica (ALG)  Grau I   - Leve       DE 20 A 29 ANOS                IMEDIATA  Reação transfusional           Não informado\n",
              "148920    202109001380     Reação alérgica (ALG)  Grau I   - Leve       DE 40 A 49 ANOS                IMEDIATA  Reação transfusional           Não informado\n",
              "148921    202109001382     Reação alérgica (ALG)  Grau I   - Leve       DE 10 A 19 ANOS                IMEDIATA  Reação transfusional           Não informado"
            ]
          },
          "metadata": {},
          "execution_count": 454
        }
      ]
    },
    {
      "cell_type": "code",
      "metadata": {
        "colab": {
          "base_uri": "https://localhost:8080/"
        },
        "id": "sS-d06T3BgZW",
        "outputId": "de05a9ec-6ecc-4baf-927a-c611f89b0f4c"
      },
      "source": [
        "df_hemo_analise.info()"
      ],
      "execution_count": 455,
      "outputs": [
        {
          "output_type": "stream",
          "name": "stdout",
          "text": [
            "<class 'pandas.core.frame.DataFrame'>\n",
            "RangeIndex: 148922 entries, 0 to 148921\n",
            "Data columns (total 7 columns):\n",
            " #   Column                     Non-Null Count   Dtype \n",
            "---  ------                     --------------   ----- \n",
            " 0   NU_NOTIFICACAO             148922 non-null  int64 \n",
            " 1   TIPO_REACAO_TRANSFUSIONAL  146955 non-null  object\n",
            " 2   GRAU_RISCO                 148922 non-null  object\n",
            " 3   FAIXA_ETARIA_PACIENTE      148922 non-null  object\n",
            " 4   DS_TEMPORALIDADE_REACAO    148922 non-null  object\n",
            " 5   TIPO_EVENTO_ADVERSO        148922 non-null  object\n",
            " 6   DS_ESPECIFICACAO_EVENTO    148922 non-null  object\n",
            "dtypes: int64(1), object(6)\n",
            "memory usage: 8.0+ MB\n"
          ]
        }
      ]
    },
    {
      "cell_type": "code",
      "metadata": {
        "colab": {
          "base_uri": "https://localhost:8080/"
        },
        "id": "Sg14y4m6CTKd",
        "outputId": "2014911f-a908-45c9-f91a-0cbec266d143"
      },
      "source": [
        "df_hemo_analise.count()"
      ],
      "execution_count": 456,
      "outputs": [
        {
          "output_type": "execute_result",
          "data": {
            "text/plain": [
              "NU_NOTIFICACAO               148922\n",
              "TIPO_REACAO_TRANSFUSIONAL    146955\n",
              "GRAU_RISCO                   148922\n",
              "FAIXA_ETARIA_PACIENTE        148922\n",
              "DS_TEMPORALIDADE_REACAO      148922\n",
              "TIPO_EVENTO_ADVERSO          148922\n",
              "DS_ESPECIFICACAO_EVENTO      148922\n",
              "dtype: int64"
            ]
          },
          "metadata": {},
          "execution_count": 456
        }
      ]
    },
    {
      "cell_type": "code",
      "metadata": {
        "colab": {
          "base_uri": "https://localhost:8080/"
        },
        "id": "JZC99oC6CdSd",
        "outputId": "babdaf2e-323e-4504-8cf0-a609a2b41a53"
      },
      "source": [
        "df_hemo_analise.isnull().sum()"
      ],
      "execution_count": 457,
      "outputs": [
        {
          "output_type": "execute_result",
          "data": {
            "text/plain": [
              "NU_NOTIFICACAO                  0\n",
              "TIPO_REACAO_TRANSFUSIONAL    1967\n",
              "GRAU_RISCO                      0\n",
              "FAIXA_ETARIA_PACIENTE           0\n",
              "DS_TEMPORALIDADE_REACAO         0\n",
              "TIPO_EVENTO_ADVERSO             0\n",
              "DS_ESPECIFICACAO_EVENTO         0\n",
              "dtype: int64"
            ]
          },
          "metadata": {},
          "execution_count": 457
        }
      ]
    },
    {
      "cell_type": "code",
      "metadata": {
        "id": "-UyLJleDDnnE"
      },
      "source": [
        "#dados não informados (NaN) sobre o tipo de reação transfusional, será acrecentando nos valores nulos a expressão : 'Não informado'\n",
        "df_hemo_analise.fillna('Não informado',inplace=True)"
      ],
      "execution_count": 458,
      "outputs": []
    },
    {
      "cell_type": "code",
      "metadata": {
        "colab": {
          "base_uri": "https://localhost:8080/",
          "height": 309
        },
        "id": "oM5AiAyjEY6F",
        "outputId": "7d55f17a-c13b-414b-f91c-144a79225d84"
      },
      "source": [
        "df_hemo_analise.head()"
      ],
      "execution_count": 459,
      "outputs": [
        {
          "output_type": "execute_result",
          "data": {
            "text/html": [
              "<div>\n",
              "<style scoped>\n",
              "    .dataframe tbody tr th:only-of-type {\n",
              "        vertical-align: middle;\n",
              "    }\n",
              "\n",
              "    .dataframe tbody tr th {\n",
              "        vertical-align: top;\n",
              "    }\n",
              "\n",
              "    .dataframe thead th {\n",
              "        text-align: right;\n",
              "    }\n",
              "</style>\n",
              "<table border=\"1\" class=\"dataframe\">\n",
              "  <thead>\n",
              "    <tr style=\"text-align: right;\">\n",
              "      <th></th>\n",
              "      <th>NU_NOTIFICACAO</th>\n",
              "      <th>TIPO_REACAO_TRANSFUSIONAL</th>\n",
              "      <th>GRAU_RISCO</th>\n",
              "      <th>FAIXA_ETARIA_PACIENTE</th>\n",
              "      <th>DS_TEMPORALIDADE_REACAO</th>\n",
              "      <th>TIPO_EVENTO_ADVERSO</th>\n",
              "      <th>DS_ESPECIFICACAO_EVENTO</th>\n",
              "    </tr>\n",
              "  </thead>\n",
              "  <tbody>\n",
              "    <tr>\n",
              "      <th>0</th>\n",
              "      <td>200612000141</td>\n",
              "      <td>Reação alérgica (ALG)</td>\n",
              "      <td>Grau I   - Leve</td>\n",
              "      <td>DE 60 A 69 ANOS</td>\n",
              "      <td>IMEDIATA</td>\n",
              "      <td>Reação transfusional</td>\n",
              "      <td>Não informado</td>\n",
              "    </tr>\n",
              "    <tr>\n",
              "      <th>1</th>\n",
              "      <td>200612000144</td>\n",
              "      <td>Reação alérgica (ALG)</td>\n",
              "      <td>Grau I   - Leve</td>\n",
              "      <td>DE 30 A 39 ANOS</td>\n",
              "      <td>IMEDIATA</td>\n",
              "      <td>Reação transfusional</td>\n",
              "      <td>Não informado</td>\n",
              "    </tr>\n",
              "    <tr>\n",
              "      <th>2</th>\n",
              "      <td>200612000146</td>\n",
              "      <td>Sobrecarga circulatória associada à transfusão...</td>\n",
              "      <td>Grau III - Grave</td>\n",
              "      <td>DE 60 A 69 ANOS</td>\n",
              "      <td>IMEDIATA</td>\n",
              "      <td>Reação transfusional</td>\n",
              "      <td>Não informado</td>\n",
              "    </tr>\n",
              "    <tr>\n",
              "      <th>3</th>\n",
              "      <td>200612000152</td>\n",
              "      <td>Outras reações imediatas (OI)</td>\n",
              "      <td>Grau III - Grave</td>\n",
              "      <td>MAIOR DE 70 ANOS</td>\n",
              "      <td>IMEDIATA</td>\n",
              "      <td>Reação transfusional</td>\n",
              "      <td>Não informado</td>\n",
              "    </tr>\n",
              "    <tr>\n",
              "      <th>4</th>\n",
              "      <td>200612000154</td>\n",
              "      <td>Reação febril não hemolítica (RFNH)</td>\n",
              "      <td>Grau I   - Leve</td>\n",
              "      <td>MAIOR DE 70 ANOS</td>\n",
              "      <td>IMEDIATA</td>\n",
              "      <td>Reação transfusional</td>\n",
              "      <td>Não informado</td>\n",
              "    </tr>\n",
              "  </tbody>\n",
              "</table>\n",
              "</div>"
            ],
            "text/plain": [
              "   NU_NOTIFICACAO                          TIPO_REACAO_TRANSFUSIONAL        GRAU_RISCO FAIXA_ETARIA_PACIENTE DS_TEMPORALIDADE_REACAO   TIPO_EVENTO_ADVERSO DS_ESPECIFICACAO_EVENTO\n",
              "0    200612000141                              Reação alérgica (ALG)   Grau I   - Leve       DE 60 A 69 ANOS                IMEDIATA  Reação transfusional           Não informado\n",
              "1    200612000144                              Reação alérgica (ALG)   Grau I   - Leve       DE 30 A 39 ANOS                IMEDIATA  Reação transfusional           Não informado\n",
              "2    200612000146  Sobrecarga circulatória associada à transfusão...  Grau III - Grave       DE 60 A 69 ANOS                IMEDIATA  Reação transfusional           Não informado\n",
              "3    200612000152                      Outras reações imediatas (OI)  Grau III - Grave      MAIOR DE 70 ANOS                IMEDIATA  Reação transfusional           Não informado\n",
              "4    200612000154                Reação febril não hemolítica (RFNH)   Grau I   - Leve      MAIOR DE 70 ANOS                IMEDIATA  Reação transfusional           Não informado"
            ]
          },
          "metadata": {},
          "execution_count": 459
        }
      ]
    },
    {
      "cell_type": "code",
      "metadata": {
        "colab": {
          "base_uri": "https://localhost:8080/"
        },
        "id": "7LwUMo-CGMQV",
        "outputId": "065302d2-6c2b-4c50-db0a-c0c6233fa221"
      },
      "source": [
        "np.unique(df_hemo_analise['GRAU_RISCO'])"
      ],
      "execution_count": 460,
      "outputs": [
        {
          "output_type": "execute_result",
          "data": {
            "text/plain": [
              "array(['Grau I   - Leve', 'Grau II  - Moderado', 'Grau III - Grave',\n",
              "       'Grau IV  - Óbito', 'Não informado'], dtype=object)"
            ]
          },
          "metadata": {},
          "execution_count": 460
        }
      ]
    },
    {
      "cell_type": "code",
      "metadata": {
        "id": "b_dbYyqIG7Ef"
      },
      "source": [
        "#serão excluídos os registro que estão como não informado no campo GRAU_RISCO, pois o mesmo fará parte da minha Classe, \n",
        "#os demais campos serão meus previsores\n",
        "df_hemo_analise_trat = df_hemo_analise.drop(df_hemo_analise[df_hemo_analise['GRAU_RISCO'] =='Não informado'].index)\n"
      ],
      "execution_count": 461,
      "outputs": []
    },
    {
      "cell_type": "code",
      "metadata": {
        "colab": {
          "base_uri": "https://localhost:8080/"
        },
        "id": "mXx6LFqOKkxM",
        "outputId": "8acc1b4c-d179-4425-dbe5-e952bf62ae9b"
      },
      "source": [
        "np.unique(df_hemo_analise_trat['GRAU_RISCO'])"
      ],
      "execution_count": 462,
      "outputs": [
        {
          "output_type": "execute_result",
          "data": {
            "text/plain": [
              "array(['Grau I   - Leve', 'Grau II  - Moderado', 'Grau III - Grave',\n",
              "       'Grau IV  - Óbito'], dtype=object)"
            ]
          },
          "metadata": {},
          "execution_count": 462
        }
      ]
    },
    {
      "cell_type": "code",
      "metadata": {
        "colab": {
          "base_uri": "https://localhost:8080/"
        },
        "id": "e-sIucD4LIDU",
        "outputId": "dcc31c2b-7013-4582-e1a4-d04ee616c6d3"
      },
      "source": [
        "df_hemo_analise_trat.isnull().sum()"
      ],
      "execution_count": 463,
      "outputs": [
        {
          "output_type": "execute_result",
          "data": {
            "text/plain": [
              "NU_NOTIFICACAO               0\n",
              "TIPO_REACAO_TRANSFUSIONAL    0\n",
              "GRAU_RISCO                   0\n",
              "FAIXA_ETARIA_PACIENTE        0\n",
              "DS_TEMPORALIDADE_REACAO      0\n",
              "TIPO_EVENTO_ADVERSO          0\n",
              "DS_ESPECIFICACAO_EVENTO      0\n",
              "dtype: int64"
            ]
          },
          "metadata": {},
          "execution_count": 463
        }
      ]
    },
    {
      "cell_type": "code",
      "metadata": {
        "colab": {
          "base_uri": "https://localhost:8080/"
        },
        "id": "ef7wCltWLM88",
        "outputId": "316b138c-1578-407e-80fd-98a561c9c3ab"
      },
      "source": [
        "df_hemo_analise_trat.count()"
      ],
      "execution_count": 464,
      "outputs": [
        {
          "output_type": "execute_result",
          "data": {
            "text/plain": [
              "NU_NOTIFICACAO               146927\n",
              "TIPO_REACAO_TRANSFUSIONAL    146927\n",
              "GRAU_RISCO                   146927\n",
              "FAIXA_ETARIA_PACIENTE        146927\n",
              "DS_TEMPORALIDADE_REACAO      146927\n",
              "TIPO_EVENTO_ADVERSO          146927\n",
              "DS_ESPECIFICACAO_EVENTO      146927\n",
              "dtype: int64"
            ]
          },
          "metadata": {},
          "execution_count": 464
        }
      ]
    },
    {
      "cell_type": "code",
      "metadata": {
        "colab": {
          "base_uri": "https://localhost:8080/",
          "height": 309
        },
        "id": "Pcm-mxX2R2VN",
        "outputId": "9682b030-4fe8-4ff6-8ceb-7ce98e37657c"
      },
      "source": [
        "df_hemo_analise_trat.head()"
      ],
      "execution_count": 465,
      "outputs": [
        {
          "output_type": "execute_result",
          "data": {
            "text/html": [
              "<div>\n",
              "<style scoped>\n",
              "    .dataframe tbody tr th:only-of-type {\n",
              "        vertical-align: middle;\n",
              "    }\n",
              "\n",
              "    .dataframe tbody tr th {\n",
              "        vertical-align: top;\n",
              "    }\n",
              "\n",
              "    .dataframe thead th {\n",
              "        text-align: right;\n",
              "    }\n",
              "</style>\n",
              "<table border=\"1\" class=\"dataframe\">\n",
              "  <thead>\n",
              "    <tr style=\"text-align: right;\">\n",
              "      <th></th>\n",
              "      <th>NU_NOTIFICACAO</th>\n",
              "      <th>TIPO_REACAO_TRANSFUSIONAL</th>\n",
              "      <th>GRAU_RISCO</th>\n",
              "      <th>FAIXA_ETARIA_PACIENTE</th>\n",
              "      <th>DS_TEMPORALIDADE_REACAO</th>\n",
              "      <th>TIPO_EVENTO_ADVERSO</th>\n",
              "      <th>DS_ESPECIFICACAO_EVENTO</th>\n",
              "    </tr>\n",
              "  </thead>\n",
              "  <tbody>\n",
              "    <tr>\n",
              "      <th>0</th>\n",
              "      <td>200612000141</td>\n",
              "      <td>Reação alérgica (ALG)</td>\n",
              "      <td>Grau I   - Leve</td>\n",
              "      <td>DE 60 A 69 ANOS</td>\n",
              "      <td>IMEDIATA</td>\n",
              "      <td>Reação transfusional</td>\n",
              "      <td>Não informado</td>\n",
              "    </tr>\n",
              "    <tr>\n",
              "      <th>1</th>\n",
              "      <td>200612000144</td>\n",
              "      <td>Reação alérgica (ALG)</td>\n",
              "      <td>Grau I   - Leve</td>\n",
              "      <td>DE 30 A 39 ANOS</td>\n",
              "      <td>IMEDIATA</td>\n",
              "      <td>Reação transfusional</td>\n",
              "      <td>Não informado</td>\n",
              "    </tr>\n",
              "    <tr>\n",
              "      <th>2</th>\n",
              "      <td>200612000146</td>\n",
              "      <td>Sobrecarga circulatória associada à transfusão...</td>\n",
              "      <td>Grau III - Grave</td>\n",
              "      <td>DE 60 A 69 ANOS</td>\n",
              "      <td>IMEDIATA</td>\n",
              "      <td>Reação transfusional</td>\n",
              "      <td>Não informado</td>\n",
              "    </tr>\n",
              "    <tr>\n",
              "      <th>3</th>\n",
              "      <td>200612000152</td>\n",
              "      <td>Outras reações imediatas (OI)</td>\n",
              "      <td>Grau III - Grave</td>\n",
              "      <td>MAIOR DE 70 ANOS</td>\n",
              "      <td>IMEDIATA</td>\n",
              "      <td>Reação transfusional</td>\n",
              "      <td>Não informado</td>\n",
              "    </tr>\n",
              "    <tr>\n",
              "      <th>4</th>\n",
              "      <td>200612000154</td>\n",
              "      <td>Reação febril não hemolítica (RFNH)</td>\n",
              "      <td>Grau I   - Leve</td>\n",
              "      <td>MAIOR DE 70 ANOS</td>\n",
              "      <td>IMEDIATA</td>\n",
              "      <td>Reação transfusional</td>\n",
              "      <td>Não informado</td>\n",
              "    </tr>\n",
              "  </tbody>\n",
              "</table>\n",
              "</div>"
            ],
            "text/plain": [
              "   NU_NOTIFICACAO                          TIPO_REACAO_TRANSFUSIONAL        GRAU_RISCO FAIXA_ETARIA_PACIENTE DS_TEMPORALIDADE_REACAO   TIPO_EVENTO_ADVERSO DS_ESPECIFICACAO_EVENTO\n",
              "0    200612000141                              Reação alérgica (ALG)   Grau I   - Leve       DE 60 A 69 ANOS                IMEDIATA  Reação transfusional           Não informado\n",
              "1    200612000144                              Reação alérgica (ALG)   Grau I   - Leve       DE 30 A 39 ANOS                IMEDIATA  Reação transfusional           Não informado\n",
              "2    200612000146  Sobrecarga circulatória associada à transfusão...  Grau III - Grave       DE 60 A 69 ANOS                IMEDIATA  Reação transfusional           Não informado\n",
              "3    200612000152                      Outras reações imediatas (OI)  Grau III - Grave      MAIOR DE 70 ANOS                IMEDIATA  Reação transfusional           Não informado\n",
              "4    200612000154                Reação febril não hemolítica (RFNH)   Grau I   - Leve      MAIOR DE 70 ANOS                IMEDIATA  Reação transfusional           Não informado"
            ]
          },
          "metadata": {},
          "execution_count": 465
        }
      ]
    },
    {
      "cell_type": "code",
      "metadata": {
        "id": "nIAb6pcxO0-f"
      },
      "source": [
        "#Alterar a posição do campo no dataframe\n",
        "df_hemo_analise_trat = df_hemo_analise_trat[['TIPO_REACAO_TRANSFUSIONAL',\t'FAIXA_ETARIA_PACIENTE',\t'DS_TEMPORALIDADE_REACAO',\t'TIPO_EVENTO_ADVERSO',\t'DS_ESPECIFICACAO_EVENTO','GRAU_RISCO']]"
      ],
      "execution_count": 466,
      "outputs": []
    },
    {
      "cell_type": "code",
      "metadata": {
        "colab": {
          "base_uri": "https://localhost:8080/",
          "height": 309
        },
        "id": "02zlNpq-RMBW",
        "outputId": "9a0c0522-7544-4ec6-a19e-930a1410a4ac"
      },
      "source": [
        "df_hemo_analise_trat.head()"
      ],
      "execution_count": 467,
      "outputs": [
        {
          "output_type": "execute_result",
          "data": {
            "text/html": [
              "<div>\n",
              "<style scoped>\n",
              "    .dataframe tbody tr th:only-of-type {\n",
              "        vertical-align: middle;\n",
              "    }\n",
              "\n",
              "    .dataframe tbody tr th {\n",
              "        vertical-align: top;\n",
              "    }\n",
              "\n",
              "    .dataframe thead th {\n",
              "        text-align: right;\n",
              "    }\n",
              "</style>\n",
              "<table border=\"1\" class=\"dataframe\">\n",
              "  <thead>\n",
              "    <tr style=\"text-align: right;\">\n",
              "      <th></th>\n",
              "      <th>TIPO_REACAO_TRANSFUSIONAL</th>\n",
              "      <th>FAIXA_ETARIA_PACIENTE</th>\n",
              "      <th>DS_TEMPORALIDADE_REACAO</th>\n",
              "      <th>TIPO_EVENTO_ADVERSO</th>\n",
              "      <th>DS_ESPECIFICACAO_EVENTO</th>\n",
              "      <th>GRAU_RISCO</th>\n",
              "    </tr>\n",
              "  </thead>\n",
              "  <tbody>\n",
              "    <tr>\n",
              "      <th>0</th>\n",
              "      <td>Reação alérgica (ALG)</td>\n",
              "      <td>DE 60 A 69 ANOS</td>\n",
              "      <td>IMEDIATA</td>\n",
              "      <td>Reação transfusional</td>\n",
              "      <td>Não informado</td>\n",
              "      <td>Grau I   - Leve</td>\n",
              "    </tr>\n",
              "    <tr>\n",
              "      <th>1</th>\n",
              "      <td>Reação alérgica (ALG)</td>\n",
              "      <td>DE 30 A 39 ANOS</td>\n",
              "      <td>IMEDIATA</td>\n",
              "      <td>Reação transfusional</td>\n",
              "      <td>Não informado</td>\n",
              "      <td>Grau I   - Leve</td>\n",
              "    </tr>\n",
              "    <tr>\n",
              "      <th>2</th>\n",
              "      <td>Sobrecarga circulatória associada à transfusão...</td>\n",
              "      <td>DE 60 A 69 ANOS</td>\n",
              "      <td>IMEDIATA</td>\n",
              "      <td>Reação transfusional</td>\n",
              "      <td>Não informado</td>\n",
              "      <td>Grau III - Grave</td>\n",
              "    </tr>\n",
              "    <tr>\n",
              "      <th>3</th>\n",
              "      <td>Outras reações imediatas (OI)</td>\n",
              "      <td>MAIOR DE 70 ANOS</td>\n",
              "      <td>IMEDIATA</td>\n",
              "      <td>Reação transfusional</td>\n",
              "      <td>Não informado</td>\n",
              "      <td>Grau III - Grave</td>\n",
              "    </tr>\n",
              "    <tr>\n",
              "      <th>4</th>\n",
              "      <td>Reação febril não hemolítica (RFNH)</td>\n",
              "      <td>MAIOR DE 70 ANOS</td>\n",
              "      <td>IMEDIATA</td>\n",
              "      <td>Reação transfusional</td>\n",
              "      <td>Não informado</td>\n",
              "      <td>Grau I   - Leve</td>\n",
              "    </tr>\n",
              "  </tbody>\n",
              "</table>\n",
              "</div>"
            ],
            "text/plain": [
              "                           TIPO_REACAO_TRANSFUSIONAL FAIXA_ETARIA_PACIENTE DS_TEMPORALIDADE_REACAO   TIPO_EVENTO_ADVERSO DS_ESPECIFICACAO_EVENTO        GRAU_RISCO\n",
              "0                              Reação alérgica (ALG)       DE 60 A 69 ANOS                IMEDIATA  Reação transfusional           Não informado   Grau I   - Leve\n",
              "1                              Reação alérgica (ALG)       DE 30 A 39 ANOS                IMEDIATA  Reação transfusional           Não informado   Grau I   - Leve\n",
              "2  Sobrecarga circulatória associada à transfusão...       DE 60 A 69 ANOS                IMEDIATA  Reação transfusional           Não informado  Grau III - Grave\n",
              "3                      Outras reações imediatas (OI)      MAIOR DE 70 ANOS                IMEDIATA  Reação transfusional           Não informado  Grau III - Grave\n",
              "4                Reação febril não hemolítica (RFNH)      MAIOR DE 70 ANOS                IMEDIATA  Reação transfusional           Não informado   Grau I   - Leve"
            ]
          },
          "metadata": {},
          "execution_count": 467
        }
      ]
    },
    {
      "cell_type": "markdown",
      "metadata": {
        "id": "ecfmlsPQMeON"
      },
      "source": [
        "#Criação das variáveis Provisores e Classe"
      ]
    },
    {
      "cell_type": "code",
      "metadata": {
        "colab": {
          "base_uri": "https://localhost:8080/"
        },
        "id": "xoNrLzlydcxx",
        "outputId": "f64a1ea2-9da4-4ef7-d086-a71914da6f63"
      },
      "source": [
        "df_hemo_analise_trat.columns"
      ],
      "execution_count": 468,
      "outputs": [
        {
          "output_type": "execute_result",
          "data": {
            "text/plain": [
              "Index(['TIPO_REACAO_TRANSFUSIONAL', 'FAIXA_ETARIA_PACIENTE', 'DS_TEMPORALIDADE_REACAO', 'TIPO_EVENTO_ADVERSO', 'DS_ESPECIFICACAO_EVENTO', 'GRAU_RISCO'], dtype='object')"
            ]
          },
          "metadata": {},
          "execution_count": 468
        }
      ]
    },
    {
      "cell_type": "code",
      "metadata": {
        "colab": {
          "base_uri": "https://localhost:8080/"
        },
        "id": "cAH3N4ixjIic",
        "outputId": "f093ede6-95f1-483f-dfb6-a8caf87a143e"
      },
      "source": [
        "df_hemo_analise_trat.info()"
      ],
      "execution_count": 469,
      "outputs": [
        {
          "output_type": "stream",
          "name": "stdout",
          "text": [
            "<class 'pandas.core.frame.DataFrame'>\n",
            "Int64Index: 146927 entries, 0 to 148921\n",
            "Data columns (total 6 columns):\n",
            " #   Column                     Non-Null Count   Dtype \n",
            "---  ------                     --------------   ----- \n",
            " 0   TIPO_REACAO_TRANSFUSIONAL  146927 non-null  object\n",
            " 1   FAIXA_ETARIA_PACIENTE      146927 non-null  object\n",
            " 2   DS_TEMPORALIDADE_REACAO    146927 non-null  object\n",
            " 3   TIPO_EVENTO_ADVERSO        146927 non-null  object\n",
            " 4   DS_ESPECIFICACAO_EVENTO    146927 non-null  object\n",
            " 5   GRAU_RISCO                 146927 non-null  object\n",
            "dtypes: object(6)\n",
            "memory usage: 7.8+ MB\n"
          ]
        }
      ]
    },
    {
      "cell_type": "code",
      "metadata": {
        "id": "6QWkTyshmzhb"
      },
      "source": [
        "##Escalonamento dos valores\n",
        "## tratar atributos categóricos , transformando string para número\n",
        "\n",
        "from sklearn.preprocessing import LabelEncoder"
      ],
      "execution_count": 470,
      "outputs": []
    },
    {
      "cell_type": "code",
      "metadata": {
        "id": "MRIiPKhrLWf1"
      },
      "source": [
        "#variáveis provisor\n",
        "X_hemo= df_hemo_analise_trat.iloc[:,0:5].values\n",
        "#variáveis classe\n",
        "y_hemo= df_hemo_analise_trat.iloc[:,5].values"
      ],
      "execution_count": 471,
      "outputs": []
    },
    {
      "cell_type": "code",
      "metadata": {
        "colab": {
          "base_uri": "https://localhost:8080/"
        },
        "id": "BxLR4B29S0mA",
        "outputId": "693a89d3-a9d6-442b-a057-758ea9c33956"
      },
      "source": [
        "X_hemo[:,0]"
      ],
      "execution_count": 472,
      "outputs": [
        {
          "output_type": "execute_result",
          "data": {
            "text/plain": [
              "array(['Reação alérgica (ALG)', 'Reação alérgica (ALG)',\n",
              "       'Sobrecarga circulatória associada à transfusão (SC/TACO)', ...,\n",
              "       'Reação alérgica (ALG)', 'Reação alérgica (ALG)',\n",
              "       'Reação alérgica (ALG)'], dtype=object)"
            ]
          },
          "metadata": {},
          "execution_count": 472
        }
      ]
    },
    {
      "cell_type": "code",
      "metadata": {
        "colab": {
          "base_uri": "https://localhost:8080/"
        },
        "id": "4A_22boCOSTl",
        "outputId": "4bcfd2e2-45d8-49b4-92ec-d51b9c201f6f"
      },
      "source": [
        "y_hemo"
      ],
      "execution_count": 473,
      "outputs": [
        {
          "output_type": "execute_result",
          "data": {
            "text/plain": [
              "array(['Grau I   - Leve', 'Grau I   - Leve', 'Grau III - Grave', ...,\n",
              "       'Grau I   - Leve', 'Grau I   - Leve', 'Grau I   - Leve'],\n",
              "      dtype=object)"
            ]
          },
          "metadata": {},
          "execution_count": 473
        }
      ]
    },
    {
      "cell_type": "code",
      "metadata": {
        "colab": {
          "base_uri": "https://localhost:8080/"
        },
        "id": "hHygi4IVSurN",
        "outputId": "79962a6f-3ba1-4655-b554-c8e2680493d4"
      },
      "source": [
        "type(Y_hemo)"
      ],
      "execution_count": 388,
      "outputs": [
        {
          "output_type": "execute_result",
          "data": {
            "text/plain": [
              "numpy.ndarray"
            ]
          },
          "metadata": {},
          "execution_count": 388
        }
      ]
    },
    {
      "cell_type": "code",
      "metadata": {
        "id": "7qEi2WQ2TJnw"
      },
      "source": [
        "label_encoder_TIPO_REACAO_TRANSFUSIONAL = LabelEncoder()\n",
        "label_encoder_FAIXA_ETARIA_PACIENTE = LabelEncoder()\n",
        "label_encoder_DS_TEMPORALIDADE_REACAO = LabelEncoder()\n",
        "label_encoder_TIPO_EVENTO_ADVERSO = LabelEncoder()\n",
        "label_encoder_DS_ESPECIFICACAO_EVENTO = LabelEncoder()\n",
        "\n",
        "X_hemo[:,0]= label_encoder_TIPO_REACAO_TRANSFUSIONAL.fit_transform(X_hemo[:,0])\n",
        "X_hemo[:,1]= label_encoder_FAIXA_ETARIA_PACIENTE.fit_transform(X_hemo[:,1])\n",
        "X_hemo[:,2]= label_encoder_DS_TEMPORALIDADE_REACAO.fit_transform(X_hemo[:,2])\n",
        "X_hemo[:,3]= label_encoder_TIPO_EVENTO_ADVERSO.fit_transform(X_hemo[:,3])\n",
        "X_hemo[:,4]= label_encoder_DS_ESPECIFICACAO_EVENTO.fit_transform(X_hemo[:,4])\n"
      ],
      "execution_count": 474,
      "outputs": []
    },
    {
      "cell_type": "code",
      "metadata": {
        "colab": {
          "base_uri": "https://localhost:8080/"
        },
        "id": "j9NVNsEMgCNO",
        "outputId": "5ddd7bf9-e550-41f1-b52e-55c02924a820"
      },
      "source": [
        "X_hemo"
      ],
      "execution_count": 475,
      "outputs": [
        {
          "output_type": "execute_result",
          "data": {
            "text/plain": [
              "array([[11, 8, 0, 0, 0],\n",
              "       [11, 4, 0, 0, 0],\n",
              "       [18, 8, 0, 0, 0],\n",
              "       ...,\n",
              "       [11, 3, 0, 0, 0],\n",
              "       [11, 5, 0, 0, 0],\n",
              "       [11, 2, 0, 0, 0]], dtype=object)"
            ]
          },
          "metadata": {},
          "execution_count": 475
        }
      ]
    },
    {
      "cell_type": "code",
      "metadata": {
        "id": "q-5lYCPxtOQz"
      },
      "source": [
        "#O One Hot Enconding irá gerar vetores binários para cada valor inteiro.\n",
        "#o objetivo é não premitir que os valores gerados no LabelEncoder tenham pesos diferentes para váriáveis que não possue ordenação \n",
        "#Ou ainda, o algoritmo poderia calcular a média desses valores de alguma forma e dar pesos específicos para essa feature.\n",
        "#Esses valores podem prejudicar a eficiência do algoritmo, haja visto, que estes números não significam nada, apenas foram codificados para representar valores categóricos.\n",
        "\n",
        "from sklearn.preprocessing import OneHotEncoder\n",
        "from sklearn.compose import ColumnTransformer\n"
      ],
      "execution_count": 476,
      "outputs": []
    },
    {
      "cell_type": "code",
      "metadata": {
        "id": "d6Ql_8Omvxyl"
      },
      "source": [
        "onehotencoder_hemo = ColumnTransformer(transformers=[('OneHot',OneHotEncoder(),[0,1,2,3,4])],remainder='passthrough')\n",
        "X_hemo = onehotencoder_hemo.fit_transform(X_hemo).toarray()"
      ],
      "execution_count": 477,
      "outputs": []
    },
    {
      "cell_type": "code",
      "metadata": {
        "colab": {
          "base_uri": "https://localhost:8080/"
        },
        "id": "vdbH33K-ya6u",
        "outputId": "a84d699a-1735-4267-df35-743b98b86f6b"
      },
      "source": [
        "X_hemo.shape"
      ],
      "execution_count": 393,
      "outputs": [
        {
          "output_type": "execute_result",
          "data": {
            "text/plain": [
              "(146927, 35)"
            ]
          },
          "metadata": {},
          "execution_count": 393
        }
      ]
    },
    {
      "cell_type": "code",
      "metadata": {
        "id": "1JHXBJ1bzTj-"
      },
      "source": [
        "#Divisão em base de Treinamento e Teste\n",
        "\n",
        "from sklearn.model_selection import train_test_split"
      ],
      "execution_count": 478,
      "outputs": []
    },
    {
      "cell_type": "code",
      "metadata": {
        "id": "RUG4XiYM12Vt"
      },
      "source": [
        "#Criar variáveis\n",
        "X_hemo_treinamento, X_hemo_teste, y_hemo_treinamento, y_hemo_teste = train_test_split(X_hemo,y_hemo,test_size=0.25,random_state = 0)\n"
      ],
      "execution_count": 479,
      "outputs": []
    },
    {
      "cell_type": "code",
      "metadata": {
        "colab": {
          "base_uri": "https://localhost:8080/"
        },
        "id": "NE7uavlR55-s",
        "outputId": "9f66198e-ebe1-4e7c-b49c-e75eb66f8f15"
      },
      "source": [
        "X_hemo_treinamento.shape, y_hemo_treinamento.shape"
      ],
      "execution_count": 480,
      "outputs": [
        {
          "output_type": "execute_result",
          "data": {
            "text/plain": [
              "((110195, 35), (110195,))"
            ]
          },
          "metadata": {},
          "execution_count": 480
        }
      ]
    },
    {
      "cell_type": "code",
      "metadata": {
        "colab": {
          "base_uri": "https://localhost:8080/"
        },
        "id": "3mwMBDtm6Ltc",
        "outputId": "80d7a911-1a4c-45b3-ab35-8f2395c38c0f"
      },
      "source": [
        "X_hemo_teste.shape, y_hemo_teste.shape"
      ],
      "execution_count": 481,
      "outputs": [
        {
          "output_type": "execute_result",
          "data": {
            "text/plain": [
              "((36732, 35), (36732,))"
            ]
          },
          "metadata": {},
          "execution_count": 481
        }
      ]
    },
    {
      "cell_type": "code",
      "metadata": {
        "id": "rDkEkHur7zgT"
      },
      "source": [
        "#salvando as várias para reutilização\n",
        "import pickle"
      ],
      "execution_count": 309,
      "outputs": []
    },
    {
      "cell_type": "code",
      "metadata": {
        "id": "ebJEKFKZ77Fb"
      },
      "source": [
        "with open('hemo.pkl', mode = 'wb') as f:\n",
        "  pickle.dump([X_hemo_treinamento,y_hemo_treinamento,X_hemo_teste,y_hemo_teste],f)"
      ],
      "execution_count": 311,
      "outputs": []
    },
    {
      "cell_type": "code",
      "metadata": {
        "id": "ncuqiOEQA1Ur"
      },
      "source": [
        "from sklearn.naive_bayes import GaussianNB"
      ],
      "execution_count": 313,
      "outputs": []
    },
    {
      "cell_type": "code",
      "metadata": {
        "colab": {
          "base_uri": "https://localhost:8080/"
        },
        "id": "_ulAOOgS_CoM",
        "outputId": "33465bcb-2b92-4883-bc6f-2da3fc587674"
      },
      "source": [
        "#Executando processamento dos algoritmos\n",
        "naive_hemo = GaussianNB()\n",
        "naive_hemo.fit(X_hemo_treinamento, y_hemo_treinamento)\n",
        "previsoes = naive_hemo.predict(X_hemo_teste)\n",
        "previsoes"
      ],
      "execution_count": 314,
      "outputs": [
        {
          "output_type": "execute_result",
          "data": {
            "text/plain": [
              "array(['Grau IV  - Óbito', 'Grau I   - Leve', 'Grau I   - Leve', ...,\n",
              "       'Grau I   - Leve', 'Grau I   - Leve', 'Grau IV  - Óbito'],\n",
              "      dtype='<U19')"
            ]
          },
          "metadata": {},
          "execution_count": 314
        }
      ]
    },
    {
      "cell_type": "code",
      "metadata": {
        "colab": {
          "base_uri": "https://localhost:8080/"
        },
        "id": "EAnIRODoBOzM",
        "outputId": "3316da9a-22d5-4951-d0a4-e63a1565260d"
      },
      "source": [
        "y_hemo_teste"
      ],
      "execution_count": 315,
      "outputs": [
        {
          "output_type": "execute_result",
          "data": {
            "text/plain": [
              "array(['Grau I   - Leve', 'Grau I   - Leve', 'Grau I   - Leve', ...,\n",
              "       'Grau I   - Leve', 'Grau I   - Leve', 'Grau I   - Leve'],\n",
              "      dtype=object)"
            ]
          },
          "metadata": {},
          "execution_count": 315
        }
      ]
    },
    {
      "cell_type": "code",
      "metadata": {
        "id": "9Qy7REcfCvgc"
      },
      "source": [
        "from sklearn.metrics import accuracy_score, confusion_matrix, classification_report\n"
      ],
      "execution_count": 332,
      "outputs": []
    },
    {
      "cell_type": "code",
      "metadata": {
        "colab": {
          "base_uri": "https://localhost:8080/"
        },
        "id": "2d-NnDQpC8SL",
        "outputId": "bc1d3bd4-dc8c-44c2-a848-1ef56a6a03f2"
      },
      "source": [
        "accuracy_score(y_hemo_teste, previsoes)"
      ],
      "execution_count": 317,
      "outputs": [
        {
          "output_type": "execute_result",
          "data": {
            "text/plain": [
              "0.45875530872263964"
            ]
          },
          "metadata": {},
          "execution_count": 317
        }
      ]
    },
    {
      "cell_type": "code",
      "metadata": {
        "colab": {
          "base_uri": "https://localhost:8080/"
        },
        "id": "jj4zeOm0DF1l",
        "outputId": "773faaa6-c176-4ca2-8a4c-d48502891855"
      },
      "source": [
        "confusion_matrix(y_hemo_teste,previsoes)"
      ],
      "execution_count": 318,
      "outputs": [
        {
          "output_type": "execute_result",
          "data": {
            "text/plain": [
              "array([[16436,     1, 11731,  2435],\n",
              "       [ 1692,     0,  2077,  1237],\n",
              "       [   91,     0,   352,   603],\n",
              "       [    4,     0,    10,    63]])"
            ]
          },
          "metadata": {},
          "execution_count": 318
        }
      ]
    },
    {
      "cell_type": "code",
      "metadata": {
        "id": "7mu6q2WpE0ht"
      },
      "source": [
        "#gera uma matrix mas amigável\n",
        "from yellowbrick.classifier import ConfusionMatrix\n"
      ],
      "execution_count": 330,
      "outputs": []
    },
    {
      "cell_type": "code",
      "metadata": {
        "colab": {
          "base_uri": "https://localhost:8080/",
          "height": 459
        },
        "id": "65YEY7aaFFTX",
        "outputId": "6beb64c5-3cb3-4fa5-a2b9-b01312331a11"
      },
      "source": [
        "cm= ConfusionMatrix(naive_hemo)\n",
        "cm.fit(X_hemo_treinamento,y_hemo_treinamento)\n",
        "cm.score(X_hemo_teste, y_hemo_teste)"
      ],
      "execution_count": 331,
      "outputs": [
        {
          "output_type": "execute_result",
          "data": {
            "text/plain": [
              "0.45875530872263964"
            ]
          },
          "metadata": {},
          "execution_count": 331
        },
        {
          "output_type": "display_data",
          "data": {
            "image/png": "[encoded data removed]",
            "text/plain": [
              "<Figure size 576x396 with 1 Axes>"
            ]
          },
          "metadata": {}
        }
      ]
    },
    {
      "cell_type": "code",
      "metadata": {
        "colab": {
          "base_uri": "https://localhost:8080/"
        },
        "id": "1PVgEdLuI0Z7",
        "outputId": "d3a78af3-81ad-4227-cd25-4d00ee3942ae"
      },
      "source": [
        "print(classification_report(y_hemo_teste,previsoes))"
      ],
      "execution_count": 333,
      "outputs": [
        {
          "output_type": "stream",
          "name": "stdout",
          "text": [
            "                     precision    recall  f1-score   support\n",
            "\n",
            "    Grau I   - Leve       0.90      0.54      0.67     30603\n",
            "Grau II  - Moderado       0.00      0.00      0.00      5006\n",
            "   Grau III - Grave       0.02      0.34      0.05      1046\n",
            "   Grau IV  - Óbito       0.01      0.82      0.03        77\n",
            "\n",
            "           accuracy                           0.46     36732\n",
            "          macro avg       0.24      0.42      0.19     36732\n",
            "       weighted avg       0.75      0.46      0.56     36732\n",
            "\n"
          ]
        }
      ]
    },
    {
      "cell_type": "code",
      "metadata": {
        "id": "5SNa-zM5JWBf"
      },
      "source": [
        "from sklearn.tree import DecisionTreeClassifier"
      ],
      "execution_count": 482,
      "outputs": []
    },
    {
      "cell_type": "code",
      "metadata": {
        "colab": {
          "base_uri": "https://localhost:8080/"
        },
        "id": "RqRQhEQLJ7g6",
        "outputId": "db918405-997c-432f-ecb9-f3aeea3938a9"
      },
      "source": [
        "arvore_hemo = DecisionTreeClassifier(criterion='entropy')\n",
        "arvore_hemo.fit(X_hemo_treinamento,y_hemo_treinamento)\n"
      ],
      "execution_count": 483,
      "outputs": [
        {
          "output_type": "execute_result",
          "data": {
            "text/plain": [
              "DecisionTreeClassifier(ccp_alpha=0.0, class_weight=None, criterion='entropy',\n",
              "                       max_depth=None, max_features=None, max_leaf_nodes=None,\n",
              "                       min_impurity_decrease=0.0, min_impurity_split=None,\n",
              "                       min_samples_leaf=1, min_samples_split=2,\n",
              "                       min_weight_fraction_leaf=0.0, presort='deprecated',\n",
              "                       random_state=None, splitter='best')"
            ]
          },
          "metadata": {},
          "execution_count": 483
        }
      ]
    },
    {
      "cell_type": "code",
      "metadata": {
        "id": "DC7_7yFNL5Bd"
      },
      "source": [
        "from sklearn import tree"
      ],
      "execution_count": 484,
      "outputs": []
    },
    {
      "cell_type": "code",
      "metadata": {
        "colab": {
          "base_uri": "https://localhost:8080/"
        },
        "id": "n6MFeBwmVgFV",
        "outputId": "8ce3de26-1689-4e4a-9270-d6351fc9c931"
      },
      "source": [
        "from sklearn.metrics import accuracy_score, confusion_matrix, classification_report\n",
        "accuracy_score(y_hemo_teste, previsoes)"
      ],
      "execution_count": 485,
      "outputs": [
        {
          "output_type": "execute_result",
          "data": {
            "text/plain": [
              "0.8372536208210825"
            ]
          },
          "metadata": {},
          "execution_count": 485
        }
      ]
    },
    {
      "cell_type": "code",
      "metadata": {
        "colab": {
          "base_uri": "https://localhost:8080/"
        },
        "id": "2-udOjgxVsh7",
        "outputId": "74ef13c1-378b-4899-87c6-4175e41457fa"
      },
      "source": [
        "print(classification_report(y_hemo_teste,previsoes))"
      ],
      "execution_count": 486,
      "outputs": [
        {
          "output_type": "stream",
          "name": "stderr",
          "text": [
            "/usr/local/lib/python3.7/dist-packages/sklearn/metrics/_classification.py:1272: UndefinedMetricWarning: Precision and F-score are ill-defined and being set to 0.0 in labels with no predicted samples. Use `zero_division` parameter to control this behavior.\n",
            "  _warn_prf(average, modifier, msg_start, len(result))\n"
          ]
        },
        {
          "output_type": "stream",
          "name": "stdout",
          "text": [
            "                     precision    recall  f1-score   support\n",
            "\n",
            "    Grau I   - Leve       0.84      0.99      0.91     30603\n",
            "Grau II  - Moderado       0.39      0.02      0.05      5006\n",
            "   Grau III - Grave       0.51      0.20      0.29      1046\n",
            "   Grau IV  - Óbito       0.00      0.00      0.00        77\n",
            "\n",
            "           accuracy                           0.84     36732\n",
            "          macro avg       0.44      0.31      0.31     36732\n",
            "       weighted avg       0.77      0.84      0.78     36732\n",
            "\n"
          ]
        }
      ]
    },
    {
      "cell_type": "code",
      "metadata": {
        "colab": {
          "base_uri": "https://localhost:8080/",
          "height": 936
        },
        "id": "yBaGygoBL_AI",
        "outputId": "4ab139ce-8b06-4270-a955-7caa78025429"
      },
      "source": [
        "figura, eixos = plt.subplots(nrows=1 ,ncols=1, figsize=([20,20]))\n",
        "tree.plot_tree(arvore_hemo,filled=True);\n",
        "figura.savefig('arvore.png')\n"
      ],
      "execution_count": 487,
      "outputs": [
        {
          "output_type": "display_data",
          "data": {
            "image/png": "[encoded data removed]",
            "text/plain": [
              "<Figure size 1440x1440 with 1 Axes>"
            ]
          },
          "metadata": {}
        }
      ]
    },
    {
      "cell_type": "code",
      "metadata": {
        "id": "QA0HTBZhTPub"
      },
      "source": [
        "from sklearn.ensemble import RandomForestClassifier"
      ],
      "execution_count": 399,
      "outputs": []
    },
    {
      "cell_type": "code",
      "metadata": {
        "colab": {
          "base_uri": "https://localhost:8080/"
        },
        "id": "wV-K2bdPQlUH",
        "outputId": "10a08dd9-5894-4d18-fcae-eca9e6ad9cbc"
      },
      "source": [
        "#randomForest\n",
        "randomForest_hemo= RandomForestClassifier(n_estimators=4,criterion='entropy', random_state=0)\n",
        "randomForest_hemo.fit(X_hemo_treinamento,y_hemo_treinamento)\n",
        "\n"
      ],
      "execution_count": 442,
      "outputs": [
        {
          "output_type": "execute_result",
          "data": {
            "text/plain": [
              "RandomForestClassifier(bootstrap=True, ccp_alpha=0.0, class_weight=None,\n",
              "                       criterion='entropy', max_depth=None, max_features='auto',\n",
              "                       max_leaf_nodes=None, max_samples=None,\n",
              "                       min_impurity_decrease=0.0, min_impurity_split=None,\n",
              "                       min_samples_leaf=1, min_samples_split=2,\n",
              "                       min_weight_fraction_leaf=0.0, n_estimators=4,\n",
              "                       n_jobs=None, oob_score=False, random_state=0, verbose=0,\n",
              "                       warm_start=False)"
            ]
          },
          "metadata": {},
          "execution_count": 442
        }
      ]
    },
    {
      "cell_type": "code",
      "metadata": {
        "colab": {
          "base_uri": "https://localhost:8080/"
        },
        "id": "OQW6uJ30TY6Z",
        "outputId": "86c6eb94-6735-4ef9-ea27-23ca4fecee69"
      },
      "source": [
        "previsoes = randomForest_hemo.predict(X_hemo_teste)\n",
        "previsoes"
      ],
      "execution_count": 443,
      "outputs": [
        {
          "output_type": "execute_result",
          "data": {
            "text/plain": [
              "array(['Grau I   - Leve', 'Grau I   - Leve', 'Grau I   - Leve', ...,\n",
              "       'Grau I   - Leve', 'Grau I   - Leve', 'Grau I   - Leve'],\n",
              "      dtype=object)"
            ]
          },
          "metadata": {},
          "execution_count": 443
        }
      ]
    },
    {
      "cell_type": "code",
      "metadata": {
        "colab": {
          "base_uri": "https://localhost:8080/"
        },
        "id": "8VUQ8lYOTxs0",
        "outputId": "6da978e7-e6d1-4157-8ca8-8c01512bec8a"
      },
      "source": [
        "y_hemo_teste"
      ],
      "execution_count": 444,
      "outputs": [
        {
          "output_type": "execute_result",
          "data": {
            "text/plain": [
              "array(['Grau I   - Leve', 'Grau I   - Leve', 'Grau I   - Leve', ...,\n",
              "       'Grau I   - Leve', 'Grau I   - Leve', 'Grau I   - Leve'],\n",
              "      dtype=object)"
            ]
          },
          "metadata": {},
          "execution_count": 444
        }
      ]
    },
    {
      "cell_type": "code",
      "metadata": {
        "id": "AfuG4FzMUIp7"
      },
      "source": [
        "from sklearn.metrics import accuracy_score, confusion_matrix, classification_report"
      ],
      "execution_count": 445,
      "outputs": []
    },
    {
      "cell_type": "code",
      "metadata": {
        "colab": {
          "base_uri": "https://localhost:8080/"
        },
        "id": "12aK64vTUKkq",
        "outputId": "d235edea-8953-428a-b139-30358a7972d8"
      },
      "source": [
        "accuracy_score(y_hemo_teste, previsoes)"
      ],
      "execution_count": 446,
      "outputs": [
        {
          "output_type": "execute_result",
          "data": {
            "text/plain": [
              "0.8372536208210825"
            ]
          },
          "metadata": {},
          "execution_count": 446
        }
      ]
    },
    {
      "cell_type": "code",
      "metadata": {
        "colab": {
          "base_uri": "https://localhost:8080/"
        },
        "id": "ujf4RgtuWNoG",
        "outputId": "b76ecc48-d8d3-4b02-baed-b45632fa85c5"
      },
      "source": [
        "confusion_matrix(y_hemo_teste,previsoes)"
      ],
      "execution_count": 448,
      "outputs": [
        {
          "output_type": "execute_result",
          "data": {
            "text/plain": [
              "array([[30420,   115,    68,     0],\n",
              "       [ 4775,   120,   111,     0],\n",
              "       [  766,    66,   214,     0],\n",
              "       [   44,     4,    29,     0]])"
            ]
          },
          "metadata": {},
          "execution_count": 448
        }
      ]
    },
    {
      "cell_type": "code",
      "metadata": {
        "id": "qJPvEMWNWW9x"
      },
      "source": [
        "#gera uma matrix mas amigável\n",
        "from yellowbrick.classifier import ConfusionMatrix"
      ],
      "execution_count": 449,
      "outputs": []
    },
    {
      "cell_type": "code",
      "metadata": {
        "colab": {
          "base_uri": "https://localhost:8080/",
          "height": 459
        },
        "id": "wucRpnCqWXpj",
        "outputId": "ca78395a-cde3-44b6-8be3-b8e78a325c21"
      },
      "source": [
        "cm= ConfusionMatrix(randomForest_hemo)\n",
        "cm.fit(X_hemo_treinamento,y_hemo_treinamento)\n",
        "cm.score(X_hemo_teste, y_hemo_teste)"
      ],
      "execution_count": 450,
      "outputs": [
        {
          "output_type": "execute_result",
          "data": {
            "text/plain": [
              "0.8372536208210825"
            ]
          },
          "metadata": {},
          "execution_count": 450
        },
        {
          "output_type": "display_data",
          "data": {
            "image/png": "[encoded data removed]",
            "text/plain": [
              "<Figure size 576x396 with 1 Axes>"
            ]
          },
          "metadata": {}
        }
      ]
    },
    {
      "cell_type": "code",
      "metadata": {
        "colab": {
          "base_uri": "https://localhost:8080/"
        },
        "id": "k7Kku2lMW2Zs",
        "outputId": "46d20b16-2126-46e2-8a1d-f2c10a2cf9c3"
      },
      "source": [
        "print(classification_report(y_hemo_teste,previsoes))"
      ],
      "execution_count": 427,
      "outputs": [
        {
          "output_type": "stream",
          "name": "stdout",
          "text": [
            "                     precision    recall  f1-score   support\n",
            "\n",
            "    Grau I   - Leve       0.84      1.00      0.91     30603\n",
            "Grau II  - Moderado       0.36      0.01      0.03      5006\n",
            "   Grau III - Grave       0.51      0.20      0.29      1046\n",
            "   Grau IV  - Óbito       0.00      0.00      0.00        77\n",
            "\n",
            "           accuracy                           0.84     36732\n",
            "          macro avg       0.43      0.30      0.31     36732\n",
            "       weighted avg       0.77      0.84      0.77     36732\n",
            "\n"
          ]
        }
      ]
    }
  ]
}