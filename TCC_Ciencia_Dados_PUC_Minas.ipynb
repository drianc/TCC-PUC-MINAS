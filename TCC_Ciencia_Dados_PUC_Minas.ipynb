{
  "nbformat": 4,
  "nbformat_minor": 0,
  "metadata": {
    "colab": {
      "name": "TCC_Ciencia_Dados_PUC_Minas.ipynb",
      "provenance": [],
      "collapsed_sections": [],
      "authorship_tag": "ABX9TyOE0JIblSIG/wYrmo+gzSb8",
      "include_colab_link": true
    },
    "kernelspec": {
      "name": "python3",
      "display_name": "Python 3"
    },
    "language_info": {
      "name": "python"
    }
  },
  "cells": [
    {
      "cell_type": "markdown",
      "metadata": {
        "id": "view-in-github",
        "colab_type": "text"
      },
      "source": [
        "<a href=\"https://colab.research.google.com/github/drianc/TCC-PUC-MINAS/blob/main/TCC_Ciencia_Dados_PUC_Minas.ipynb\" target=\"_parent\"><img src=\"https://colab.research.google.com/assets/colab-badge.svg\" alt=\"Open In Colab\"/></a>"
      ]
    },
    {
      "cell_type": "markdown",
      "metadata": {
        "id": "uAw2ws9gB_3f"
      },
      "source": [
        ""
      ]
    },
    {
      "cell_type": "markdown",
      "metadata": {
        "id": "ElI9O1HjQjy2"
      },
      "source": [
        "# Nova seção"
      ]
    },
    {
      "cell_type": "markdown",
      "metadata": {
        "id": "T6vjTDACQrZb"
      },
      "source": [
        "## Introdução\n",
        "PUC Minas - Pontifícia Universidade Católica de Minas Gerais\n",
        "\n",
        "Pós-Graduação em Ciência de Dados e Big Data\n",
        "\n",
        "Trabalho de Conclusão de Curso\n",
        "\n",
        "Notebook desenvolvido no ambiente GOOBLE COLAB (colab.research.google.com)"
      ]
    },
    {
      "cell_type": "code",
      "metadata": {
        "id": "rYivpmBIUNsP"
      },
      "source": [
        "#import das bibliotecas\n",
        "import numpy as np\n",
        "import pandas as pd\n",
        "import matplotlib.pyplot as plt\n",
        "import seaborn as sns\n",
        "\n",
        "from sklearn.model_selection import train_test_split\n",
        "from sklearn import preprocessing\n",
        "from sklearn.linear_model import LinearRegression\n",
        "\n",
        "np.set_printoptions(threshold=None, precision=2)\n",
        "pd.set_option('display.max_columns', 500)\n",
        "pd.set_option('display.max_rows',500)\n",
        "pd.set_option('precision',2)\n"
      ],
      "execution_count": 1,
      "outputs": []
    },
    {
      "cell_type": "markdown",
      "metadata": {
        "id": "lKLnBHpYYwgS"
      },
      "source": [
        "# Base de Dados \n"
      ]
    }
  ]
}