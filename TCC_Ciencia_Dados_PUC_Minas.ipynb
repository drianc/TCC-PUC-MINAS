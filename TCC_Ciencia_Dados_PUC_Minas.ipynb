{
  "nbformat": 4,
  "nbformat_minor": 0,
  "metadata": {
    "colab": {
      "name": "TCC_Ciencia_Dados_PUC_Minas.ipynb",
      "provenance": [],
      "collapsed_sections": [],
      "authorship_tag": "ABX9TyORvFpl0P5DS4hnl3bNBblY",
      "include_colab_link": true
    },
    "kernelspec": {
      "name": "python3",
      "display_name": "Python 3"
    },
    "language_info": {
      "name": "python"
    }
  },
  "cells": [
    {
      "cell_type": "markdown",
      "metadata": {
        "id": "view-in-github",
        "colab_type": "text"
      },
      "source": [
        "<a href=\"https://colab.research.google.com/github/drianc/TCC-PUC-MINAS/blob/main/TCC_Ciencia_Dados_PUC_Minas.ipynb\" target=\"_parent\"><img src=\"https://colab.research.google.com/assets/colab-badge.svg\" alt=\"Open In Colab\"/></a>"
      ]
    },
    {
      "cell_type": "markdown",
      "metadata": {
        "id": "uAw2ws9gB_3f"
      },
      "source": [
        ""
      ]
    },
    {
      "cell_type": "markdown",
      "metadata": {
        "id": "T6vjTDACQrZb"
      },
      "source": [
        "#Apresentação \n",
        "\n",
        "PUC Minas - Pontifícia Universidade Católica de Minas Gerais\n",
        "\n",
        "Pós-Graduação em Ciência de Dados e Big Data\n",
        "\n",
        "Trabalho de Conclusão de Curso\n",
        "\n",
        "Notebook desenvolvido no ambiente GOOBLE COLAB (colab.research.google.com)\n",
        "\n",
        "Aluna: Adriana Cardoso\n",
        "Matricula :1135484 "
      ]
    },
    {
      "cell_type": "markdown",
      "metadata": {
        "id": "GJ2l4JyJGKeF"
      },
      "source": [
        "## Processamento e Tratamento dos Dados"
      ]
    },
    {
      "cell_type": "code",
      "metadata": {
        "id": "rYivpmBIUNsP"
      },
      "source": [
        "#import das bibliotecas\n",
        "import pandas as pd\n",
        "import datetime as dt\n",
        "import numpy as np\n",
        "\n",
        "import matplotlib.pyplot as plt\n",
        "\n"
      ],
      "execution_count": 79,
      "outputs": []
    },
    {
      "cell_type": "code",
      "metadata": {
        "id": "tcQyHXcEbliX"
      },
      "source": [
        "#Configuração da apresentação do dataframe\n",
        "pd.set_option('display.max_rows',1000)\n",
        "pd.set_option('display.max_columns',500)\n",
        "pd.set_option('display.width',1000)\n",
        "pd.set_option('display.precision',4)\n",
        "pd.set_option('display.expand_frame_repr',False)"
      ],
      "execution_count": 75,
      "outputs": []
    },
    {
      "cell_type": "code",
      "metadata": {
        "colab": {
          "base_uri": "https://localhost:8080/"
        },
        "id": "jphsLbNgdkyy",
        "outputId": "3cc6a870-802f-4712-e25b-a71e2d7459ca"
      },
      "source": [
        "#Sistema de Informação sobre Mortalidade – SIM (1979 a 2019)\n",
        "#Fonte: Sistema de Informação sobre Mortalidade – SIM (1979 a 2019)\n",
        "      \n",
        "df_Mort_2019 = pd.read_csv('https://s3-sa-east-1.amazonaws.com/ckan.saude.gov.br/SIM/Mortalidade_Geral_2019.csv',sep=';',quoting=3)\n",
        "\n",
        "df_Mort_2019.iloc[:,0] = df_Mort_2019.iloc[:,0].str.strip('\"')\n",
        "df_Mort_2019.iloc[:,-1] = df_Mort_2019.iloc[:,-1].str.strip('\"')\n",
        "#strip \" from columns names\n",
        "df_Mort_2019.columns = df_Mort_2019.columns.str.strip('\"')"
      ],
      "execution_count": null,
      "outputs": [
        {
          "output_type": "stream",
          "name": "stderr",
          "text": [
            "/usr/local/lib/python3.7/dist-packages/IPython/core/interactiveshell.py:2718: DtypeWarning: Columns (37,38,66) have mixed types.Specify dtype option on import or set low_memory=False.\n",
            "  interactivity=interactivity, compiler=compiler, result=result)\n"
          ]
        }
      ]
    },
    {
      "cell_type": "code",
      "metadata": {
        "colab": {
          "base_uri": "https://localhost:8080/"
        },
        "id": "i2VT_7WAGm0E",
        "outputId": "22364acd-2189-491d-c4bc-79a8423b5851"
      },
      "source": [
        "#Verificação dos registros do Dataframe e contagem dos dados do Dataframe de 2019\n",
        "df_Mort_2019.shape"
      ],
      "execution_count": null,
      "outputs": [
        {
          "output_type": "execute_result",
          "data": {
            "text/plain": [
              "(1349801, 87)"
            ]
          },
          "metadata": {},
          "execution_count": 38
        }
      ]
    },
    {
      "cell_type": "code",
      "metadata": {
        "id": "p0Qq1YZpm2DS"
      },
      "source": [
        "df_Mort_2019.head(5)"
      ],
      "execution_count": null,
      "outputs": []
    },
    {
      "cell_type": "code",
      "metadata": {
        "id": "rZfVVvqfW_PR"
      },
      "source": [
        "#retirada de campos que não serão objeto deste estudo\n",
        "df_Mort_2019_alt = df_Mort_2019.drop(columns=['ORIGEM','ESC','HORAOBITO','ESC2010','SERIESCFAL','IDADEMAE','ESCMAE','ESCMAE2010','SERIESCMAE','OCUPMAE','QTDFILVIVO',\n",
        "                                              'QTDFILMORT','GRAVIDEZ','SEMAGESTAC','GESTACAO','OBITOPARTO','PESO','TPMORTEOCO','OBITOGRAV','OBITOPUERP',\n",
        "                                              'ASSISTMED','EXAME','CIRURGIA','CB_PRE','COMUNSVOIM','ACIDTRAB','FONTE','NUMEROLOTE','TPPOS',\n",
        "                                              'DTINVESTIG','ATESTANTE','STCODIFICA','CODIFICADO','VERSAOSIST','VERSAOSCB','FONTEINV','DTRECEBIM','ATESTADO',\n",
        "                                              'DTRECORIGA','CAUSAMAT','ESCMAEAGR1','ESCFALAGR1','STDOEPIDEM','STDONOVA','DIFDATA','NUDIASOBCO','NUDIASOBIN',\n",
        "                                              'DTCADINV','TPOBITOCOR','IDADE','DTCADASTRO','DTATESTADO','ALTCAUSA','DTCONINV',\n",
        "                                              'FONTES','TPRESGINFO','TPNIVELINV','NUDIASINF','DTCADINF','MORTEPARTO','DTCONCASO','FONTESINF',\n",
        "                                              'CONTADOR','PARTO','NECROPSIA','ESTABDESCR','CODMUNNATU','NATURAL','ESTCIV','CODESTAB','CODMUNRES'])\n",
        "#retirar as aspas dos  campos que serão trabalhados\n",
        "df_Mort_2019_alt.TIPOBITO= df_Mort_2019_alt.TIPOBITO.str.replace('\"','')\n",
        "df_Mort_2019_alt.DTOBITO= df_Mort_2019_alt.DTOBITO.str.replace('\"','')\n",
        "df_Mort_2019_alt.CIRCOBITO= df_Mort_2019_alt.CIRCOBITO.str.replace('\"','')\n",
        "df_Mort_2019_alt.OCUP= df_Mort_2019_alt.OCUP.str.replace('\"','')\n",
        "df_Mort_2019_alt.DTNASC = df_Mort_2019_alt.DTNASC.str.replace('\"','')\n",
        "df_Mort_2019_alt.SEXO = df_Mort_2019_alt.SEXO.str.replace('\"','')\n",
        "df_Mort_2019_alt.RACACOR = df_Mort_2019_alt.RACACOR.str.replace('\"','')\n",
        "df_Mort_2019_alt.LOCOCOR = df_Mort_2019_alt.LOCOCOR.str.replace('\"','')\n",
        "df_Mort_2019_alt.CODMUNOCOR = df_Mort_2019_alt.CODMUNOCOR.str.replace('\"','')\n",
        "df_Mort_2019_alt.LINHAA = df_Mort_2019_alt.LINHAA.str.replace('\"','')\n",
        "df_Mort_2019_alt.LINHAB = df_Mort_2019_alt.LINHAB.str.replace('\"','')\n",
        "df_Mort_2019_alt.LINHAC = df_Mort_2019_alt.LINHAC.str.replace('\"','')\n",
        "df_Mort_2019_alt.LINHAD = df_Mort_2019_alt.LINHAD.str.replace('\"','')\n",
        "df_Mort_2019_alt.LINHAII = df_Mort_2019_alt.LINHAII.str.replace('\"','')\n",
        "df_Mort_2019_alt.CAUSABAS = df_Mort_2019_alt.CAUSABAS.str.replace('\"','')\n",
        "df_Mort_2019_alt.CAUSABAS_O = df_Mort_2019_alt.CAUSABAS_O.str.replace('\"','')"
      ],
      "execution_count": null,
      "outputs": []
    },
    {
      "cell_type": "code",
      "metadata": {
        "id": "t1FCvFTUkDhN"
      },
      "source": [
        "df_Mort_2019_alt.head(5)"
      ],
      "execution_count": null,
      "outputs": []
    },
    {
      "cell_type": "code",
      "metadata": {
        "colab": {
          "base_uri": "https://localhost:8080/"
        },
        "id": "8DbuFZUAASi6",
        "outputId": "1a31b5d9-effc-4e48-ba26-54f6fedc42d1"
      },
      "source": [
        "# Base de Registros de 2020 - Preliminar - (podendo sobre alterações conforme Portaria nº 116/2009.)\n",
        "#https://opendatasus.saude.gov.br/dataset/57c4b23e-6ffa-43ef-a1e7-23103f73f376/resource/8d947ac1-addb-49f2-85ab-824a7408a432/download/dobrano_.csv\n",
        "\n",
        "df_Mort_2020 = pd.read_csv('https://opendatasus.saude.gov.br/dataset/57c4b23e-6ffa-43ef-a1e7-23103f73f376/resource/8d947ac1-addb-49f2-85ab-824a7408a432/download/dobrano_.csv',sep=';',quoting=3)\n",
        "df_Mort_2020.iloc[:,0] = df_Mort_2020.iloc[:,0].str.strip('\"')\n",
        "df_Mort_2020.iloc[:,-1] = df_Mort_2020.iloc[:,-1].str.strip('\"')\n",
        "#strip \" from columns names\n",
        "df_Mort_2020.columns = df_Mort_2020.columns.str.strip('\"')"
      ],
      "execution_count": null,
      "outputs": [
        {
          "output_type": "stream",
          "name": "stderr",
          "text": [
            "/usr/local/lib/python3.7/dist-packages/IPython/core/interactiveshell.py:2718: DtypeWarning: Columns (37,38,65,71,72,73,74,76,77,82,83) have mixed types.Specify dtype option on import or set low_memory=False.\n",
            "  interactivity=interactivity, compiler=compiler, result=result)\n"
          ]
        }
      ]
    },
    {
      "cell_type": "code",
      "metadata": {
        "colab": {
          "base_uri": "https://localhost:8080/"
        },
        "id": "hBZKQcrLGuSZ",
        "outputId": "1b481eb7-b64d-4069-94d2-994f51c4218a"
      },
      "source": [
        "#Verificação dos registros do Dataframe e contagem dos dados do Dataframe de 2020\n",
        "df_Mort_2020.shape"
      ],
      "execution_count": null,
      "outputs": [
        {
          "output_type": "execute_result",
          "data": {
            "text/plain": [
              "(1581645, 86)"
            ]
          },
          "metadata": {},
          "execution_count": 39
        }
      ]
    },
    {
      "cell_type": "code",
      "metadata": {
        "id": "d7DrnVLJoz2C"
      },
      "source": [
        "df_Mort_2020.head(5)"
      ],
      "execution_count": null,
      "outputs": []
    },
    {
      "cell_type": "code",
      "metadata": {
        "id": "uprSg0hBVjKb"
      },
      "source": [
        "#retirada de campos que não serão objeto deste estudo\n",
        "df_Mort_2020_alt= df_Mort_2020.drop(columns=['contador', 'ORIGEM','HORAOBITO','NATURAL',\n",
        "       'CODMUNNATU', 'IDADE', 'ESTCIV', 'ESC',\n",
        "       'ESC2010', 'SERIESCFAL', 'CODMUNRES', 'CODESTAB',\n",
        "       'IDADEMAE', 'ESCMAE', 'ESCMAE2010', 'SERIESCMAE',\n",
        "       'OCUPMAE', 'QTDFILVIVO', 'QTDFILMORT', 'GRAVIDEZ', 'SEMAGESTAC',\n",
        "       'GESTACAO', 'PARTO', 'OBITOPARTO', 'PESO', 'TPMORTEOCO', 'OBITOGRAV',\n",
        "       'OBITOPUERP', 'ASSISTMED', 'EXAME', 'CIRURGIA', 'NECROPSIA','CB_PRE',\n",
        "       'COMUNSVOIM', 'DTATESTADO','ACIDTRAB', 'FONTE',\n",
        "       'NUMEROLOTE', 'DTINVESTIG', 'DTCADASTRO', 'ATESTANTE', 'STCODIFICA',\n",
        "       'CODIFICADO', 'VERSAOSIST', 'VERSAOSCB', 'FONTEINV', 'DTRECEBIM',\n",
        "       'ATESTADO', 'DTRECORIGA', 'OPOR_DO', 'CAUSAMAT', 'ESCMAEAGR1',\n",
        "       'ESCFALAGR1', 'STDOEPIDEM', 'STDONOVA', 'DIFDATA', 'NUDIASOBCO',\n",
        "       'DTCADINV', 'TPOBITOCOR', 'DTCONINV', 'FONTES', 'TPRESGINFO',\n",
        "       'TPNIVELINV', 'DTCADINF', 'MORTEPARTO', 'DTCONCASO', 'ALTCAUSA',\n",
        "       'TPPOS', 'TP_ALTERA', 'CB_ALT'])"
      ],
      "execution_count": null,
      "outputs": []
    },
    {
      "cell_type": "code",
      "metadata": {
        "id": "w1XBvPigdJJ6"
      },
      "source": [
        "#retirar as aspas dos  campos que serão trabalhados\n",
        "df_Mort_2020_alt.TIPOBITO= df_Mort_2020_alt.TIPOBITO.str.replace('\"','')\n",
        "df_Mort_2020_alt.DTOBITO= df_Mort_2020_alt.DTOBITO.str.replace('\"','')\n",
        "df_Mort_2020_alt.CIRCOBITO= df_Mort_2020_alt.CIRCOBITO.str.replace('\"','')\n",
        "df_Mort_2020_alt.OCUP= df_Mort_2020_alt.OCUP.str.replace('\"','')\n",
        "df_Mort_2020_alt.DTNASC = df_Mort_2020_alt.DTNASC.str.replace('\"','')\n",
        "df_Mort_2020_alt.SEXO = df_Mort_2020_alt.SEXO.str.replace('\"','')\n",
        "df_Mort_2020_alt.RACACOR = df_Mort_2020_alt.RACACOR.str.replace('\"','')\n",
        "df_Mort_2020_alt.LOCOCOR = df_Mort_2020_alt.LOCOCOR.str.replace('\"','')\n",
        "df_Mort_2020_alt.CODMUNOCOR = df_Mort_2020_alt.CODMUNOCOR.str.replace('\"','')\n",
        "df_Mort_2020_alt.LINHAA = df_Mort_2020_alt.LINHAA.str.replace('\"','')\n",
        "df_Mort_2020_alt.LINHAB = df_Mort_2020_alt.LINHAB.str.replace('\"','')\n",
        "df_Mort_2020_alt.LINHAC = df_Mort_2020_alt.LINHAC.str.replace('\"','')\n",
        "df_Mort_2020_alt.LINHAD = df_Mort_2020_alt.LINHAD.str.replace('\"','')\n",
        "df_Mort_2020_alt.LINHAII = df_Mort_2020_alt.LINHAII.str.replace('\"','')\n",
        "df_Mort_2020_alt.CAUSABAS = df_Mort_2020_alt.CAUSABAS.str.replace('\"','')\n",
        "df_Mort_2020_alt.CAUSABAS_O = df_Mort_2020_alt.CAUSABAS_O.str.replace('\"','')"
      ],
      "execution_count": null,
      "outputs": []
    },
    {
      "cell_type": "code",
      "metadata": {
        "id": "Y8UJTdOCn2YO"
      },
      "source": [
        "df_Mort_2020_alt.head(5) "
      ],
      "execution_count": null,
      "outputs": []
    },
    {
      "cell_type": "code",
      "metadata": {
        "id": "SmilAYEI4ioP"
      },
      "source": [
        "#junção dos dois dataframe\n",
        "df_Mortes= pd.concat([df_Mort_2019_alt,df_Mort_2020_alt],ignore_index=True)\n"
      ],
      "execution_count": null,
      "outputs": []
    },
    {
      "cell_type": "code",
      "metadata": {
        "id": "7O0ysj4lXzzP",
        "colab": {
          "base_uri": "https://localhost:8080/"
        },
        "outputId": "57e7279c-faec-4d71-94a2-e87a9d1b3690"
      },
      "source": [
        "df_Mortes.info()"
      ],
      "execution_count": null,
      "outputs": [
        {
          "output_type": "stream",
          "name": "stdout",
          "text": [
            "<class 'pandas.core.frame.DataFrame'>\n",
            "RangeIndex: 2931446 entries, 0 to 2931445\n",
            "Data columns (total 16 columns):\n",
            " #   Column      Dtype \n",
            "---  ------      ----- \n",
            " 0   TIPOBITO    object\n",
            " 1   DTOBITO     object\n",
            " 2   DTNASC      object\n",
            " 3   SEXO        object\n",
            " 4   RACACOR     object\n",
            " 5   OCUP        object\n",
            " 6   LOCOCOR     object\n",
            " 7   CODMUNOCOR  object\n",
            " 8   LINHAA      object\n",
            " 9   LINHAB      object\n",
            " 10  LINHAC      object\n",
            " 11  LINHAD      object\n",
            " 12  LINHAII     object\n",
            " 13  CAUSABAS    object\n",
            " 14  CIRCOBITO   object\n",
            " 15  CAUSABAS_O  object\n",
            "dtypes: object(16)\n",
            "memory usage: 357.8+ MB\n"
          ]
        }
      ]
    },
    {
      "cell_type": "code",
      "metadata": {
        "colab": {
          "base_uri": "https://localhost:8080/"
        },
        "id": "W0tpxWL897rL",
        "outputId": "b57ba6d8-6113-4eb6-d820-ea102d9325f8"
      },
      "source": [
        "df_Mortes.shape"
      ],
      "execution_count": null,
      "outputs": [
        {
          "output_type": "execute_result",
          "data": {
            "text/plain": [
              "(2931446, 17)"
            ]
          },
          "metadata": {},
          "execution_count": 40
        }
      ]
    },
    {
      "cell_type": "code",
      "metadata": {
        "id": "jb7xBjZBrw6e"
      },
      "source": [
        "#tratamento dos campos de data\n",
        "df_Mortes.DTOBITO = pd.to_datetime(df_Mortes.DTOBITO,format='%d%m%Y',utc=False)\n",
        "df_Mortes['DTNASC']=pd.to_datetime(df_Mortes['DTNASC'].astype(str), format='%d%m%Y',errors='coerce')"
      ],
      "execution_count": null,
      "outputs": []
    },
    {
      "cell_type": "code",
      "metadata": {
        "id": "xAO-aYnwsCpK"
      },
      "source": [
        "df_Mortes.head(5)"
      ],
      "execution_count": null,
      "outputs": []
    },
    {
      "cell_type": "code",
      "metadata": {
        "id": "GWwpSS_CFaMN"
      },
      "source": [
        "#retirada do caracter * (esse caracter significa que a causa da morte difere entre masculino ou feminino, não será considerado nesse estudo)\n",
        "df_Mortes.LINHAA = df_Mortes.LINHAA.str.replace('*','/')\n",
        "df_Mortes.LINHAB = df_Mortes.LINHAB.str.replace('*','/')\n",
        "df_Mortes.LINHAC = df_Mortes.LINHAC.str.replace('*','/')\n",
        "df_Mortes.LINHAD = df_Mortes.LINHAD.str.replace('*','/')\n",
        "df_Mortes.LINHAII = df_Mortes.LINHAII.str.replace('*','/')"
      ],
      "execution_count": null,
      "outputs": []
    },
    {
      "cell_type": "code",
      "metadata": {
        "id": "9XCdTCdoFZjt"
      },
      "source": [
        "# splitting at occurrence of whitespace\n",
        "df_Mortes['LINHAA']= df_Mortes['LINHAA'].str.split('/')\n",
        "df_Mortes['LINHAB']= df_Mortes['LINHAB'].str.split('/')\n",
        "df_Mortes['LINHAC']= df_Mortes['LINHAC'].str.split('/')\n",
        "df_Mortes['LINHAD']= df_Mortes['LINHAD'].str.split('/')\n",
        "df_Mortes['LINHAII']= df_Mortes['LINHAII'].str.split('/')"
      ],
      "execution_count": null,
      "outputs": []
    },
    {
      "cell_type": "code",
      "metadata": {
        "id": "UIgtDXXYFZWt"
      },
      "source": [
        "# displaying second element from list (será considerado apenas a primeira causa descrita em cada campo)\n",
        "df_Mortes['LINHAA']= df_Mortes['LINHAA'].str.get(1)\n",
        "df_Mortes['LINHAB']= df_Mortes['LINHAB'].str.get(1)\n",
        "df_Mortes['LINHAC']= df_Mortes['LINHAC'].str.get(1)\n",
        "df_Mortes['LINHAD']= df_Mortes['LINHAD'].str.get(1)\n",
        "df_Mortes['LINHAII']= df_Mortes['LINHAII'].str.get(1)"
      ],
      "execution_count": null,
      "outputs": []
    },
    {
      "cell_type": "code",
      "metadata": {
        "id": "-6sL7ktiweUb"
      },
      "source": [
        "df_Mortes.head(5) "
      ],
      "execution_count": null,
      "outputs": []
    },
    {
      "cell_type": "code",
      "metadata": {
        "id": "3tcSkeGBF0Lc"
      },
      "source": [
        "#calcular idade \n",
        "\n",
        "df_Mortes['DTOBITO'] = pd.to_datetime(df_Mortes['DTOBITO'], format='%Y/%m/%d')\n",
        "df_Mortes['DTNASC'] = pd.to_datetime(df_Mortes['DTNASC'], format='%Y/%m/%d')\n",
        "\n",
        "df_Mortes['IDADE'] = df_Mortes['DTOBITO'] - df_Mortes['DTNASC']\n",
        "df_Mortes['IDADE']=df_Mortes['IDADE']/np.timedelta64(1,'Y')\n",
        "df_Mortes['IDADE']= round(df_Mortes['IDADE']- 0.5,ndigits=0)\n",
        "df_Mortes['IDADE']= df_Mortes['IDADE'].astype(\"Int64\") "
      ],
      "execution_count": null,
      "outputs": []
    },
    {
      "cell_type": "code",
      "metadata": {
        "colab": {
          "base_uri": "https://localhost:8080/"
        },
        "id": "HVA1GBWBGfYB",
        "outputId": "495ff66e-7769-4502-89c0-6625613dd8cb"
      },
      "source": [
        "df_Mortes.info()"
      ],
      "execution_count": null,
      "outputs": [
        {
          "output_type": "stream",
          "name": "stdout",
          "text": [
            "<class 'pandas.core.frame.DataFrame'>\n",
            "RangeIndex: 2931446 entries, 0 to 2931445\n",
            "Data columns (total 17 columns):\n",
            " #   Column      Dtype         \n",
            "---  ------      -----         \n",
            " 0   TIPOBITO    object        \n",
            " 1   DTOBITO     datetime64[ns]\n",
            " 2   DTNASC      datetime64[ns]\n",
            " 3   SEXO        object        \n",
            " 4   RACACOR     object        \n",
            " 5   OCUP        object        \n",
            " 6   LOCOCOR     object        \n",
            " 7   CODMUNOCOR  object        \n",
            " 8   LINHAA      object        \n",
            " 9   LINHAB      object        \n",
            " 10  LINHAC      object        \n",
            " 11  LINHAD      object        \n",
            " 12  LINHAII     object        \n",
            " 13  CAUSABAS    object        \n",
            " 14  CIRCOBITO   object        \n",
            " 15  CAUSABAS_O  object        \n",
            " 16  IDADE       Int64         \n",
            "dtypes: Int64(1), datetime64[ns](2), object(14)\n",
            "memory usage: 383.0+ MB\n"
          ]
        }
      ]
    },
    {
      "cell_type": "code",
      "metadata": {
        "colab": {
          "base_uri": "https://localhost:8080/",
          "height": 309
        },
        "id": "HcU3UalIyBhD",
        "outputId": "daf2246e-44ac-4996-91ab-ce988c8670cb"
      },
      "source": [
        "df_Mortes.head(5) "
      ],
      "execution_count": null,
      "outputs": [
        {
          "output_type": "execute_result",
          "data": {
            "text/html": [
              "<div>\n",
              "<style scoped>\n",
              "    .dataframe tbody tr th:only-of-type {\n",
              "        vertical-align: middle;\n",
              "    }\n",
              "\n",
              "    .dataframe tbody tr th {\n",
              "        vertical-align: top;\n",
              "    }\n",
              "\n",
              "    .dataframe thead th {\n",
              "        text-align: right;\n",
              "    }\n",
              "</style>\n",
              "<table border=\"1\" class=\"dataframe\">\n",
              "  <thead>\n",
              "    <tr style=\"text-align: right;\">\n",
              "      <th></th>\n",
              "      <th>TIPOBITO</th>\n",
              "      <th>DTOBITO</th>\n",
              "      <th>DTNASC</th>\n",
              "      <th>SEXO</th>\n",
              "      <th>RACACOR</th>\n",
              "      <th>OCUP</th>\n",
              "      <th>LOCOCOR</th>\n",
              "      <th>CODMUNOCOR</th>\n",
              "      <th>LINHAA</th>\n",
              "      <th>LINHAB</th>\n",
              "      <th>LINHAC</th>\n",
              "      <th>LINHAD</th>\n",
              "      <th>LINHAII</th>\n",
              "      <th>CAUSABAS</th>\n",
              "      <th>CIRCOBITO</th>\n",
              "      <th>CAUSABAS_O</th>\n",
              "      <th>IDADE</th>\n",
              "    </tr>\n",
              "  </thead>\n",
              "  <tbody>\n",
              "    <tr>\n",
              "      <th>0</th>\n",
              "      <td>2</td>\n",
              "      <td>2019-01-21</td>\n",
              "      <td>1961-02-18</td>\n",
              "      <td>1</td>\n",
              "      <td>2</td>\n",
              "      <td>512105</td>\n",
              "      <td>1</td>\n",
              "      <td>290750</td>\n",
              "      <td>R570</td>\n",
              "      <td>J81X</td>\n",
              "      <td>I10X</td>\n",
              "      <td>N189</td>\n",
              "      <td>NaN</td>\n",
              "      <td>I120</td>\n",
              "      <td>NaN</td>\n",
              "      <td>I120</td>\n",
              "      <td>57</td>\n",
              "    </tr>\n",
              "    <tr>\n",
              "      <th>1</th>\n",
              "      <td>2</td>\n",
              "      <td>2019-01-28</td>\n",
              "      <td>1938-07-03</td>\n",
              "      <td>2</td>\n",
              "      <td>NaN</td>\n",
              "      <td>999992</td>\n",
              "      <td>1</td>\n",
              "      <td>290750</td>\n",
              "      <td>A419</td>\n",
              "      <td>NaN</td>\n",
              "      <td>NaN</td>\n",
              "      <td>NaN</td>\n",
              "      <td>NaN</td>\n",
              "      <td>A419</td>\n",
              "      <td>NaN</td>\n",
              "      <td>A419</td>\n",
              "      <td>80</td>\n",
              "    </tr>\n",
              "    <tr>\n",
              "      <th>2</th>\n",
              "      <td>2</td>\n",
              "      <td>2019-01-27</td>\n",
              "      <td>1945-11-15</td>\n",
              "      <td>2</td>\n",
              "      <td>4</td>\n",
              "      <td>999992</td>\n",
              "      <td>1</td>\n",
              "      <td>290750</td>\n",
              "      <td>I500</td>\n",
              "      <td>I10X</td>\n",
              "      <td>E039</td>\n",
              "      <td>NaN</td>\n",
              "      <td>NaN</td>\n",
              "      <td>E039</td>\n",
              "      <td>NaN</td>\n",
              "      <td>E039</td>\n",
              "      <td>73</td>\n",
              "    </tr>\n",
              "    <tr>\n",
              "      <th>3</th>\n",
              "      <td>2</td>\n",
              "      <td>2019-01-12</td>\n",
              "      <td>1971-11-04</td>\n",
              "      <td>1</td>\n",
              "      <td>4</td>\n",
              "      <td>NaN</td>\n",
              "      <td>1</td>\n",
              "      <td>290750</td>\n",
              "      <td>J960</td>\n",
              "      <td>R220</td>\n",
              "      <td>NaN</td>\n",
              "      <td>NaN</td>\n",
              "      <td>NaN</td>\n",
              "      <td>R220</td>\n",
              "      <td>NaN</td>\n",
              "      <td>R220</td>\n",
              "      <td>47</td>\n",
              "    </tr>\n",
              "    <tr>\n",
              "      <th>4</th>\n",
              "      <td>2</td>\n",
              "      <td>2019-01-10</td>\n",
              "      <td>1946-10-12</td>\n",
              "      <td>2</td>\n",
              "      <td>4</td>\n",
              "      <td>999992</td>\n",
              "      <td>1</td>\n",
              "      <td>290750</td>\n",
              "      <td>J960</td>\n",
              "      <td>C159</td>\n",
              "      <td>NaN</td>\n",
              "      <td>NaN</td>\n",
              "      <td>NaN</td>\n",
              "      <td>C159</td>\n",
              "      <td>NaN</td>\n",
              "      <td>C159</td>\n",
              "      <td>72</td>\n",
              "    </tr>\n",
              "  </tbody>\n",
              "</table>\n",
              "</div>"
            ],
            "text/plain": [
              "  TIPOBITO    DTOBITO     DTNASC SEXO  ... CAUSABAS CIRCOBITO CAUSABAS_O IDADE\n",
              "0        2 2019-01-21 1961-02-18    1  ...     I120       NaN       I120    57\n",
              "1        2 2019-01-28 1938-07-03    2  ...     A419       NaN       A419    80\n",
              "2        2 2019-01-27 1945-11-15    2  ...     E039       NaN       E039    73\n",
              "3        2 2019-01-12 1971-11-04    1  ...     R220       NaN       R220    47\n",
              "4        2 2019-01-10 1946-10-12    2  ...     C159       NaN       C159    72\n",
              "\n",
              "[5 rows x 17 columns]"
            ]
          },
          "metadata": {},
          "execution_count": 31
        }
      ]
    },
    {
      "cell_type": "code",
      "metadata": {
        "id": "z-gxDmADGdjo"
      },
      "source": [
        "#df_Mortes.to_csv('base_dados_completo.csv',sep=';',encoding = 'ISO-8859-1')"
      ],
      "execution_count": null,
      "outputs": []
    },
    {
      "cell_type": "code",
      "metadata": {
        "id": "0Jkph78y6R-C"
      },
      "source": [
        "df_mortes_original = pd.read_csv('base_dados_completo.csv',sep=';',encoding = 'ISO-8859-1')"
      ],
      "execution_count": 15,
      "outputs": []
    },
    {
      "cell_type": "code",
      "metadata": {
        "id": "iEmsA1qs-HIs",
        "colab": {
          "base_uri": "https://localhost:8080/"
        },
        "outputId": "de79c6a2-d1f9-491b-a971-1c7578b87517"
      },
      "source": [
        "df_mortes_original.shape"
      ],
      "execution_count": 16,
      "outputs": [
        {
          "output_type": "execute_result",
          "data": {
            "text/plain": [
              "(2931446, 18)"
            ]
          },
          "metadata": {},
          "execution_count": 16
        }
      ]
    },
    {
      "cell_type": "code",
      "metadata": {
        "id": "tmDH1nj8Esbp",
        "colab": {
          "base_uri": "https://localhost:8080/"
        },
        "outputId": "62575a5a-c3f1-43f2-becf-e621c6dd0a9d"
      },
      "source": [
        "df_mortes_original.count()"
      ],
      "execution_count": 17,
      "outputs": [
        {
          "output_type": "execute_result",
          "data": {
            "text/plain": [
              "Unnamed: 0    2931446\n",
              "TIPOBITO      2931446\n",
              "DTOBITO       2931446\n",
              "DTNASC        2894922\n",
              "SEXO          2931446\n",
              "RACACOR       2826973\n",
              "OCUP          2437154\n",
              "LOCOCOR       2931446\n",
              "CODMUNOCOR    2931446\n",
              "LINHAA        2826827\n",
              "LINHAB        2199081\n",
              "LINHAC        1341301\n",
              "LINHAD         562762\n",
              "LINHAII       1137593\n",
              "CAUSABAS      2931446\n",
              "CIRCOBITO      286533\n",
              "CAUSABAS_O    2926664\n",
              "IDADE         2894922\n",
              "dtype: int64"
            ]
          },
          "metadata": {},
          "execution_count": 17
        }
      ]
    },
    {
      "cell_type": "code",
      "metadata": {
        "id": "M5PwgOr6Etag",
        "colab": {
          "base_uri": "https://localhost:8080/"
        },
        "outputId": "d9cbfdfb-1d79-4ce6-d377-3fa403c49b78"
      },
      "source": [
        "df_mortes_original.nunique()"
      ],
      "execution_count": 18,
      "outputs": [
        {
          "output_type": "execute_result",
          "data": {
            "text/plain": [
              "Unnamed: 0    2931446\n",
              "TIPOBITO            2\n",
              "DTOBITO           731\n",
              "DTNASC          40484\n",
              "SEXO                3\n",
              "RACACOR             5\n",
              "OCUP             2260\n",
              "LOCOCOR             7\n",
              "CODMUNOCOR       5578\n",
              "LINHAA           5889\n",
              "LINHAB           7876\n",
              "LINHAC           7586\n",
              "LINHAD           6161\n",
              "LINHAII          6652\n",
              "CAUSABAS         6237\n",
              "CIRCOBITO           5\n",
              "CAUSABAS_O       6728\n",
              "IDADE             126\n",
              "dtype: int64"
            ]
          },
          "metadata": {},
          "execution_count": 18
        }
      ]
    },
    {
      "cell_type": "code",
      "metadata": {
        "colab": {
          "base_uri": "https://localhost:8080/"
        },
        "id": "XgZ8JNox6vov",
        "outputId": "4d113291-585e-4919-9240-9d58ce4ed07f"
      },
      "source": [
        "df_mortes_original.info()"
      ],
      "execution_count": 19,
      "outputs": [
        {
          "output_type": "stream",
          "name": "stdout",
          "text": [
            "<class 'pandas.core.frame.DataFrame'>\n",
            "RangeIndex: 2931446 entries, 0 to 2931445\n",
            "Data columns (total 18 columns):\n",
            " #   Column      Dtype  \n",
            "---  ------      -----  \n",
            " 0   Unnamed: 0  int64  \n",
            " 1   TIPOBITO    int64  \n",
            " 2   DTOBITO     object \n",
            " 3   DTNASC      object \n",
            " 4   SEXO        int64  \n",
            " 5   RACACOR     float64\n",
            " 6   OCUP        float64\n",
            " 7   LOCOCOR     int64  \n",
            " 8   CODMUNOCOR  int64  \n",
            " 9   LINHAA      object \n",
            " 10  LINHAB      object \n",
            " 11  LINHAC      object \n",
            " 12  LINHAD      object \n",
            " 13  LINHAII     object \n",
            " 14  CAUSABAS    object \n",
            " 15  CIRCOBITO   float64\n",
            " 16  CAUSABAS_O  object \n",
            " 17  IDADE       float64\n",
            "dtypes: float64(4), int64(5), object(9)\n",
            "memory usage: 402.6+ MB\n"
          ]
        }
      ]
    },
    {
      "cell_type": "code",
      "metadata": {
        "colab": {
          "base_uri": "https://localhost:8080/",
          "height": 326
        },
        "id": "B1qOF2SI60sg",
        "outputId": "8ced20e5-ac7f-4bd0-9567-acdd431a1aea"
      },
      "source": [
        "df_mortes_original.head(5)"
      ],
      "execution_count": 20,
      "outputs": [
        {
          "output_type": "execute_result",
          "data": {
            "text/html": [
              "<div>\n",
              "<style scoped>\n",
              "    .dataframe tbody tr th:only-of-type {\n",
              "        vertical-align: middle;\n",
              "    }\n",
              "\n",
              "    .dataframe tbody tr th {\n",
              "        vertical-align: top;\n",
              "    }\n",
              "\n",
              "    .dataframe thead th {\n",
              "        text-align: right;\n",
              "    }\n",
              "</style>\n",
              "<table border=\"1\" class=\"dataframe\">\n",
              "  <thead>\n",
              "    <tr style=\"text-align: right;\">\n",
              "      <th></th>\n",
              "      <th>Unnamed: 0</th>\n",
              "      <th>TIPOBITO</th>\n",
              "      <th>DTOBITO</th>\n",
              "      <th>DTNASC</th>\n",
              "      <th>SEXO</th>\n",
              "      <th>RACACOR</th>\n",
              "      <th>OCUP</th>\n",
              "      <th>LOCOCOR</th>\n",
              "      <th>CODMUNOCOR</th>\n",
              "      <th>LINHAA</th>\n",
              "      <th>LINHAB</th>\n",
              "      <th>LINHAC</th>\n",
              "      <th>LINHAD</th>\n",
              "      <th>LINHAII</th>\n",
              "      <th>CAUSABAS</th>\n",
              "      <th>CIRCOBITO</th>\n",
              "      <th>CAUSABAS_O</th>\n",
              "      <th>IDADE</th>\n",
              "    </tr>\n",
              "  </thead>\n",
              "  <tbody>\n",
              "    <tr>\n",
              "      <th>0</th>\n",
              "      <td>0</td>\n",
              "      <td>2</td>\n",
              "      <td>2019-01-21</td>\n",
              "      <td>1961-02-18</td>\n",
              "      <td>1</td>\n",
              "      <td>2.0</td>\n",
              "      <td>512105.0</td>\n",
              "      <td>1</td>\n",
              "      <td>290750</td>\n",
              "      <td>R570</td>\n",
              "      <td>J81X</td>\n",
              "      <td>I10X</td>\n",
              "      <td>N189</td>\n",
              "      <td>NaN</td>\n",
              "      <td>I120</td>\n",
              "      <td>NaN</td>\n",
              "      <td>I120</td>\n",
              "      <td>57.0</td>\n",
              "    </tr>\n",
              "    <tr>\n",
              "      <th>1</th>\n",
              "      <td>1</td>\n",
              "      <td>2</td>\n",
              "      <td>2019-01-28</td>\n",
              "      <td>1938-07-03</td>\n",
              "      <td>2</td>\n",
              "      <td>NaN</td>\n",
              "      <td>999992.0</td>\n",
              "      <td>1</td>\n",
              "      <td>290750</td>\n",
              "      <td>A419</td>\n",
              "      <td>NaN</td>\n",
              "      <td>NaN</td>\n",
              "      <td>NaN</td>\n",
              "      <td>NaN</td>\n",
              "      <td>A419</td>\n",
              "      <td>NaN</td>\n",
              "      <td>A419</td>\n",
              "      <td>80.0</td>\n",
              "    </tr>\n",
              "    <tr>\n",
              "      <th>2</th>\n",
              "      <td>2</td>\n",
              "      <td>2</td>\n",
              "      <td>2019-01-27</td>\n",
              "      <td>1945-11-15</td>\n",
              "      <td>2</td>\n",
              "      <td>4.0</td>\n",
              "      <td>999992.0</td>\n",
              "      <td>1</td>\n",
              "      <td>290750</td>\n",
              "      <td>I500</td>\n",
              "      <td>I10X</td>\n",
              "      <td>E039</td>\n",
              "      <td>NaN</td>\n",
              "      <td>NaN</td>\n",
              "      <td>E039</td>\n",
              "      <td>NaN</td>\n",
              "      <td>E039</td>\n",
              "      <td>73.0</td>\n",
              "    </tr>\n",
              "    <tr>\n",
              "      <th>3</th>\n",
              "      <td>3</td>\n",
              "      <td>2</td>\n",
              "      <td>2019-01-12</td>\n",
              "      <td>1971-11-04</td>\n",
              "      <td>1</td>\n",
              "      <td>4.0</td>\n",
              "      <td>NaN</td>\n",
              "      <td>1</td>\n",
              "      <td>290750</td>\n",
              "      <td>J960</td>\n",
              "      <td>R220</td>\n",
              "      <td>NaN</td>\n",
              "      <td>NaN</td>\n",
              "      <td>NaN</td>\n",
              "      <td>R220</td>\n",
              "      <td>NaN</td>\n",
              "      <td>R220</td>\n",
              "      <td>47.0</td>\n",
              "    </tr>\n",
              "    <tr>\n",
              "      <th>4</th>\n",
              "      <td>4</td>\n",
              "      <td>2</td>\n",
              "      <td>2019-01-10</td>\n",
              "      <td>1946-10-12</td>\n",
              "      <td>2</td>\n",
              "      <td>4.0</td>\n",
              "      <td>999992.0</td>\n",
              "      <td>1</td>\n",
              "      <td>290750</td>\n",
              "      <td>J960</td>\n",
              "      <td>C159</td>\n",
              "      <td>NaN</td>\n",
              "      <td>NaN</td>\n",
              "      <td>NaN</td>\n",
              "      <td>C159</td>\n",
              "      <td>NaN</td>\n",
              "      <td>C159</td>\n",
              "      <td>72.0</td>\n",
              "    </tr>\n",
              "  </tbody>\n",
              "</table>\n",
              "</div>"
            ],
            "text/plain": [
              "   Unnamed: 0  TIPOBITO     DTOBITO  ... CIRCOBITO  CAUSABAS_O  IDADE\n",
              "0           0         2  2019-01-21  ...       NaN        I120   57.0\n",
              "1           1         2  2019-01-28  ...       NaN        A419   80.0\n",
              "2           2         2  2019-01-27  ...       NaN        E039   73.0\n",
              "3           3         2  2019-01-12  ...       NaN        R220   47.0\n",
              "4           4         2  2019-01-10  ...       NaN        C159   72.0\n",
              "\n",
              "[5 rows x 18 columns]"
            ]
          },
          "metadata": {},
          "execution_count": 20
        }
      ]
    },
    {
      "cell_type": "code",
      "metadata": {
        "colab": {
          "base_uri": "https://localhost:8080/"
        },
        "id": "qMWhaub0CADI",
        "outputId": "46bd4bab-8f54-4b0c-ed19-aeb660f089a8"
      },
      "source": [
        "df_mortes_original.isnull().sum()"
      ],
      "execution_count": 21,
      "outputs": [
        {
          "output_type": "execute_result",
          "data": {
            "text/plain": [
              "Unnamed: 0          0\n",
              "TIPOBITO            0\n",
              "DTOBITO             0\n",
              "DTNASC          36524\n",
              "SEXO                0\n",
              "RACACOR        104473\n",
              "OCUP           494292\n",
              "LOCOCOR             0\n",
              "CODMUNOCOR          0\n",
              "LINHAA         104619\n",
              "LINHAB         732365\n",
              "LINHAC        1590145\n",
              "LINHAD        2368684\n",
              "LINHAII       1793853\n",
              "CAUSABAS            0\n",
              "CIRCOBITO     2644913\n",
              "CAUSABAS_O       4782\n",
              "IDADE           36524\n",
              "dtype: int64"
            ]
          },
          "metadata": {},
          "execution_count": 21
        }
      ]
    },
    {
      "cell_type": "code",
      "metadata": {
        "id": "B9X8PpzLBKPw"
      },
      "source": [
        "#Substituir os valor NaN por 0\n",
        "df_mortes_original.fillna(0,inplace=True)\n"
      ],
      "execution_count": 22,
      "outputs": []
    },
    {
      "cell_type": "code",
      "metadata": {
        "id": "kJ-kuxmg8ggT"
      },
      "source": [
        "#transformando valores float em Int\n",
        "df_mortes_original['IDADE'] = df_mortes_original['IDADE'].apply(np.int64)\n",
        "df_mortes_original['RACACOR'] = df_mortes_original['RACACOR'].apply(np.int64)\n",
        "df_mortes_original['OCUP'] = df_mortes_original['OCUP'].apply(np.int64)\n",
        "df_mortes_original['CIRCOBITO'] = df_mortes_original['CIRCOBITO'].apply(np.int64)"
      ],
      "execution_count": 23,
      "outputs": []
    },
    {
      "cell_type": "code",
      "metadata": {
        "colab": {
          "base_uri": "https://localhost:8080/",
          "height": 326
        },
        "id": "5OHfM-az8rmp",
        "outputId": "8eefa321-4c88-46a4-de89-9946661fedfc"
      },
      "source": [
        "#Cinco primeiros registros\n",
        "df_mortes_original.head(5)"
      ],
      "execution_count": 24,
      "outputs": [
        {
          "output_type": "execute_result",
          "data": {
            "text/html": [
              "<div>\n",
              "<style scoped>\n",
              "    .dataframe tbody tr th:only-of-type {\n",
              "        vertical-align: middle;\n",
              "    }\n",
              "\n",
              "    .dataframe tbody tr th {\n",
              "        vertical-align: top;\n",
              "    }\n",
              "\n",
              "    .dataframe thead th {\n",
              "        text-align: right;\n",
              "    }\n",
              "</style>\n",
              "<table border=\"1\" class=\"dataframe\">\n",
              "  <thead>\n",
              "    <tr style=\"text-align: right;\">\n",
              "      <th></th>\n",
              "      <th>Unnamed: 0</th>\n",
              "      <th>TIPOBITO</th>\n",
              "      <th>DTOBITO</th>\n",
              "      <th>DTNASC</th>\n",
              "      <th>SEXO</th>\n",
              "      <th>RACACOR</th>\n",
              "      <th>OCUP</th>\n",
              "      <th>LOCOCOR</th>\n",
              "      <th>CODMUNOCOR</th>\n",
              "      <th>LINHAA</th>\n",
              "      <th>LINHAB</th>\n",
              "      <th>LINHAC</th>\n",
              "      <th>LINHAD</th>\n",
              "      <th>LINHAII</th>\n",
              "      <th>CAUSABAS</th>\n",
              "      <th>CIRCOBITO</th>\n",
              "      <th>CAUSABAS_O</th>\n",
              "      <th>IDADE</th>\n",
              "    </tr>\n",
              "  </thead>\n",
              "  <tbody>\n",
              "    <tr>\n",
              "      <th>0</th>\n",
              "      <td>0</td>\n",
              "      <td>2</td>\n",
              "      <td>2019-01-21</td>\n",
              "      <td>1961-02-18</td>\n",
              "      <td>1</td>\n",
              "      <td>2</td>\n",
              "      <td>512105</td>\n",
              "      <td>1</td>\n",
              "      <td>290750</td>\n",
              "      <td>R570</td>\n",
              "      <td>J81X</td>\n",
              "      <td>I10X</td>\n",
              "      <td>N189</td>\n",
              "      <td>0</td>\n",
              "      <td>I120</td>\n",
              "      <td>0</td>\n",
              "      <td>I120</td>\n",
              "      <td>57</td>\n",
              "    </tr>\n",
              "    <tr>\n",
              "      <th>1</th>\n",
              "      <td>1</td>\n",
              "      <td>2</td>\n",
              "      <td>2019-01-28</td>\n",
              "      <td>1938-07-03</td>\n",
              "      <td>2</td>\n",
              "      <td>0</td>\n",
              "      <td>999992</td>\n",
              "      <td>1</td>\n",
              "      <td>290750</td>\n",
              "      <td>A419</td>\n",
              "      <td>0</td>\n",
              "      <td>0</td>\n",
              "      <td>0</td>\n",
              "      <td>0</td>\n",
              "      <td>A419</td>\n",
              "      <td>0</td>\n",
              "      <td>A419</td>\n",
              "      <td>80</td>\n",
              "    </tr>\n",
              "    <tr>\n",
              "      <th>2</th>\n",
              "      <td>2</td>\n",
              "      <td>2</td>\n",
              "      <td>2019-01-27</td>\n",
              "      <td>1945-11-15</td>\n",
              "      <td>2</td>\n",
              "      <td>4</td>\n",
              "      <td>999992</td>\n",
              "      <td>1</td>\n",
              "      <td>290750</td>\n",
              "      <td>I500</td>\n",
              "      <td>I10X</td>\n",
              "      <td>E039</td>\n",
              "      <td>0</td>\n",
              "      <td>0</td>\n",
              "      <td>E039</td>\n",
              "      <td>0</td>\n",
              "      <td>E039</td>\n",
              "      <td>73</td>\n",
              "    </tr>\n",
              "    <tr>\n",
              "      <th>3</th>\n",
              "      <td>3</td>\n",
              "      <td>2</td>\n",
              "      <td>2019-01-12</td>\n",
              "      <td>1971-11-04</td>\n",
              "      <td>1</td>\n",
              "      <td>4</td>\n",
              "      <td>0</td>\n",
              "      <td>1</td>\n",
              "      <td>290750</td>\n",
              "      <td>J960</td>\n",
              "      <td>R220</td>\n",
              "      <td>0</td>\n",
              "      <td>0</td>\n",
              "      <td>0</td>\n",
              "      <td>R220</td>\n",
              "      <td>0</td>\n",
              "      <td>R220</td>\n",
              "      <td>47</td>\n",
              "    </tr>\n",
              "    <tr>\n",
              "      <th>4</th>\n",
              "      <td>4</td>\n",
              "      <td>2</td>\n",
              "      <td>2019-01-10</td>\n",
              "      <td>1946-10-12</td>\n",
              "      <td>2</td>\n",
              "      <td>4</td>\n",
              "      <td>999992</td>\n",
              "      <td>1</td>\n",
              "      <td>290750</td>\n",
              "      <td>J960</td>\n",
              "      <td>C159</td>\n",
              "      <td>0</td>\n",
              "      <td>0</td>\n",
              "      <td>0</td>\n",
              "      <td>C159</td>\n",
              "      <td>0</td>\n",
              "      <td>C159</td>\n",
              "      <td>72</td>\n",
              "    </tr>\n",
              "  </tbody>\n",
              "</table>\n",
              "</div>"
            ],
            "text/plain": [
              "   Unnamed: 0  TIPOBITO     DTOBITO  ... CIRCOBITO  CAUSABAS_O  IDADE\n",
              "0           0         2  2019-01-21  ...         0        I120     57\n",
              "1           1         2  2019-01-28  ...         0        A419     80\n",
              "2           2         2  2019-01-27  ...         0        E039     73\n",
              "3           3         2  2019-01-12  ...         0        R220     47\n",
              "4           4         2  2019-01-10  ...         0        C159     72\n",
              "\n",
              "[5 rows x 18 columns]"
            ]
          },
          "metadata": {},
          "execution_count": 24
        }
      ]
    },
    {
      "cell_type": "code",
      "metadata": {
        "colab": {
          "base_uri": "https://localhost:8080/",
          "height": 326
        },
        "id": "_WJVkJZyBw6k",
        "outputId": "35a730bf-b859-4eee-dba6-d9dfdcbbbc07"
      },
      "source": [
        "#cinco ultimos registros\n",
        "df_mortes_original.tail(5)"
      ],
      "execution_count": 25,
      "outputs": [
        {
          "output_type": "execute_result",
          "data": {
            "text/html": [
              "<div>\n",
              "<style scoped>\n",
              "    .dataframe tbody tr th:only-of-type {\n",
              "        vertical-align: middle;\n",
              "    }\n",
              "\n",
              "    .dataframe tbody tr th {\n",
              "        vertical-align: top;\n",
              "    }\n",
              "\n",
              "    .dataframe thead th {\n",
              "        text-align: right;\n",
              "    }\n",
              "</style>\n",
              "<table border=\"1\" class=\"dataframe\">\n",
              "  <thead>\n",
              "    <tr style=\"text-align: right;\">\n",
              "      <th></th>\n",
              "      <th>Unnamed: 0</th>\n",
              "      <th>TIPOBITO</th>\n",
              "      <th>DTOBITO</th>\n",
              "      <th>DTNASC</th>\n",
              "      <th>SEXO</th>\n",
              "      <th>RACACOR</th>\n",
              "      <th>OCUP</th>\n",
              "      <th>LOCOCOR</th>\n",
              "      <th>CODMUNOCOR</th>\n",
              "      <th>LINHAA</th>\n",
              "      <th>LINHAB</th>\n",
              "      <th>LINHAC</th>\n",
              "      <th>LINHAD</th>\n",
              "      <th>LINHAII</th>\n",
              "      <th>CAUSABAS</th>\n",
              "      <th>CIRCOBITO</th>\n",
              "      <th>CAUSABAS_O</th>\n",
              "      <th>IDADE</th>\n",
              "    </tr>\n",
              "  </thead>\n",
              "  <tbody>\n",
              "    <tr>\n",
              "      <th>2931441</th>\n",
              "      <td>2931441</td>\n",
              "      <td>2</td>\n",
              "      <td>2020-07-14</td>\n",
              "      <td>1968-10-25</td>\n",
              "      <td>2</td>\n",
              "      <td>5</td>\n",
              "      <td>0</td>\n",
              "      <td>3</td>\n",
              "      <td>130280</td>\n",
              "      <td>C539</td>\n",
              "      <td>0</td>\n",
              "      <td>0</td>\n",
              "      <td>0</td>\n",
              "      <td>0</td>\n",
              "      <td>C539</td>\n",
              "      <td>4</td>\n",
              "      <td>0</td>\n",
              "      <td>51</td>\n",
              "    </tr>\n",
              "    <tr>\n",
              "      <th>2931442</th>\n",
              "      <td>2931442</td>\n",
              "      <td>2</td>\n",
              "      <td>2020-09-24</td>\n",
              "      <td>2008-05-31</td>\n",
              "      <td>2</td>\n",
              "      <td>5</td>\n",
              "      <td>0</td>\n",
              "      <td>6</td>\n",
              "      <td>150375</td>\n",
              "      <td>R99X</td>\n",
              "      <td>0</td>\n",
              "      <td>0</td>\n",
              "      <td>0</td>\n",
              "      <td>0</td>\n",
              "      <td>R99</td>\n",
              "      <td>0</td>\n",
              "      <td>0</td>\n",
              "      <td>12</td>\n",
              "    </tr>\n",
              "    <tr>\n",
              "      <th>2931443</th>\n",
              "      <td>2931443</td>\n",
              "      <td>2</td>\n",
              "      <td>2020-07-15</td>\n",
              "      <td>1993-01-16</td>\n",
              "      <td>2</td>\n",
              "      <td>5</td>\n",
              "      <td>0</td>\n",
              "      <td>6</td>\n",
              "      <td>150543</td>\n",
              "      <td>R960</td>\n",
              "      <td>0</td>\n",
              "      <td>0</td>\n",
              "      <td>0</td>\n",
              "      <td>0</td>\n",
              "      <td>R960</td>\n",
              "      <td>0</td>\n",
              "      <td>0</td>\n",
              "      <td>27</td>\n",
              "    </tr>\n",
              "    <tr>\n",
              "      <th>2931444</th>\n",
              "      <td>2931444</td>\n",
              "      <td>2</td>\n",
              "      <td>2020-07-13</td>\n",
              "      <td>2001-02-19</td>\n",
              "      <td>2</td>\n",
              "      <td>5</td>\n",
              "      <td>0</td>\n",
              "      <td>6</td>\n",
              "      <td>130390</td>\n",
              "      <td>C189</td>\n",
              "      <td>0</td>\n",
              "      <td>0</td>\n",
              "      <td>0</td>\n",
              "      <td>0</td>\n",
              "      <td>C189</td>\n",
              "      <td>0</td>\n",
              "      <td>0</td>\n",
              "      <td>19</td>\n",
              "    </tr>\n",
              "    <tr>\n",
              "      <th>2931445</th>\n",
              "      <td>2931445</td>\n",
              "      <td>2</td>\n",
              "      <td>2020-07-15</td>\n",
              "      <td>1949-06-16</td>\n",
              "      <td>1</td>\n",
              "      <td>5</td>\n",
              "      <td>0</td>\n",
              "      <td>6</td>\n",
              "      <td>150060</td>\n",
              "      <td>R98X</td>\n",
              "      <td>0</td>\n",
              "      <td>0</td>\n",
              "      <td>0</td>\n",
              "      <td>0</td>\n",
              "      <td>R98</td>\n",
              "      <td>0</td>\n",
              "      <td>0</td>\n",
              "      <td>71</td>\n",
              "    </tr>\n",
              "  </tbody>\n",
              "</table>\n",
              "</div>"
            ],
            "text/plain": [
              "         Unnamed: 0  TIPOBITO     DTOBITO  ... CIRCOBITO  CAUSABAS_O  IDADE\n",
              "2931441     2931441         2  2020-07-14  ...         4           0     51\n",
              "2931442     2931442         2  2020-09-24  ...         0           0     12\n",
              "2931443     2931443         2  2020-07-15  ...         0           0     27\n",
              "2931444     2931444         2  2020-07-13  ...         0           0     19\n",
              "2931445     2931445         2  2020-07-15  ...         0           0     71\n",
              "\n",
              "[5 rows x 18 columns]"
            ]
          },
          "metadata": {},
          "execution_count": 25
        }
      ]
    },
    {
      "cell_type": "code",
      "metadata": {
        "id": "1FWF72joC7xB",
        "colab": {
          "base_uri": "https://localhost:8080/"
        },
        "outputId": "b66db0de-dab9-4864-cf3e-2c6b245d952a"
      },
      "source": [
        "df_mortes_original.isnull().sum()"
      ],
      "execution_count": 26,
      "outputs": [
        {
          "output_type": "execute_result",
          "data": {
            "text/plain": [
              "Unnamed: 0    0\n",
              "TIPOBITO      0\n",
              "DTOBITO       0\n",
              "DTNASC        0\n",
              "SEXO          0\n",
              "RACACOR       0\n",
              "OCUP          0\n",
              "LOCOCOR       0\n",
              "CODMUNOCOR    0\n",
              "LINHAA        0\n",
              "LINHAB        0\n",
              "LINHAC        0\n",
              "LINHAD        0\n",
              "LINHAII       0\n",
              "CAUSABAS      0\n",
              "CIRCOBITO     0\n",
              "CAUSABAS_O    0\n",
              "IDADE         0\n",
              "dtype: int64"
            ]
          },
          "metadata": {},
          "execution_count": 26
        }
      ]
    },
    {
      "cell_type": "code",
      "metadata": {
        "id": "Z3IRPB_skd1i"
      },
      "source": [
        "#http://www2.datasus.gov.br/cid10/V2008/cid10.htm\n",
        "\n",
        "df_cid = pd.read_csv('CID-10-SUBCATEGORIAS.csv',sep=';',encoding = 'ISO-8859-1')\n",
        "df_cid.head()"
      ],
      "execution_count": null,
      "outputs": []
    },
    {
      "cell_type": "code",
      "metadata": {
        "id": "TwhbWyaZUz5B"
      },
      "source": [
        "df_cid_alt = df_cid.drop(columns=['CLASSIF','RESTRSEXO','CAUSAOBITO','DESCRABREV','REFER','EXCLUIDOS'])\n",
        "df_cid_alt.head()\n",
        "   "
      ],
      "execution_count": null,
      "outputs": []
    },
    {
      "cell_type": "code",
      "metadata": {
        "id": "t73FG5gu5kuD"
      },
      "source": [
        "#Merge dos obitos e da causa base da morte\n",
        "#df_Mort_2019_alt_2 = pd.merge(df_Mort_2019_alt,df_cid_alt, on ='SUBCAT')\n",
        "#df_Mort_2019_alt_2.head()"
      ],
      "execution_count": null,
      "outputs": []
    },
    {
      "cell_type": "code",
      "metadata": {
        "id": "Lg7inYzwctqV",
        "colab": {
          "base_uri": "https://localhost:8080/",
          "height": 204
        },
        "outputId": "5a49e28e-6d6c-46b7-fd7c-cd5ebffcaeab"
      },
      "source": [
        "#busca a tabelas tabelas do ibge\n",
        "#df_ibge = pd.read_html('https://www.ibge.gov.br/explica/codigos-dos-municipios.php#MG')\n",
        "df_ibge = pd.read_csv('ibge_db.csv',sep=',')\n",
        "df_ibge.head()"
      ],
      "execution_count": 35,
      "outputs": [
        {
          "output_type": "execute_result",
          "data": {
            "text/html": [
              "<div>\n",
              "<style scoped>\n",
              "    .dataframe tbody tr th:only-of-type {\n",
              "        vertical-align: middle;\n",
              "    }\n",
              "\n",
              "    .dataframe tbody tr th {\n",
              "        vertical-align: top;\n",
              "    }\n",
              "\n",
              "    .dataframe thead th {\n",
              "        text-align: right;\n",
              "    }\n",
              "</style>\n",
              "<table border=\"1\" class=\"dataframe\">\n",
              "  <thead>\n",
              "    <tr style=\"text-align: right;\">\n",
              "      <th></th>\n",
              "      <th>uf</th>\n",
              "      <th>sgl_uf</th>\n",
              "      <th>nm_uf</th>\n",
              "      <th>cd_municipio_compl</th>\n",
              "      <th>nm_municipio</th>\n",
              "      <th>cd_municipio_base</th>\n",
              "    </tr>\n",
              "  </thead>\n",
              "  <tbody>\n",
              "    <tr>\n",
              "      <th>0</th>\n",
              "      <td>11</td>\n",
              "      <td>RO</td>\n",
              "      <td>Rondônia</td>\n",
              "      <td>1101484</td>\n",
              "      <td>São Felipe D Oeste                            ...</td>\n",
              "      <td>110148</td>\n",
              "    </tr>\n",
              "    <tr>\n",
              "      <th>1</th>\n",
              "      <td>11</td>\n",
              "      <td>RO</td>\n",
              "      <td>Rondônia</td>\n",
              "      <td>1100940</td>\n",
              "      <td>Cujubim                                       ...</td>\n",
              "      <td>110094</td>\n",
              "    </tr>\n",
              "    <tr>\n",
              "      <th>2</th>\n",
              "      <td>11</td>\n",
              "      <td>RO</td>\n",
              "      <td>Rondônia</td>\n",
              "      <td>1100098</td>\n",
              "      <td>Espigão D Oeste                               ...</td>\n",
              "      <td>110009</td>\n",
              "    </tr>\n",
              "    <tr>\n",
              "      <th>3</th>\n",
              "      <td>11</td>\n",
              "      <td>RO</td>\n",
              "      <td>Rondônia</td>\n",
              "      <td>1101005</td>\n",
              "      <td>Governador Jorge Teixeira                     ...</td>\n",
              "      <td>110100</td>\n",
              "    </tr>\n",
              "    <tr>\n",
              "      <th>4</th>\n",
              "      <td>11</td>\n",
              "      <td>RO</td>\n",
              "      <td>Rondônia</td>\n",
              "      <td>1100106</td>\n",
              "      <td>Guajará-Mirim                                 ...</td>\n",
              "      <td>110010</td>\n",
              "    </tr>\n",
              "  </tbody>\n",
              "</table>\n",
              "</div>"
            ],
            "text/plain": [
              "   uf  ... cd_municipio_base\n",
              "0  11  ...            110148\n",
              "1  11  ...            110094\n",
              "2  11  ...            110009\n",
              "3  11  ...            110100\n",
              "4  11  ...            110010\n",
              "\n",
              "[5 rows x 6 columns]"
            ]
          },
          "metadata": {},
          "execution_count": 35
        }
      ]
    },
    {
      "cell_type": "code",
      "metadata": {
        "id": "fn2wQXQiHjh7"
      },
      "source": [
        "df_ibge = df_ibge.drop(columns=['uf','nm_uf', 'cd_municipio_compl', 'nm_municipio'])\n",
        "df_ibge.rename(columns={'cd_municipio_base':'COD_MUNICIPIO_OCOR'}, inplace=True)\n",
        "df_ibge.rename(columns={'sgl_uf':'UF'}, inplace=True)\n",
        "\n",
        "#df_ibge['COD_MUNICIPIO_OCOR'] = df_ibge['COD_MUNICIPIO_OCOR'].astype(str)\n"
      ],
      "execution_count": 36,
      "outputs": []
    },
    {
      "cell_type": "code",
      "metadata": {
        "colab": {
          "base_uri": "https://localhost:8080/",
          "height": 204
        },
        "id": "HnboBEtxeupJ",
        "outputId": "a31d9fb5-8009-4e9e-a37b-b2443ff3359f"
      },
      "source": [
        "df_ibge.head(5)"
      ],
      "execution_count": 37,
      "outputs": [
        {
          "output_type": "execute_result",
          "data": {
            "text/html": [
              "<div>\n",
              "<style scoped>\n",
              "    .dataframe tbody tr th:only-of-type {\n",
              "        vertical-align: middle;\n",
              "    }\n",
              "\n",
              "    .dataframe tbody tr th {\n",
              "        vertical-align: top;\n",
              "    }\n",
              "\n",
              "    .dataframe thead th {\n",
              "        text-align: right;\n",
              "    }\n",
              "</style>\n",
              "<table border=\"1\" class=\"dataframe\">\n",
              "  <thead>\n",
              "    <tr style=\"text-align: right;\">\n",
              "      <th></th>\n",
              "      <th>UF</th>\n",
              "      <th>COD_MUNICIPIO_OCOR</th>\n",
              "    </tr>\n",
              "  </thead>\n",
              "  <tbody>\n",
              "    <tr>\n",
              "      <th>0</th>\n",
              "      <td>RO</td>\n",
              "      <td>110148</td>\n",
              "    </tr>\n",
              "    <tr>\n",
              "      <th>1</th>\n",
              "      <td>RO</td>\n",
              "      <td>110094</td>\n",
              "    </tr>\n",
              "    <tr>\n",
              "      <th>2</th>\n",
              "      <td>RO</td>\n",
              "      <td>110009</td>\n",
              "    </tr>\n",
              "    <tr>\n",
              "      <th>3</th>\n",
              "      <td>RO</td>\n",
              "      <td>110100</td>\n",
              "    </tr>\n",
              "    <tr>\n",
              "      <th>4</th>\n",
              "      <td>RO</td>\n",
              "      <td>110010</td>\n",
              "    </tr>\n",
              "  </tbody>\n",
              "</table>\n",
              "</div>"
            ],
            "text/plain": [
              "   UF  COD_MUNICIPIO_OCOR\n",
              "0  RO              110148\n",
              "1  RO              110094\n",
              "2  RO              110009\n",
              "3  RO              110100\n",
              "4  RO              110010"
            ]
          },
          "metadata": {},
          "execution_count": 37
        }
      ]
    },
    {
      "cell_type": "code",
      "metadata": {
        "colab": {
          "base_uri": "https://localhost:8080/"
        },
        "id": "IRoAdHJmo9fe",
        "outputId": "760df857-d79a-440d-c354-47a12d3ca335"
      },
      "source": [
        "df_ibge.shape"
      ],
      "execution_count": 64,
      "outputs": [
        {
          "output_type": "execute_result",
          "data": {
            "text/plain": [
              "(5570, 2)"
            ]
          },
          "metadata": {},
          "execution_count": 64
        }
      ]
    },
    {
      "cell_type": "code",
      "metadata": {
        "colab": {
          "base_uri": "https://localhost:8080/"
        },
        "id": "jABR2D4N0Xql",
        "outputId": "e4ff7583-95d3-4e52-b958-2bdbada5bd63"
      },
      "source": [
        "df_ibge.info()"
      ],
      "execution_count": 39,
      "outputs": [
        {
          "output_type": "stream",
          "name": "stdout",
          "text": [
            "<class 'pandas.core.frame.DataFrame'>\n",
            "RangeIndex: 5570 entries, 0 to 5569\n",
            "Data columns (total 2 columns):\n",
            " #   Column              Non-Null Count  Dtype \n",
            "---  ------              --------------  ----- \n",
            " 0   UF                  5570 non-null   object\n",
            " 1   COD_MUNICIPIO_OCOR  5570 non-null   int64 \n",
            "dtypes: int64(1), object(1)\n",
            "memory usage: 87.2+ KB\n"
          ]
        }
      ]
    },
    {
      "cell_type": "code",
      "metadata": {
        "colab": {
          "base_uri": "https://localhost:8080/",
          "height": 204
        },
        "id": "318DJbj3eB9X",
        "outputId": "c79066ed-6b94-4ecd-99ba-0810105cddfb"
      },
      "source": [
        "#http://www.mtecbo.gov.br/cbosite/pages/downloads.jsf\n",
        "df_CBO = pd.read_csv('CBO2002_Ocupacao.csv',sep=';',encoding = 'ISO-8859-1')\n",
        "df_CBO.head()"
      ],
      "execution_count": 40,
      "outputs": [
        {
          "output_type": "execute_result",
          "data": {
            "text/html": [
              "<div>\n",
              "<style scoped>\n",
              "    .dataframe tbody tr th:only-of-type {\n",
              "        vertical-align: middle;\n",
              "    }\n",
              "\n",
              "    .dataframe tbody tr th {\n",
              "        vertical-align: top;\n",
              "    }\n",
              "\n",
              "    .dataframe thead th {\n",
              "        text-align: right;\n",
              "    }\n",
              "</style>\n",
              "<table border=\"1\" class=\"dataframe\">\n",
              "  <thead>\n",
              "    <tr style=\"text-align: right;\">\n",
              "      <th></th>\n",
              "      <th>CODIGO</th>\n",
              "      <th>TITULO</th>\n",
              "    </tr>\n",
              "  </thead>\n",
              "  <tbody>\n",
              "    <tr>\n",
              "      <th>0</th>\n",
              "      <td>10105</td>\n",
              "      <td>Oficial general da aeronáutica</td>\n",
              "    </tr>\n",
              "    <tr>\n",
              "      <th>1</th>\n",
              "      <td>10110</td>\n",
              "      <td>Oficial general do exército</td>\n",
              "    </tr>\n",
              "    <tr>\n",
              "      <th>2</th>\n",
              "      <td>10115</td>\n",
              "      <td>Oficial general da marinha</td>\n",
              "    </tr>\n",
              "    <tr>\n",
              "      <th>3</th>\n",
              "      <td>10205</td>\n",
              "      <td>Oficial da aeronáutica</td>\n",
              "    </tr>\n",
              "    <tr>\n",
              "      <th>4</th>\n",
              "      <td>10210</td>\n",
              "      <td>Oficial do exército</td>\n",
              "    </tr>\n",
              "  </tbody>\n",
              "</table>\n",
              "</div>"
            ],
            "text/plain": [
              "   CODIGO                          TITULO\n",
              "0   10105  Oficial general da aeronáutica\n",
              "1   10110     Oficial general do exército\n",
              "2   10115      Oficial general da marinha\n",
              "3   10205          Oficial da aeronáutica\n",
              "4   10210             Oficial do exército"
            ]
          },
          "metadata": {},
          "execution_count": 40
        }
      ]
    },
    {
      "cell_type": "code",
      "metadata": {
        "colab": {
          "base_uri": "https://localhost:8080/"
        },
        "id": "8DROG6xgnzVI",
        "outputId": "454514ee-5442-4f8d-9335-9206600ad2f6"
      },
      "source": [
        "df_CBO.info()"
      ],
      "execution_count": 41,
      "outputs": [
        {
          "output_type": "stream",
          "name": "stdout",
          "text": [
            "<class 'pandas.core.frame.DataFrame'>\n",
            "RangeIndex: 2666 entries, 0 to 2665\n",
            "Data columns (total 2 columns):\n",
            " #   Column  Non-Null Count  Dtype \n",
            "---  ------  --------------  ----- \n",
            " 0   CODIGO  2666 non-null   int64 \n",
            " 1   TITULO  2666 non-null   object\n",
            "dtypes: int64(1), object(1)\n",
            "memory usage: 41.8+ KB\n"
          ]
        }
      ]
    },
    {
      "cell_type": "code",
      "metadata": {
        "colab": {
          "base_uri": "https://localhost:8080/"
        },
        "id": "g5ReFHvmortK",
        "outputId": "d9fe3fb0-b530-4682-8d4f-c7b044fe1841"
      },
      "source": [
        "df_CBO.shape"
      ],
      "execution_count": 6,
      "outputs": [
        {
          "output_type": "execute_result",
          "data": {
            "text/plain": [
              "(2666, 2)"
            ]
          },
          "metadata": {},
          "execution_count": 6
        }
      ]
    },
    {
      "cell_type": "code",
      "metadata": {
        "id": "8Z5B1lLqZjZq"
      },
      "source": [
        "# Realizar o merge Dataframe df_Mortes e df_cid_alt\n",
        "#df_mortes_original= pd.merge(df_mortes_original, df_ibge, on=['COD_MUNICIPIO_OCOR'])\n",
        "\n",
        "df_mortes_ibge = pd.merge(df_mortes_original,df_ibge, right_on=[\"COD_MUNICIPIO_OCOR\"], left_on=[\"CODMUNOCOR\"])"
      ],
      "execution_count": 46,
      "outputs": []
    },
    {
      "cell_type": "code",
      "metadata": {
        "colab": {
          "base_uri": "https://localhost:8080/",
          "height": 326
        },
        "id": "fyV8o7nA7AC8",
        "outputId": "6906a327-19ce-4295-8a4a-95ef8d620912"
      },
      "source": [
        "df_mortes_ibge.head(5)"
      ],
      "execution_count": 47,
      "outputs": [
        {
          "output_type": "execute_result",
          "data": {
            "text/html": [
              "<div>\n",
              "<style scoped>\n",
              "    .dataframe tbody tr th:only-of-type {\n",
              "        vertical-align: middle;\n",
              "    }\n",
              "\n",
              "    .dataframe tbody tr th {\n",
              "        vertical-align: top;\n",
              "    }\n",
              "\n",
              "    .dataframe thead th {\n",
              "        text-align: right;\n",
              "    }\n",
              "</style>\n",
              "<table border=\"1\" class=\"dataframe\">\n",
              "  <thead>\n",
              "    <tr style=\"text-align: right;\">\n",
              "      <th></th>\n",
              "      <th>Unnamed: 0</th>\n",
              "      <th>TIPOBITO</th>\n",
              "      <th>DTOBITO</th>\n",
              "      <th>DTNASC</th>\n",
              "      <th>SEXO</th>\n",
              "      <th>RACACOR</th>\n",
              "      <th>OCUP</th>\n",
              "      <th>LOCOCOR</th>\n",
              "      <th>CODMUNOCOR</th>\n",
              "      <th>LINHAA</th>\n",
              "      <th>LINHAB</th>\n",
              "      <th>LINHAC</th>\n",
              "      <th>LINHAD</th>\n",
              "      <th>LINHAII</th>\n",
              "      <th>CAUSABAS</th>\n",
              "      <th>CIRCOBITO</th>\n",
              "      <th>CAUSABAS_O</th>\n",
              "      <th>IDADE</th>\n",
              "      <th>UF</th>\n",
              "      <th>COD_MUNICIPIO_OCOR</th>\n",
              "    </tr>\n",
              "  </thead>\n",
              "  <tbody>\n",
              "    <tr>\n",
              "      <th>0</th>\n",
              "      <td>0</td>\n",
              "      <td>2</td>\n",
              "      <td>2019-01-21</td>\n",
              "      <td>1961-02-18</td>\n",
              "      <td>1</td>\n",
              "      <td>2</td>\n",
              "      <td>512105</td>\n",
              "      <td>1</td>\n",
              "      <td>290750</td>\n",
              "      <td>R570</td>\n",
              "      <td>J81X</td>\n",
              "      <td>I10X</td>\n",
              "      <td>N189</td>\n",
              "      <td>0</td>\n",
              "      <td>I120</td>\n",
              "      <td>0</td>\n",
              "      <td>I120</td>\n",
              "      <td>57</td>\n",
              "      <td>BA</td>\n",
              "      <td>290750</td>\n",
              "    </tr>\n",
              "    <tr>\n",
              "      <th>1</th>\n",
              "      <td>1</td>\n",
              "      <td>2</td>\n",
              "      <td>2019-01-28</td>\n",
              "      <td>1938-07-03</td>\n",
              "      <td>2</td>\n",
              "      <td>0</td>\n",
              "      <td>999992</td>\n",
              "      <td>1</td>\n",
              "      <td>290750</td>\n",
              "      <td>A419</td>\n",
              "      <td>0</td>\n",
              "      <td>0</td>\n",
              "      <td>0</td>\n",
              "      <td>0</td>\n",
              "      <td>A419</td>\n",
              "      <td>0</td>\n",
              "      <td>A419</td>\n",
              "      <td>80</td>\n",
              "      <td>BA</td>\n",
              "      <td>290750</td>\n",
              "    </tr>\n",
              "    <tr>\n",
              "      <th>2</th>\n",
              "      <td>2</td>\n",
              "      <td>2</td>\n",
              "      <td>2019-01-27</td>\n",
              "      <td>1945-11-15</td>\n",
              "      <td>2</td>\n",
              "      <td>4</td>\n",
              "      <td>999992</td>\n",
              "      <td>1</td>\n",
              "      <td>290750</td>\n",
              "      <td>I500</td>\n",
              "      <td>I10X</td>\n",
              "      <td>E039</td>\n",
              "      <td>0</td>\n",
              "      <td>0</td>\n",
              "      <td>E039</td>\n",
              "      <td>0</td>\n",
              "      <td>E039</td>\n",
              "      <td>73</td>\n",
              "      <td>BA</td>\n",
              "      <td>290750</td>\n",
              "    </tr>\n",
              "    <tr>\n",
              "      <th>3</th>\n",
              "      <td>3</td>\n",
              "      <td>2</td>\n",
              "      <td>2019-01-12</td>\n",
              "      <td>1971-11-04</td>\n",
              "      <td>1</td>\n",
              "      <td>4</td>\n",
              "      <td>0</td>\n",
              "      <td>1</td>\n",
              "      <td>290750</td>\n",
              "      <td>J960</td>\n",
              "      <td>R220</td>\n",
              "      <td>0</td>\n",
              "      <td>0</td>\n",
              "      <td>0</td>\n",
              "      <td>R220</td>\n",
              "      <td>0</td>\n",
              "      <td>R220</td>\n",
              "      <td>47</td>\n",
              "      <td>BA</td>\n",
              "      <td>290750</td>\n",
              "    </tr>\n",
              "    <tr>\n",
              "      <th>4</th>\n",
              "      <td>4</td>\n",
              "      <td>2</td>\n",
              "      <td>2019-01-10</td>\n",
              "      <td>1946-10-12</td>\n",
              "      <td>2</td>\n",
              "      <td>4</td>\n",
              "      <td>999992</td>\n",
              "      <td>1</td>\n",
              "      <td>290750</td>\n",
              "      <td>J960</td>\n",
              "      <td>C159</td>\n",
              "      <td>0</td>\n",
              "      <td>0</td>\n",
              "      <td>0</td>\n",
              "      <td>C159</td>\n",
              "      <td>0</td>\n",
              "      <td>C159</td>\n",
              "      <td>72</td>\n",
              "      <td>BA</td>\n",
              "      <td>290750</td>\n",
              "    </tr>\n",
              "  </tbody>\n",
              "</table>\n",
              "</div>"
            ],
            "text/plain": [
              "   Unnamed: 0  TIPOBITO     DTOBITO  ... IDADE  UF  COD_MUNICIPIO_OCOR\n",
              "0           0         2  2019-01-21  ...    57  BA              290750\n",
              "1           1         2  2019-01-28  ...    80  BA              290750\n",
              "2           2         2  2019-01-27  ...    73  BA              290750\n",
              "3           3         2  2019-01-12  ...    47  BA              290750\n",
              "4           4         2  2019-01-10  ...    72  BA              290750\n",
              "\n",
              "[5 rows x 20 columns]"
            ]
          },
          "metadata": {},
          "execution_count": 47
        }
      ]
    },
    {
      "cell_type": "code",
      "metadata": {
        "colab": {
          "base_uri": "https://localhost:8080/"
        },
        "id": "_nW60vYA7O-q",
        "outputId": "2f9f8eb9-ea45-4602-e054-d6b5a33b5e96"
      },
      "source": [
        "df_mortes_ibge.shape"
      ],
      "execution_count": 48,
      "outputs": [
        {
          "output_type": "execute_result",
          "data": {
            "text/plain": [
              "(2897933, 20)"
            ]
          },
          "metadata": {},
          "execution_count": 48
        }
      ]
    },
    {
      "cell_type": "code",
      "metadata": {
        "colab": {
          "base_uri": "https://localhost:8080/"
        },
        "id": "RnDPiNuO7X3m",
        "outputId": "7f086e28-d898-45e9-8a39-0a4c594864d8"
      },
      "source": [
        "df_mortes_ibge.isnull().sum()"
      ],
      "execution_count": 49,
      "outputs": [
        {
          "output_type": "execute_result",
          "data": {
            "text/plain": [
              "Unnamed: 0            0\n",
              "TIPOBITO              0\n",
              "DTOBITO               0\n",
              "DTNASC                0\n",
              "SEXO                  0\n",
              "RACACOR               0\n",
              "OCUP                  0\n",
              "LOCOCOR               0\n",
              "CODMUNOCOR            0\n",
              "LINHAA                0\n",
              "LINHAB                0\n",
              "LINHAC                0\n",
              "LINHAD                0\n",
              "LINHAII               0\n",
              "CAUSABAS              0\n",
              "CIRCOBITO             0\n",
              "CAUSABAS_O            0\n",
              "IDADE                 0\n",
              "UF                    0\n",
              "COD_MUNICIPIO_OCOR    0\n",
              "dtype: int64"
            ]
          },
          "metadata": {},
          "execution_count": 49
        }
      ]
    },
    {
      "cell_type": "code",
      "metadata": {
        "id": "WcGBXuIg7hzY"
      },
      "source": [
        "df_mortes_ibge_CBO = pd.merge(df_mortes_ibge,df_CBO, right_on=[\"CODIGO\"], left_on=[\"OCUP\"])"
      ],
      "execution_count": 50,
      "outputs": []
    },
    {
      "cell_type": "code",
      "metadata": {
        "colab": {
          "base_uri": "https://localhost:8080/",
          "height": 581
        },
        "id": "r7ZMf1XD8k4t",
        "outputId": "76a5bb3d-a5fa-43e8-c41e-016cecf0a014"
      },
      "source": [
        "df_mortes_ibge_CBO.head()"
      ],
      "execution_count": 51,
      "outputs": [
        {
          "output_type": "execute_result",
          "data": {
            "text/html": [
              "<div>\n",
              "<style scoped>\n",
              "    .dataframe tbody tr th:only-of-type {\n",
              "        vertical-align: middle;\n",
              "    }\n",
              "\n",
              "    .dataframe tbody tr th {\n",
              "        vertical-align: top;\n",
              "    }\n",
              "\n",
              "    .dataframe thead th {\n",
              "        text-align: right;\n",
              "    }\n",
              "</style>\n",
              "<table border=\"1\" class=\"dataframe\">\n",
              "  <thead>\n",
              "    <tr style=\"text-align: right;\">\n",
              "      <th></th>\n",
              "      <th>Unnamed: 0</th>\n",
              "      <th>TIPOBITO</th>\n",
              "      <th>DTOBITO</th>\n",
              "      <th>DTNASC</th>\n",
              "      <th>SEXO</th>\n",
              "      <th>RACACOR</th>\n",
              "      <th>OCUP</th>\n",
              "      <th>LOCOCOR</th>\n",
              "      <th>CODMUNOCOR</th>\n",
              "      <th>LINHAA</th>\n",
              "      <th>LINHAB</th>\n",
              "      <th>LINHAC</th>\n",
              "      <th>LINHAD</th>\n",
              "      <th>LINHAII</th>\n",
              "      <th>CAUSABAS</th>\n",
              "      <th>CIRCOBITO</th>\n",
              "      <th>CAUSABAS_O</th>\n",
              "      <th>IDADE</th>\n",
              "      <th>UF</th>\n",
              "      <th>COD_MUNICIPIO_OCOR</th>\n",
              "      <th>CODIGO</th>\n",
              "      <th>TITULO</th>\n",
              "    </tr>\n",
              "  </thead>\n",
              "  <tbody>\n",
              "    <tr>\n",
              "      <th>0</th>\n",
              "      <td>0</td>\n",
              "      <td>2</td>\n",
              "      <td>2019-01-21</td>\n",
              "      <td>1961-02-18</td>\n",
              "      <td>1</td>\n",
              "      <td>2</td>\n",
              "      <td>512105</td>\n",
              "      <td>1</td>\n",
              "      <td>290750</td>\n",
              "      <td>R570</td>\n",
              "      <td>J81X</td>\n",
              "      <td>I10X</td>\n",
              "      <td>N189</td>\n",
              "      <td>0</td>\n",
              "      <td>I120</td>\n",
              "      <td>0</td>\n",
              "      <td>I120</td>\n",
              "      <td>57</td>\n",
              "      <td>BA</td>\n",
              "      <td>290750</td>\n",
              "      <td>512105</td>\n",
              "      <td>Empregado  doméstico  nos serviços gerais</td>\n",
              "    </tr>\n",
              "    <tr>\n",
              "      <th>1</th>\n",
              "      <td>81905</td>\n",
              "      <td>2</td>\n",
              "      <td>2019-05-27</td>\n",
              "      <td>1993-05-30</td>\n",
              "      <td>1</td>\n",
              "      <td>4</td>\n",
              "      <td>512105</td>\n",
              "      <td>3</td>\n",
              "      <td>290750</td>\n",
              "      <td>S069</td>\n",
              "      <td>X950</td>\n",
              "      <td>0</td>\n",
              "      <td>0</td>\n",
              "      <td>T792</td>\n",
              "      <td>X950</td>\n",
              "      <td>3</td>\n",
              "      <td>X950</td>\n",
              "      <td>25</td>\n",
              "      <td>BA</td>\n",
              "      <td>290750</td>\n",
              "      <td>512105</td>\n",
              "      <td>Empregado  doméstico  nos serviços gerais</td>\n",
              "    </tr>\n",
              "    <tr>\n",
              "      <th>2</th>\n",
              "      <td>143792</td>\n",
              "      <td>2</td>\n",
              "      <td>2019-02-12</td>\n",
              "      <td>1947-07-29</td>\n",
              "      <td>2</td>\n",
              "      <td>4</td>\n",
              "      <td>512105</td>\n",
              "      <td>1</td>\n",
              "      <td>290750</td>\n",
              "      <td>I219</td>\n",
              "      <td>I10X</td>\n",
              "      <td>0</td>\n",
              "      <td>0</td>\n",
              "      <td>E148</td>\n",
              "      <td>I219</td>\n",
              "      <td>0</td>\n",
              "      <td>I219</td>\n",
              "      <td>71</td>\n",
              "      <td>BA</td>\n",
              "      <td>290750</td>\n",
              "      <td>512105</td>\n",
              "      <td>Empregado  doméstico  nos serviços gerais</td>\n",
              "    </tr>\n",
              "    <tr>\n",
              "      <th>3</th>\n",
              "      <td>329256</td>\n",
              "      <td>2</td>\n",
              "      <td>2019-02-24</td>\n",
              "      <td>1979-12-04</td>\n",
              "      <td>1</td>\n",
              "      <td>4</td>\n",
              "      <td>512105</td>\n",
              "      <td>5</td>\n",
              "      <td>290750</td>\n",
              "      <td>S068</td>\n",
              "      <td>X954</td>\n",
              "      <td>0</td>\n",
              "      <td>0</td>\n",
              "      <td>0</td>\n",
              "      <td>X954</td>\n",
              "      <td>3</td>\n",
              "      <td>X954</td>\n",
              "      <td>39</td>\n",
              "      <td>BA</td>\n",
              "      <td>290750</td>\n",
              "      <td>512105</td>\n",
              "      <td>Empregado  doméstico  nos serviços gerais</td>\n",
              "    </tr>\n",
              "    <tr>\n",
              "      <th>4</th>\n",
              "      <td>1116316</td>\n",
              "      <td>2</td>\n",
              "      <td>2019-10-08</td>\n",
              "      <td>1995-02-06</td>\n",
              "      <td>1</td>\n",
              "      <td>4</td>\n",
              "      <td>512105</td>\n",
              "      <td>3</td>\n",
              "      <td>290750</td>\n",
              "      <td>R69X</td>\n",
              "      <td>0</td>\n",
              "      <td>0</td>\n",
              "      <td>0</td>\n",
              "      <td>0</td>\n",
              "      <td>R99</td>\n",
              "      <td>0</td>\n",
              "      <td>R99</td>\n",
              "      <td>24</td>\n",
              "      <td>BA</td>\n",
              "      <td>290750</td>\n",
              "      <td>512105</td>\n",
              "      <td>Empregado  doméstico  nos serviços gerais</td>\n",
              "    </tr>\n",
              "  </tbody>\n",
              "</table>\n",
              "</div>"
            ],
            "text/plain": [
              "   Unnamed: 0  TIPOBITO  ...  CODIGO                                     TITULO\n",
              "0           0         2  ...  512105  Empregado  doméstico  nos serviços gerais\n",
              "1       81905         2  ...  512105  Empregado  doméstico  nos serviços gerais\n",
              "2      143792         2  ...  512105  Empregado  doméstico  nos serviços gerais\n",
              "3      329256         2  ...  512105  Empregado  doméstico  nos serviços gerais\n",
              "4     1116316         2  ...  512105  Empregado  doméstico  nos serviços gerais\n",
              "\n",
              "[5 rows x 22 columns]"
            ]
          },
          "metadata": {},
          "execution_count": 51
        }
      ]
    },
    {
      "cell_type": "code",
      "metadata": {
        "colab": {
          "base_uri": "https://localhost:8080/",
          "height": 445
        },
        "id": "5-xSv5II84RI",
        "outputId": "0d79b526-b73e-4530-cbd1-fcb373781902"
      },
      "source": [
        "df_mortes_ibge_CBO.tail(5)"
      ],
      "execution_count": 53,
      "outputs": [
        {
          "output_type": "execute_result",
          "data": {
            "text/html": [
              "<div>\n",
              "<style scoped>\n",
              "    .dataframe tbody tr th:only-of-type {\n",
              "        vertical-align: middle;\n",
              "    }\n",
              "\n",
              "    .dataframe tbody tr th {\n",
              "        vertical-align: top;\n",
              "    }\n",
              "\n",
              "    .dataframe thead th {\n",
              "        text-align: right;\n",
              "    }\n",
              "</style>\n",
              "<table border=\"1\" class=\"dataframe\">\n",
              "  <thead>\n",
              "    <tr style=\"text-align: right;\">\n",
              "      <th></th>\n",
              "      <th>Unnamed: 0</th>\n",
              "      <th>TIPOBITO</th>\n",
              "      <th>DTOBITO</th>\n",
              "      <th>DTNASC</th>\n",
              "      <th>SEXO</th>\n",
              "      <th>RACACOR</th>\n",
              "      <th>OCUP</th>\n",
              "      <th>LOCOCOR</th>\n",
              "      <th>CODMUNOCOR</th>\n",
              "      <th>LINHAA</th>\n",
              "      <th>LINHAB</th>\n",
              "      <th>LINHAC</th>\n",
              "      <th>LINHAD</th>\n",
              "      <th>LINHAII</th>\n",
              "      <th>CAUSABAS</th>\n",
              "      <th>CIRCOBITO</th>\n",
              "      <th>CAUSABAS_O</th>\n",
              "      <th>IDADE</th>\n",
              "      <th>UF</th>\n",
              "      <th>COD_MUNICIPIO_OCOR</th>\n",
              "      <th>CODIGO</th>\n",
              "      <th>TITULO</th>\n",
              "    </tr>\n",
              "  </thead>\n",
              "  <tbody>\n",
              "    <tr>\n",
              "      <th>1113964</th>\n",
              "      <td>2489633</td>\n",
              "      <td>2</td>\n",
              "      <td>2020-12-18</td>\n",
              "      <td>2002-08-09</td>\n",
              "      <td>1</td>\n",
              "      <td>4</td>\n",
              "      <td>374115</td>\n",
              "      <td>4</td>\n",
              "      <td>150503</td>\n",
              "      <td>R092</td>\n",
              "      <td>R688</td>\n",
              "      <td>S099</td>\n",
              "      <td>V244</td>\n",
              "      <td>0</td>\n",
              "      <td>V244</td>\n",
              "      <td>1</td>\n",
              "      <td>V244</td>\n",
              "      <td>18</td>\n",
              "      <td>PA</td>\n",
              "      <td>150503</td>\n",
              "      <td>374115</td>\n",
              "      <td>Técnico em masterização de áudio</td>\n",
              "    </tr>\n",
              "    <tr>\n",
              "      <th>1113965</th>\n",
              "      <td>1732705</td>\n",
              "      <td>2</td>\n",
              "      <td>2020-01-08</td>\n",
              "      <td>1994-11-29</td>\n",
              "      <td>1</td>\n",
              "      <td>4</td>\n",
              "      <td>811610</td>\n",
              "      <td>2</td>\n",
              "      <td>522119</td>\n",
              "      <td>T792</td>\n",
              "      <td>S268</td>\n",
              "      <td>X959</td>\n",
              "      <td>0</td>\n",
              "      <td>0</td>\n",
              "      <td>X959</td>\n",
              "      <td>3</td>\n",
              "      <td>X959</td>\n",
              "      <td>25</td>\n",
              "      <td>GO</td>\n",
              "      <td>522119</td>\n",
              "      <td>811610</td>\n",
              "      <td>Operador de carro de apagamento e coque</td>\n",
              "    </tr>\n",
              "    <tr>\n",
              "      <th>1113966</th>\n",
              "      <td>2270831</td>\n",
              "      <td>2</td>\n",
              "      <td>2020-08-24</td>\n",
              "      <td>1971-08-30</td>\n",
              "      <td>1</td>\n",
              "      <td>4</td>\n",
              "      <td>613415</td>\n",
              "      <td>3</td>\n",
              "      <td>314740</td>\n",
              "      <td>E86X</td>\n",
              "      <td>E46X</td>\n",
              "      <td>0</td>\n",
              "      <td>0</td>\n",
              "      <td>F192</td>\n",
              "      <td>F192</td>\n",
              "      <td>0</td>\n",
              "      <td>F192</td>\n",
              "      <td>48</td>\n",
              "      <td>MG</td>\n",
              "      <td>314740</td>\n",
              "      <td>613415</td>\n",
              "      <td>Minhocultor</td>\n",
              "    </tr>\n",
              "    <tr>\n",
              "      <th>1113967</th>\n",
              "      <td>2550355</td>\n",
              "      <td>2</td>\n",
              "      <td>2020-12-30</td>\n",
              "      <td>1953-02-20</td>\n",
              "      <td>1</td>\n",
              "      <td>4</td>\n",
              "      <td>710110</td>\n",
              "      <td>1</td>\n",
              "      <td>230205</td>\n",
              "      <td>R571</td>\n",
              "      <td>0</td>\n",
              "      <td>0</td>\n",
              "      <td>0</td>\n",
              "      <td>0</td>\n",
              "      <td>R571</td>\n",
              "      <td>0</td>\n",
              "      <td>R571</td>\n",
              "      <td>67</td>\n",
              "      <td>CE</td>\n",
              "      <td>230205</td>\n",
              "      <td>710110</td>\n",
              "      <td>Supervisor de extração de sal</td>\n",
              "    </tr>\n",
              "    <tr>\n",
              "      <th>1113968</th>\n",
              "      <td>429450</td>\n",
              "      <td>2</td>\n",
              "      <td>2019-11-16</td>\n",
              "      <td>1970-08-19</td>\n",
              "      <td>1</td>\n",
              "      <td>1</td>\n",
              "      <td>632210</td>\n",
              "      <td>1</td>\n",
              "      <td>432135</td>\n",
              "      <td>R092</td>\n",
              "      <td>F102</td>\n",
              "      <td>F172</td>\n",
              "      <td>0</td>\n",
              "      <td>0</td>\n",
              "      <td>F102</td>\n",
              "      <td>0</td>\n",
              "      <td>F102</td>\n",
              "      <td>49</td>\n",
              "      <td>RS</td>\n",
              "      <td>432135</td>\n",
              "      <td>632210</td>\n",
              "      <td>Trabalhador da exploração de espécies produtor...</td>\n",
              "    </tr>\n",
              "  </tbody>\n",
              "</table>\n",
              "</div>"
            ],
            "text/plain": [
              "         Unnamed: 0  ...                                             TITULO\n",
              "1113964     2489633  ...                   Técnico em masterização de áudio\n",
              "1113965     1732705  ...            Operador de carro de apagamento e coque\n",
              "1113966     2270831  ...                                        Minhocultor\n",
              "1113967     2550355  ...                      Supervisor de extração de sal\n",
              "1113968      429450  ...  Trabalhador da exploração de espécies produtor...\n",
              "\n",
              "[5 rows x 22 columns]"
            ]
          },
          "metadata": {},
          "execution_count": 53
        }
      ]
    },
    {
      "cell_type": "code",
      "metadata": {
        "id": "kd46lj5rOuwj"
      },
      "source": [
        "df_obitos= df_mortes_ibge_CBO.drop(columns=['OCUP','CODMUNOCOR','CODIGO','COD_MUNICIPIO_OCOR']\t)\n"
      ],
      "execution_count": 55,
      "outputs": []
    },
    {
      "cell_type": "code",
      "metadata": {
        "colab": {
          "base_uri": "https://localhost:8080/"
        },
        "id": "imaVhksZ_YRi",
        "outputId": "53ffe961-63e9-4e3c-c735-ace6287f0f2e"
      },
      "source": [
        "df_obitos.shape"
      ],
      "execution_count": 58,
      "outputs": [
        {
          "output_type": "execute_result",
          "data": {
            "text/plain": [
              "(1113969, 18)"
            ]
          },
          "metadata": {},
          "execution_count": 58
        }
      ]
    },
    {
      "cell_type": "code",
      "metadata": {
        "colab": {
          "base_uri": "https://localhost:8080/"
        },
        "id": "2tgTCxI4Remk",
        "outputId": "04a80735-7b37-4dd8-8030-b350759b2192"
      },
      "source": [
        "print(\"Total de Obitos por UF - 2019\")\n",
        "df_obitos.groupby(['TITULO']).size().sort_values(ascending=False)\n"
      ],
      "execution_count": 78,
      "outputs": [
        {
          "output_type": "stream",
          "name": "stdout",
          "text": [
            "Total de Obitos por UF - 2019\n"
          ]
        },
        {
          "output_type": "execute_result",
          "data": {
            "text/plain": [
              "TITULO\n",
              "Trabalhador volante da agricultura            116774\n",
              "Trabalhador agropecuário em geral             116231\n",
              "Pedreiro                                       61651\n",
              "Representante comercial autônomo               53553\n",
              "Empregado  doméstico  nos serviços gerais      48095\n",
              "                                               ...  \n",
              "Professor de medicina veterinária                  1\n",
              "Professor de museologia do ensino superior         1\n",
              "Assistente de coreografia                          1\n",
              "Contorcionista                                     1\n",
              "Editor de revista                                  1\n",
              "Length: 2171, dtype: int64"
            ]
          },
          "metadata": {},
          "execution_count": 78
        }
      ]
    },
    {
      "cell_type": "code",
      "metadata": {
        "id": "ISJVLGdZhoU7"
      },
      "source": [
        "df_obitos['DTOBITO'] = df_obitos.DTOBITO.astype(datetime64)\n",
        "obito_por_ano = df_obitos.groupby(df_obitos['DTOBITO'].strftime('%Y'))['id'].count().sort_values(ascending=False)"
      ],
      "execution_count": null,
      "outputs": []
    },
    {
      "cell_type": "code",
      "metadata": {
        "id": "eOX8umdPp_Yi"
      },
      "source": [
        "ax = obito_por_ano.plot(kind='bar',figsize=(10.6),fontsize=13)\n",
        "ax = set_alpha(0.8)\n",
        "ax.set_title(\"titulo\",fontsize=22)\n",
        "ax.set_ylabel(\"Quantidade\",fontsize=15)\n",
        "ax.set_xlabel(\"Ano\",fontsize=15)\n",
        "plt.show"
      ],
      "execution_count": null,
      "outputs": []
    }
  ]
}