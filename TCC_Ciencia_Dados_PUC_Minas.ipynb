{
  "nbformat": 4,
  "nbformat_minor": 0,
  "metadata": {
    "colab": {
      "name": "TCC_Ciencia_Dados_PUC_Minas.ipynb",
      "provenance": [],
      "collapsed_sections": [],
      "authorship_tag": "ABX9TyMyHOH07qjXuito8xlECgFh",
      "include_colab_link": true
    },
    "kernelspec": {
      "name": "python3",
      "display_name": "Python 3"
    },
    "language_info": {
      "name": "python"
    }
  },
  "cells": [
    {
      "cell_type": "markdown",
      "metadata": {
        "id": "view-in-github",
        "colab_type": "text"
      },
      "source": [
        "<a href=\"https://colab.research.google.com/github/drianc/TCC-PUC-MINAS/blob/main/TCC_Ciencia_Dados_PUC_Minas.ipynb\" target=\"_parent\"><img src=\"https://colab.research.google.com/assets/colab-badge.svg\" alt=\"Open In Colab\"/></a>"
      ]
    },
    {
      "cell_type": "markdown",
      "metadata": {
        "id": "uAw2ws9gB_3f"
      },
      "source": [
        ""
      ]
    },
    {
      "cell_type": "markdown",
      "metadata": {
        "id": "T6vjTDACQrZb"
      },
      "source": [
        "#Apresentação \n",
        "\n",
        "PUC Minas - Pontifícia Universidade Católica de Minas Gerais\n",
        "\n",
        "Pós-Graduação em Ciência de Dados e Big Data\n",
        "\n",
        "Trabalho de Conclusão de Curso\n",
        "\n",
        "Notebook desenvolvido no ambiente GOOBLE COLAB (colab.research.google.com)\n",
        "\n",
        "Aluna: Adriana Cardoso\n",
        "Matricula :1135484 "
      ]
    },
    {
      "cell_type": "markdown",
      "metadata": {
        "id": "GJ2l4JyJGKeF"
      },
      "source": [
        "## Processamento e Tratamento dos Dados"
      ]
    },
    {
      "cell_type": "code",
      "metadata": {
        "id": "rYivpmBIUNsP"
      },
      "source": [
        "#import das bibliotecas\n",
        "import pandas as pd\n",
        "import datetime as dt\n",
        "import numpy as np\n"
      ],
      "execution_count": 1,
      "outputs": []
    },
    {
      "cell_type": "code",
      "metadata": {
        "colab": {
          "base_uri": "https://localhost:8080/"
        },
        "id": "jphsLbNgdkyy",
        "outputId": "3cc6a870-802f-4712-e25b-a71e2d7459ca"
      },
      "source": [
        "#Sistema de Informação sobre Mortalidade – SIM (1979 a 2019)\n",
        "#Fonte: Sistema de Informação sobre Mortalidade – SIM (1979 a 2019)\n",
        "      \n",
        "df_Mort_2019 = pd.read_csv('https://s3-sa-east-1.amazonaws.com/ckan.saude.gov.br/SIM/Mortalidade_Geral_2019.csv',sep=';',quoting=3)\n",
        "\n",
        "df_Mort_2019.iloc[:,0] = df_Mort_2019.iloc[:,0].str.strip('\"')\n",
        "df_Mort_2019.iloc[:,-1] = df_Mort_2019.iloc[:,-1].str.strip('\"')\n",
        "#strip \" from columns names\n",
        "df_Mort_2019.columns = df_Mort_2019.columns.str.strip('\"')"
      ],
      "execution_count": 6,
      "outputs": [
        {
          "output_type": "stream",
          "name": "stderr",
          "text": [
            "/usr/local/lib/python3.7/dist-packages/IPython/core/interactiveshell.py:2718: DtypeWarning: Columns (37,38,66) have mixed types.Specify dtype option on import or set low_memory=False.\n",
            "  interactivity=interactivity, compiler=compiler, result=result)\n"
          ]
        }
      ]
    },
    {
      "cell_type": "code",
      "metadata": {
        "colab": {
          "base_uri": "https://localhost:8080/"
        },
        "id": "i2VT_7WAGm0E",
        "outputId": "22364acd-2189-491d-c4bc-79a8423b5851"
      },
      "source": [
        "#Verificação dos registros do Dataframe e contagem dos dados do Dataframe de 2019\n",
        "df_Mort_2019.shape"
      ],
      "execution_count": 38,
      "outputs": [
        {
          "output_type": "execute_result",
          "data": {
            "text/plain": [
              "(1349801, 87)"
            ]
          },
          "metadata": {},
          "execution_count": 38
        }
      ]
    },
    {
      "cell_type": "code",
      "metadata": {
        "id": "p0Qq1YZpm2DS"
      },
      "source": [
        "df_Mort_2019.head(5)"
      ],
      "execution_count": null,
      "outputs": []
    },
    {
      "cell_type": "code",
      "metadata": {
        "id": "rZfVVvqfW_PR"
      },
      "source": [
        "#retirada de campos que não serão objeto deste estudo\n",
        "df_Mort_2019_alt = df_Mort_2019.drop(columns=['ORIGEM','ESC','HORAOBITO','ESC2010','SERIESCFAL','IDADEMAE','ESCMAE','ESCMAE2010','SERIESCMAE','OCUPMAE','QTDFILVIVO',\n",
        "                                              'QTDFILMORT','GRAVIDEZ','SEMAGESTAC','GESTACAO','OBITOPARTO','PESO','TPMORTEOCO','OBITOGRAV','OBITOPUERP',\n",
        "                                              'ASSISTMED','EXAME','CIRURGIA','CB_PRE','COMUNSVOIM','ACIDTRAB','FONTE','NUMEROLOTE','TPPOS',\n",
        "                                              'DTINVESTIG','ATESTANTE','STCODIFICA','CODIFICADO','VERSAOSIST','VERSAOSCB','FONTEINV','DTRECEBIM','ATESTADO',\n",
        "                                              'DTRECORIGA','CAUSAMAT','ESCMAEAGR1','ESCFALAGR1','STDOEPIDEM','STDONOVA','DIFDATA','NUDIASOBCO','NUDIASOBIN',\n",
        "                                              'DTCADINV','TPOBITOCOR','IDADE','DTCADASTRO','DTATESTADO','ALTCAUSA','DTCONINV',\n",
        "                                              'FONTES','TPRESGINFO','TPNIVELINV','NUDIASINF','DTCADINF','MORTEPARTO','DTCONCASO','FONTESINF',\n",
        "                                              'CONTADOR','PARTO','NECROPSIA','ESTABDESCR','CODMUNNATU','NATURAL','ESTCIV','CODESTAB','CODMUNRES'])\n",
        "#retirar as aspas dos  campos que serão trabalhados\n",
        "df_Mort_2019_alt.TIPOBITO= df_Mort_2019_alt.TIPOBITO.str.replace('\"','')\n",
        "df_Mort_2019_alt.DTOBITO= df_Mort_2019_alt.DTOBITO.str.replace('\"','')\n",
        "df_Mort_2019_alt.CIRCOBITO= df_Mort_2019_alt.CIRCOBITO.str.replace('\"','')\n",
        "df_Mort_2019_alt.OCUP= df_Mort_2019_alt.OCUP.str.replace('\"','')\n",
        "df_Mort_2019_alt.DTNASC = df_Mort_2019_alt.DTNASC.str.replace('\"','')\n",
        "df_Mort_2019_alt.SEXO = df_Mort_2019_alt.SEXO.str.replace('\"','')\n",
        "df_Mort_2019_alt.RACACOR = df_Mort_2019_alt.RACACOR.str.replace('\"','')\n",
        "df_Mort_2019_alt.LOCOCOR = df_Mort_2019_alt.LOCOCOR.str.replace('\"','')\n",
        "df_Mort_2019_alt.CODMUNOCOR = df_Mort_2019_alt.CODMUNOCOR.str.replace('\"','')\n",
        "df_Mort_2019_alt.LINHAA = df_Mort_2019_alt.LINHAA.str.replace('\"','')\n",
        "df_Mort_2019_alt.LINHAB = df_Mort_2019_alt.LINHAB.str.replace('\"','')\n",
        "df_Mort_2019_alt.LINHAC = df_Mort_2019_alt.LINHAC.str.replace('\"','')\n",
        "df_Mort_2019_alt.LINHAD = df_Mort_2019_alt.LINHAD.str.replace('\"','')\n",
        "df_Mort_2019_alt.LINHAII = df_Mort_2019_alt.LINHAII.str.replace('\"','')\n",
        "df_Mort_2019_alt.CAUSABAS = df_Mort_2019_alt.CAUSABAS.str.replace('\"','')\n",
        "df_Mort_2019_alt.CAUSABAS_O = df_Mort_2019_alt.CAUSABAS_O.str.replace('\"','')"
      ],
      "execution_count": 9,
      "outputs": []
    },
    {
      "cell_type": "code",
      "metadata": {
        "id": "t1FCvFTUkDhN"
      },
      "source": [
        "df_Mort_2019_alt.head(5)"
      ],
      "execution_count": null,
      "outputs": []
    },
    {
      "cell_type": "code",
      "metadata": {
        "colab": {
          "base_uri": "https://localhost:8080/"
        },
        "id": "8DbuFZUAASi6",
        "outputId": "1a31b5d9-effc-4e48-ba26-54f6fedc42d1"
      },
      "source": [
        "# Base de Registros de 2020 - Preliminar - (podendo sobre alterações conforme Portaria nº 116/2009.)\n",
        "#https://opendatasus.saude.gov.br/dataset/57c4b23e-6ffa-43ef-a1e7-23103f73f376/resource/8d947ac1-addb-49f2-85ab-824a7408a432/download/dobrano_.csv\n",
        "\n",
        "df_Mort_2020 = pd.read_csv('https://opendatasus.saude.gov.br/dataset/57c4b23e-6ffa-43ef-a1e7-23103f73f376/resource/8d947ac1-addb-49f2-85ab-824a7408a432/download/dobrano_.csv',sep=';',quoting=3)\n",
        "df_Mort_2020.iloc[:,0] = df_Mort_2020.iloc[:,0].str.strip('\"')\n",
        "df_Mort_2020.iloc[:,-1] = df_Mort_2020.iloc[:,-1].str.strip('\"')\n",
        "#strip \" from columns names\n",
        "df_Mort_2020.columns = df_Mort_2020.columns.str.strip('\"')"
      ],
      "execution_count": 11,
      "outputs": [
        {
          "output_type": "stream",
          "name": "stderr",
          "text": [
            "/usr/local/lib/python3.7/dist-packages/IPython/core/interactiveshell.py:2718: DtypeWarning: Columns (37,38,65,71,72,73,74,76,77,82,83) have mixed types.Specify dtype option on import or set low_memory=False.\n",
            "  interactivity=interactivity, compiler=compiler, result=result)\n"
          ]
        }
      ]
    },
    {
      "cell_type": "code",
      "metadata": {
        "colab": {
          "base_uri": "https://localhost:8080/"
        },
        "id": "hBZKQcrLGuSZ",
        "outputId": "1b481eb7-b64d-4069-94d2-994f51c4218a"
      },
      "source": [
        "#Verificação dos registros do Dataframe e contagem dos dados do Dataframe de 2020\n",
        "df_Mort_2020.shape"
      ],
      "execution_count": 39,
      "outputs": [
        {
          "output_type": "execute_result",
          "data": {
            "text/plain": [
              "(1581645, 86)"
            ]
          },
          "metadata": {},
          "execution_count": 39
        }
      ]
    },
    {
      "cell_type": "code",
      "metadata": {
        "id": "d7DrnVLJoz2C"
      },
      "source": [
        "df_Mort_2020.head(5)"
      ],
      "execution_count": null,
      "outputs": []
    },
    {
      "cell_type": "code",
      "metadata": {
        "id": "uprSg0hBVjKb"
      },
      "source": [
        "#retirada de campos que não serão objeto deste estudo\n",
        "df_Mort_2020_alt= df_Mort_2020.drop(columns=['contador', 'ORIGEM','HORAOBITO','NATURAL',\n",
        "       'CODMUNNATU', 'IDADE', 'ESTCIV', 'ESC',\n",
        "       'ESC2010', 'SERIESCFAL', 'CODMUNRES', 'CODESTAB',\n",
        "       'IDADEMAE', 'ESCMAE', 'ESCMAE2010', 'SERIESCMAE',\n",
        "       'OCUPMAE', 'QTDFILVIVO', 'QTDFILMORT', 'GRAVIDEZ', 'SEMAGESTAC',\n",
        "       'GESTACAO', 'PARTO', 'OBITOPARTO', 'PESO', 'TPMORTEOCO', 'OBITOGRAV',\n",
        "       'OBITOPUERP', 'ASSISTMED', 'EXAME', 'CIRURGIA', 'NECROPSIA','CB_PRE',\n",
        "       'COMUNSVOIM', 'DTATESTADO','ACIDTRAB', 'FONTE',\n",
        "       'NUMEROLOTE', 'DTINVESTIG', 'DTCADASTRO', 'ATESTANTE', 'STCODIFICA',\n",
        "       'CODIFICADO', 'VERSAOSIST', 'VERSAOSCB', 'FONTEINV', 'DTRECEBIM',\n",
        "       'ATESTADO', 'DTRECORIGA', 'OPOR_DO', 'CAUSAMAT', 'ESCMAEAGR1',\n",
        "       'ESCFALAGR1', 'STDOEPIDEM', 'STDONOVA', 'DIFDATA', 'NUDIASOBCO',\n",
        "       'DTCADINV', 'TPOBITOCOR', 'DTCONINV', 'FONTES', 'TPRESGINFO',\n",
        "       'TPNIVELINV', 'DTCADINF', 'MORTEPARTO', 'DTCONCASO', 'ALTCAUSA',\n",
        "       'TPPOS', 'TP_ALTERA', 'CB_ALT'])"
      ],
      "execution_count": 15,
      "outputs": []
    },
    {
      "cell_type": "code",
      "metadata": {
        "id": "w1XBvPigdJJ6"
      },
      "source": [
        "#retirar as aspas dos  campos que serão trabalhados\n",
        "df_Mort_2020_alt.TIPOBITO= df_Mort_2020_alt.TIPOBITO.str.replace('\"','')\n",
        "df_Mort_2020_alt.DTOBITO= df_Mort_2020_alt.DTOBITO.str.replace('\"','')\n",
        "df_Mort_2020_alt.CIRCOBITO= df_Mort_2020_alt.CIRCOBITO.str.replace('\"','')\n",
        "df_Mort_2020_alt.OCUP= df_Mort_2020_alt.OCUP.str.replace('\"','')\n",
        "df_Mort_2020_alt.DTNASC = df_Mort_2020_alt.DTNASC.str.replace('\"','')\n",
        "df_Mort_2020_alt.SEXO = df_Mort_2020_alt.SEXO.str.replace('\"','')\n",
        "df_Mort_2020_alt.RACACOR = df_Mort_2020_alt.RACACOR.str.replace('\"','')\n",
        "df_Mort_2020_alt.LOCOCOR = df_Mort_2020_alt.LOCOCOR.str.replace('\"','')\n",
        "df_Mort_2020_alt.CODMUNOCOR = df_Mort_2020_alt.CODMUNOCOR.str.replace('\"','')\n",
        "df_Mort_2020_alt.LINHAA = df_Mort_2020_alt.LINHAA.str.replace('\"','')\n",
        "df_Mort_2020_alt.LINHAB = df_Mort_2020_alt.LINHAB.str.replace('\"','')\n",
        "df_Mort_2020_alt.LINHAC = df_Mort_2020_alt.LINHAC.str.replace('\"','')\n",
        "df_Mort_2020_alt.LINHAD = df_Mort_2020_alt.LINHAD.str.replace('\"','')\n",
        "df_Mort_2020_alt.LINHAII = df_Mort_2020_alt.LINHAII.str.replace('\"','')\n",
        "df_Mort_2020_alt.CAUSABAS = df_Mort_2020_alt.CAUSABAS.str.replace('\"','')\n",
        "df_Mort_2020_alt.CAUSABAS_O = df_Mort_2020_alt.CAUSABAS_O.str.replace('\"','')"
      ],
      "execution_count": 16,
      "outputs": []
    },
    {
      "cell_type": "code",
      "metadata": {
        "id": "Y8UJTdOCn2YO"
      },
      "source": [
        "df_Mort_2020_alt.head(5) "
      ],
      "execution_count": null,
      "outputs": []
    },
    {
      "cell_type": "code",
      "metadata": {
        "id": "SmilAYEI4ioP"
      },
      "source": [
        "#junção dos dois dataframe\n",
        "df_Mortes= pd.concat([df_Mort_2019_alt,df_Mort_2020_alt],ignore_index=True)\n"
      ],
      "execution_count": 18,
      "outputs": []
    },
    {
      "cell_type": "code",
      "metadata": {
        "id": "7O0ysj4lXzzP",
        "colab": {
          "base_uri": "https://localhost:8080/"
        },
        "outputId": "57e7279c-faec-4d71-94a2-e87a9d1b3690"
      },
      "source": [
        "df_Mortes.info()"
      ],
      "execution_count": 19,
      "outputs": [
        {
          "output_type": "stream",
          "name": "stdout",
          "text": [
            "<class 'pandas.core.frame.DataFrame'>\n",
            "RangeIndex: 2931446 entries, 0 to 2931445\n",
            "Data columns (total 16 columns):\n",
            " #   Column      Dtype \n",
            "---  ------      ----- \n",
            " 0   TIPOBITO    object\n",
            " 1   DTOBITO     object\n",
            " 2   DTNASC      object\n",
            " 3   SEXO        object\n",
            " 4   RACACOR     object\n",
            " 5   OCUP        object\n",
            " 6   LOCOCOR     object\n",
            " 7   CODMUNOCOR  object\n",
            " 8   LINHAA      object\n",
            " 9   LINHAB      object\n",
            " 10  LINHAC      object\n",
            " 11  LINHAD      object\n",
            " 12  LINHAII     object\n",
            " 13  CAUSABAS    object\n",
            " 14  CIRCOBITO   object\n",
            " 15  CAUSABAS_O  object\n",
            "dtypes: object(16)\n",
            "memory usage: 357.8+ MB\n"
          ]
        }
      ]
    },
    {
      "cell_type": "code",
      "metadata": {
        "colab": {
          "base_uri": "https://localhost:8080/"
        },
        "id": "W0tpxWL897rL",
        "outputId": "b57ba6d8-6113-4eb6-d820-ea102d9325f8"
      },
      "source": [
        "df_Mortes.shape"
      ],
      "execution_count": 40,
      "outputs": [
        {
          "output_type": "execute_result",
          "data": {
            "text/plain": [
              "(2931446, 17)"
            ]
          },
          "metadata": {},
          "execution_count": 40
        }
      ]
    },
    {
      "cell_type": "code",
      "metadata": {
        "id": "jb7xBjZBrw6e"
      },
      "source": [
        "#tratamento dos campos de data\n",
        "df_Mortes.DTOBITO = pd.to_datetime(df_Mortes.DTOBITO,format='%d%m%Y',utc=False)\n",
        "df_Mortes['DTNASC']=pd.to_datetime(df_Mortes['DTNASC'].astype(str), format='%d%m%Y',errors='coerce')"
      ],
      "execution_count": 20,
      "outputs": []
    },
    {
      "cell_type": "code",
      "metadata": {
        "id": "xAO-aYnwsCpK"
      },
      "source": [
        "df_Mortes.head(5)"
      ],
      "execution_count": null,
      "outputs": []
    },
    {
      "cell_type": "code",
      "metadata": {
        "id": "GWwpSS_CFaMN"
      },
      "source": [
        "#retirada do caracter * (esse caracter significa que a causa da morte difere entre masculino ou feminino, não será considerado nesse estudo)\n",
        "df_Mortes.LINHAA = df_Mortes.LINHAA.str.replace('*','/')\n",
        "df_Mortes.LINHAB = df_Mortes.LINHAB.str.replace('*','/')\n",
        "df_Mortes.LINHAC = df_Mortes.LINHAC.str.replace('*','/')\n",
        "df_Mortes.LINHAD = df_Mortes.LINHAD.str.replace('*','/')\n",
        "df_Mortes.LINHAII = df_Mortes.LINHAII.str.replace('*','/')"
      ],
      "execution_count": 23,
      "outputs": []
    },
    {
      "cell_type": "code",
      "metadata": {
        "id": "9XCdTCdoFZjt"
      },
      "source": [
        "# splitting at occurrence of whitespace\n",
        "df_Mortes['LINHAA']= df_Mortes['LINHAA'].str.split('/')\n",
        "df_Mortes['LINHAB']= df_Mortes['LINHAB'].str.split('/')\n",
        "df_Mortes['LINHAC']= df_Mortes['LINHAC'].str.split('/')\n",
        "df_Mortes['LINHAD']= df_Mortes['LINHAD'].str.split('/')\n",
        "df_Mortes['LINHAII']= df_Mortes['LINHAII'].str.split('/')"
      ],
      "execution_count": 24,
      "outputs": []
    },
    {
      "cell_type": "code",
      "metadata": {
        "id": "UIgtDXXYFZWt"
      },
      "source": [
        "# displaying second element from list (será considerado apenas a primeira causa descrita em cada campo)\n",
        "df_Mortes['LINHAA']= df_Mortes['LINHAA'].str.get(1)\n",
        "df_Mortes['LINHAB']= df_Mortes['LINHAB'].str.get(1)\n",
        "df_Mortes['LINHAC']= df_Mortes['LINHAC'].str.get(1)\n",
        "df_Mortes['LINHAD']= df_Mortes['LINHAD'].str.get(1)\n",
        "df_Mortes['LINHAII']= df_Mortes['LINHAII'].str.get(1)"
      ],
      "execution_count": 25,
      "outputs": []
    },
    {
      "cell_type": "code",
      "metadata": {
        "id": "-6sL7ktiweUb"
      },
      "source": [
        "df_Mortes.head(5) "
      ],
      "execution_count": null,
      "outputs": []
    },
    {
      "cell_type": "code",
      "metadata": {
        "id": "3tcSkeGBF0Lc"
      },
      "source": [
        "#calcular idade \n",
        "\n",
        "df_Mortes['DTOBITO'] = pd.to_datetime(df_Mortes['DTOBITO'], format='%Y/%m/%d')\n",
        "df_Mortes['DTNASC'] = pd.to_datetime(df_Mortes['DTNASC'], format='%Y/%m/%d')\n",
        "\n",
        "df_Mortes['IDADE'] = df_Mortes['DTOBITO'] - df_Mortes['DTNASC']\n",
        "df_Mortes['IDADE']=df_Mortes['IDADE']/np.timedelta64(1,'Y')\n",
        "df_Mortes['IDADE']= round(df_Mortes['IDADE']- 0.5,ndigits=0)\n",
        "df_Mortes['IDADE']= df_Mortes['IDADE'].astype(\"Int64\") "
      ],
      "execution_count": 29,
      "outputs": []
    },
    {
      "cell_type": "code",
      "metadata": {
        "colab": {
          "base_uri": "https://localhost:8080/"
        },
        "id": "HVA1GBWBGfYB",
        "outputId": "495ff66e-7769-4502-89c0-6625613dd8cb"
      },
      "source": [
        "df_Mortes.info()"
      ],
      "execution_count": 30,
      "outputs": [
        {
          "output_type": "stream",
          "name": "stdout",
          "text": [
            "<class 'pandas.core.frame.DataFrame'>\n",
            "RangeIndex: 2931446 entries, 0 to 2931445\n",
            "Data columns (total 17 columns):\n",
            " #   Column      Dtype         \n",
            "---  ------      -----         \n",
            " 0   TIPOBITO    object        \n",
            " 1   DTOBITO     datetime64[ns]\n",
            " 2   DTNASC      datetime64[ns]\n",
            " 3   SEXO        object        \n",
            " 4   RACACOR     object        \n",
            " 5   OCUP        object        \n",
            " 6   LOCOCOR     object        \n",
            " 7   CODMUNOCOR  object        \n",
            " 8   LINHAA      object        \n",
            " 9   LINHAB      object        \n",
            " 10  LINHAC      object        \n",
            " 11  LINHAD      object        \n",
            " 12  LINHAII     object        \n",
            " 13  CAUSABAS    object        \n",
            " 14  CIRCOBITO   object        \n",
            " 15  CAUSABAS_O  object        \n",
            " 16  IDADE       Int64         \n",
            "dtypes: Int64(1), datetime64[ns](2), object(14)\n",
            "memory usage: 383.0+ MB\n"
          ]
        }
      ]
    },
    {
      "cell_type": "code",
      "metadata": {
        "colab": {
          "base_uri": "https://localhost:8080/",
          "height": 309
        },
        "id": "HcU3UalIyBhD",
        "outputId": "daf2246e-44ac-4996-91ab-ce988c8670cb"
      },
      "source": [
        "df_Mortes.head(5) "
      ],
      "execution_count": 31,
      "outputs": [
        {
          "output_type": "execute_result",
          "data": {
            "text/html": [
              "<div>\n",
              "<style scoped>\n",
              "    .dataframe tbody tr th:only-of-type {\n",
              "        vertical-align: middle;\n",
              "    }\n",
              "\n",
              "    .dataframe tbody tr th {\n",
              "        vertical-align: top;\n",
              "    }\n",
              "\n",
              "    .dataframe thead th {\n",
              "        text-align: right;\n",
              "    }\n",
              "</style>\n",
              "<table border=\"1\" class=\"dataframe\">\n",
              "  <thead>\n",
              "    <tr style=\"text-align: right;\">\n",
              "      <th></th>\n",
              "      <th>TIPOBITO</th>\n",
              "      <th>DTOBITO</th>\n",
              "      <th>DTNASC</th>\n",
              "      <th>SEXO</th>\n",
              "      <th>RACACOR</th>\n",
              "      <th>OCUP</th>\n",
              "      <th>LOCOCOR</th>\n",
              "      <th>CODMUNOCOR</th>\n",
              "      <th>LINHAA</th>\n",
              "      <th>LINHAB</th>\n",
              "      <th>LINHAC</th>\n",
              "      <th>LINHAD</th>\n",
              "      <th>LINHAII</th>\n",
              "      <th>CAUSABAS</th>\n",
              "      <th>CIRCOBITO</th>\n",
              "      <th>CAUSABAS_O</th>\n",
              "      <th>IDADE</th>\n",
              "    </tr>\n",
              "  </thead>\n",
              "  <tbody>\n",
              "    <tr>\n",
              "      <th>0</th>\n",
              "      <td>2</td>\n",
              "      <td>2019-01-21</td>\n",
              "      <td>1961-02-18</td>\n",
              "      <td>1</td>\n",
              "      <td>2</td>\n",
              "      <td>512105</td>\n",
              "      <td>1</td>\n",
              "      <td>290750</td>\n",
              "      <td>R570</td>\n",
              "      <td>J81X</td>\n",
              "      <td>I10X</td>\n",
              "      <td>N189</td>\n",
              "      <td>NaN</td>\n",
              "      <td>I120</td>\n",
              "      <td>NaN</td>\n",
              "      <td>I120</td>\n",
              "      <td>57</td>\n",
              "    </tr>\n",
              "    <tr>\n",
              "      <th>1</th>\n",
              "      <td>2</td>\n",
              "      <td>2019-01-28</td>\n",
              "      <td>1938-07-03</td>\n",
              "      <td>2</td>\n",
              "      <td>NaN</td>\n",
              "      <td>999992</td>\n",
              "      <td>1</td>\n",
              "      <td>290750</td>\n",
              "      <td>A419</td>\n",
              "      <td>NaN</td>\n",
              "      <td>NaN</td>\n",
              "      <td>NaN</td>\n",
              "      <td>NaN</td>\n",
              "      <td>A419</td>\n",
              "      <td>NaN</td>\n",
              "      <td>A419</td>\n",
              "      <td>80</td>\n",
              "    </tr>\n",
              "    <tr>\n",
              "      <th>2</th>\n",
              "      <td>2</td>\n",
              "      <td>2019-01-27</td>\n",
              "      <td>1945-11-15</td>\n",
              "      <td>2</td>\n",
              "      <td>4</td>\n",
              "      <td>999992</td>\n",
              "      <td>1</td>\n",
              "      <td>290750</td>\n",
              "      <td>I500</td>\n",
              "      <td>I10X</td>\n",
              "      <td>E039</td>\n",
              "      <td>NaN</td>\n",
              "      <td>NaN</td>\n",
              "      <td>E039</td>\n",
              "      <td>NaN</td>\n",
              "      <td>E039</td>\n",
              "      <td>73</td>\n",
              "    </tr>\n",
              "    <tr>\n",
              "      <th>3</th>\n",
              "      <td>2</td>\n",
              "      <td>2019-01-12</td>\n",
              "      <td>1971-11-04</td>\n",
              "      <td>1</td>\n",
              "      <td>4</td>\n",
              "      <td>NaN</td>\n",
              "      <td>1</td>\n",
              "      <td>290750</td>\n",
              "      <td>J960</td>\n",
              "      <td>R220</td>\n",
              "      <td>NaN</td>\n",
              "      <td>NaN</td>\n",
              "      <td>NaN</td>\n",
              "      <td>R220</td>\n",
              "      <td>NaN</td>\n",
              "      <td>R220</td>\n",
              "      <td>47</td>\n",
              "    </tr>\n",
              "    <tr>\n",
              "      <th>4</th>\n",
              "      <td>2</td>\n",
              "      <td>2019-01-10</td>\n",
              "      <td>1946-10-12</td>\n",
              "      <td>2</td>\n",
              "      <td>4</td>\n",
              "      <td>999992</td>\n",
              "      <td>1</td>\n",
              "      <td>290750</td>\n",
              "      <td>J960</td>\n",
              "      <td>C159</td>\n",
              "      <td>NaN</td>\n",
              "      <td>NaN</td>\n",
              "      <td>NaN</td>\n",
              "      <td>C159</td>\n",
              "      <td>NaN</td>\n",
              "      <td>C159</td>\n",
              "      <td>72</td>\n",
              "    </tr>\n",
              "  </tbody>\n",
              "</table>\n",
              "</div>"
            ],
            "text/plain": [
              "  TIPOBITO    DTOBITO     DTNASC SEXO  ... CAUSABAS CIRCOBITO CAUSABAS_O IDADE\n",
              "0        2 2019-01-21 1961-02-18    1  ...     I120       NaN       I120    57\n",
              "1        2 2019-01-28 1938-07-03    2  ...     A419       NaN       A419    80\n",
              "2        2 2019-01-27 1945-11-15    2  ...     E039       NaN       E039    73\n",
              "3        2 2019-01-12 1971-11-04    1  ...     R220       NaN       R220    47\n",
              "4        2 2019-01-10 1946-10-12    2  ...     C159       NaN       C159    72\n",
              "\n",
              "[5 rows x 17 columns]"
            ]
          },
          "metadata": {},
          "execution_count": 31
        }
      ]
    },
    {
      "cell_type": "code",
      "metadata": {
        "id": "z-gxDmADGdjo"
      },
      "source": [
        "#df_Mortes.to_csv('base_dados_completo.csv',sep=';',encoding = 'ISO-8859-1')"
      ],
      "execution_count": 32,
      "outputs": []
    },
    {
      "cell_type": "code",
      "metadata": {
        "id": "0Jkph78y6R-C"
      },
      "source": [
        "df_mortes_original = pd.read_csv('base_dados_completo.csv',sep=';',encoding = 'ISO-8859-1')"
      ],
      "execution_count": 33,
      "outputs": []
    },
    {
      "cell_type": "code",
      "metadata": {
        "id": "iEmsA1qs-HIs"
      },
      "source": [
        "df_mortes_original.shape"
      ],
      "execution_count": null,
      "outputs": []
    },
    {
      "cell_type": "code",
      "metadata": {
        "id": "tmDH1nj8Esbp"
      },
      "source": [
        "df_mortes_original.count()"
      ],
      "execution_count": null,
      "outputs": []
    },
    {
      "cell_type": "code",
      "metadata": {
        "id": "M5PwgOr6Etag"
      },
      "source": [
        "df_mortes_original.nunique()"
      ],
      "execution_count": null,
      "outputs": []
    },
    {
      "cell_type": "code",
      "metadata": {
        "colab": {
          "base_uri": "https://localhost:8080/"
        },
        "id": "XgZ8JNox6vov",
        "outputId": "953a8066-305b-47c5-b845-8e3148a42c46"
      },
      "source": [
        "df_mortes_original.info()"
      ],
      "execution_count": 34,
      "outputs": [
        {
          "output_type": "stream",
          "name": "stdout",
          "text": [
            "<class 'pandas.core.frame.DataFrame'>\n",
            "RangeIndex: 2931446 entries, 0 to 2931445\n",
            "Data columns (total 18 columns):\n",
            " #   Column      Dtype  \n",
            "---  ------      -----  \n",
            " 0   Unnamed: 0  int64  \n",
            " 1   TIPOBITO    int64  \n",
            " 2   DTOBITO     object \n",
            " 3   DTNASC      object \n",
            " 4   SEXO        int64  \n",
            " 5   RACACOR     float64\n",
            " 6   OCUP        float64\n",
            " 7   LOCOCOR     int64  \n",
            " 8   CODMUNOCOR  int64  \n",
            " 9   LINHAA      object \n",
            " 10  LINHAB      object \n",
            " 11  LINHAC      object \n",
            " 12  LINHAD      object \n",
            " 13  LINHAII     object \n",
            " 14  CAUSABAS    object \n",
            " 15  CIRCOBITO   float64\n",
            " 16  CAUSABAS_O  object \n",
            " 17  IDADE       float64\n",
            "dtypes: float64(4), int64(5), object(9)\n",
            "memory usage: 402.6+ MB\n"
          ]
        }
      ]
    },
    {
      "cell_type": "code",
      "metadata": {
        "colab": {
          "base_uri": "https://localhost:8080/",
          "height": 326
        },
        "id": "B1qOF2SI60sg",
        "outputId": "076036df-cbc0-4793-dc79-43b3489a6d34"
      },
      "source": [
        "df_mortes_original.head(5)"
      ],
      "execution_count": 35,
      "outputs": [
        {
          "output_type": "execute_result",
          "data": {
            "text/html": [
              "<div>\n",
              "<style scoped>\n",
              "    .dataframe tbody tr th:only-of-type {\n",
              "        vertical-align: middle;\n",
              "    }\n",
              "\n",
              "    .dataframe tbody tr th {\n",
              "        vertical-align: top;\n",
              "    }\n",
              "\n",
              "    .dataframe thead th {\n",
              "        text-align: right;\n",
              "    }\n",
              "</style>\n",
              "<table border=\"1\" class=\"dataframe\">\n",
              "  <thead>\n",
              "    <tr style=\"text-align: right;\">\n",
              "      <th></th>\n",
              "      <th>Unnamed: 0</th>\n",
              "      <th>TIPOBITO</th>\n",
              "      <th>DTOBITO</th>\n",
              "      <th>DTNASC</th>\n",
              "      <th>SEXO</th>\n",
              "      <th>RACACOR</th>\n",
              "      <th>OCUP</th>\n",
              "      <th>LOCOCOR</th>\n",
              "      <th>CODMUNOCOR</th>\n",
              "      <th>LINHAA</th>\n",
              "      <th>LINHAB</th>\n",
              "      <th>LINHAC</th>\n",
              "      <th>LINHAD</th>\n",
              "      <th>LINHAII</th>\n",
              "      <th>CAUSABAS</th>\n",
              "      <th>CIRCOBITO</th>\n",
              "      <th>CAUSABAS_O</th>\n",
              "      <th>IDADE</th>\n",
              "    </tr>\n",
              "  </thead>\n",
              "  <tbody>\n",
              "    <tr>\n",
              "      <th>0</th>\n",
              "      <td>0</td>\n",
              "      <td>2</td>\n",
              "      <td>2019-01-21</td>\n",
              "      <td>1961-02-18</td>\n",
              "      <td>1</td>\n",
              "      <td>2.0</td>\n",
              "      <td>512105.0</td>\n",
              "      <td>1</td>\n",
              "      <td>290750</td>\n",
              "      <td>R570</td>\n",
              "      <td>J81X</td>\n",
              "      <td>I10X</td>\n",
              "      <td>N189</td>\n",
              "      <td>NaN</td>\n",
              "      <td>I120</td>\n",
              "      <td>NaN</td>\n",
              "      <td>I120</td>\n",
              "      <td>57.0</td>\n",
              "    </tr>\n",
              "    <tr>\n",
              "      <th>1</th>\n",
              "      <td>1</td>\n",
              "      <td>2</td>\n",
              "      <td>2019-01-28</td>\n",
              "      <td>1938-07-03</td>\n",
              "      <td>2</td>\n",
              "      <td>NaN</td>\n",
              "      <td>999992.0</td>\n",
              "      <td>1</td>\n",
              "      <td>290750</td>\n",
              "      <td>A419</td>\n",
              "      <td>NaN</td>\n",
              "      <td>NaN</td>\n",
              "      <td>NaN</td>\n",
              "      <td>NaN</td>\n",
              "      <td>A419</td>\n",
              "      <td>NaN</td>\n",
              "      <td>A419</td>\n",
              "      <td>80.0</td>\n",
              "    </tr>\n",
              "    <tr>\n",
              "      <th>2</th>\n",
              "      <td>2</td>\n",
              "      <td>2</td>\n",
              "      <td>2019-01-27</td>\n",
              "      <td>1945-11-15</td>\n",
              "      <td>2</td>\n",
              "      <td>4.0</td>\n",
              "      <td>999992.0</td>\n",
              "      <td>1</td>\n",
              "      <td>290750</td>\n",
              "      <td>I500</td>\n",
              "      <td>I10X</td>\n",
              "      <td>E039</td>\n",
              "      <td>NaN</td>\n",
              "      <td>NaN</td>\n",
              "      <td>E039</td>\n",
              "      <td>NaN</td>\n",
              "      <td>E039</td>\n",
              "      <td>73.0</td>\n",
              "    </tr>\n",
              "    <tr>\n",
              "      <th>3</th>\n",
              "      <td>3</td>\n",
              "      <td>2</td>\n",
              "      <td>2019-01-12</td>\n",
              "      <td>1971-11-04</td>\n",
              "      <td>1</td>\n",
              "      <td>4.0</td>\n",
              "      <td>NaN</td>\n",
              "      <td>1</td>\n",
              "      <td>290750</td>\n",
              "      <td>J960</td>\n",
              "      <td>R220</td>\n",
              "      <td>NaN</td>\n",
              "      <td>NaN</td>\n",
              "      <td>NaN</td>\n",
              "      <td>R220</td>\n",
              "      <td>NaN</td>\n",
              "      <td>R220</td>\n",
              "      <td>47.0</td>\n",
              "    </tr>\n",
              "    <tr>\n",
              "      <th>4</th>\n",
              "      <td>4</td>\n",
              "      <td>2</td>\n",
              "      <td>2019-01-10</td>\n",
              "      <td>1946-10-12</td>\n",
              "      <td>2</td>\n",
              "      <td>4.0</td>\n",
              "      <td>999992.0</td>\n",
              "      <td>1</td>\n",
              "      <td>290750</td>\n",
              "      <td>J960</td>\n",
              "      <td>C159</td>\n",
              "      <td>NaN</td>\n",
              "      <td>NaN</td>\n",
              "      <td>NaN</td>\n",
              "      <td>C159</td>\n",
              "      <td>NaN</td>\n",
              "      <td>C159</td>\n",
              "      <td>72.0</td>\n",
              "    </tr>\n",
              "  </tbody>\n",
              "</table>\n",
              "</div>"
            ],
            "text/plain": [
              "   Unnamed: 0  TIPOBITO     DTOBITO  ... CIRCOBITO  CAUSABAS_O  IDADE\n",
              "0           0         2  2019-01-21  ...       NaN        I120   57.0\n",
              "1           1         2  2019-01-28  ...       NaN        A419   80.0\n",
              "2           2         2  2019-01-27  ...       NaN        E039   73.0\n",
              "3           3         2  2019-01-12  ...       NaN        R220   47.0\n",
              "4           4         2  2019-01-10  ...       NaN        C159   72.0\n",
              "\n",
              "[5 rows x 18 columns]"
            ]
          },
          "metadata": {},
          "execution_count": 35
        }
      ]
    },
    {
      "cell_type": "code",
      "metadata": {
        "colab": {
          "base_uri": "https://localhost:8080/"
        },
        "id": "qMWhaub0CADI",
        "outputId": "fd0fda57-c9cb-4229-9526-a762e7d61ad5"
      },
      "source": [
        "df_mortes_original.isnull().sum()"
      ],
      "execution_count": 43,
      "outputs": [
        {
          "output_type": "execute_result",
          "data": {
            "text/plain": [
              "Unnamed: 0          0\n",
              "TIPOBITO            0\n",
              "DTOBITO             0\n",
              "DTNASC          36524\n",
              "SEXO                0\n",
              "RACACOR        104473\n",
              "OCUP           494292\n",
              "LOCOCOR             0\n",
              "CODMUNOCOR          0\n",
              "LINHAA         104619\n",
              "LINHAB         732365\n",
              "LINHAC        1590145\n",
              "LINHAD        2368684\n",
              "LINHAII       1793853\n",
              "CAUSABAS            0\n",
              "CIRCOBITO     2644913\n",
              "CAUSABAS_O       4782\n",
              "IDADE           36524\n",
              "dtype: int64"
            ]
          },
          "metadata": {},
          "execution_count": 43
        }
      ]
    },
    {
      "cell_type": "code",
      "metadata": {
        "id": "B9X8PpzLBKPw"
      },
      "source": [
        "df_mortes_original.fillna(0,inplace=True)\n"
      ],
      "execution_count": 44,
      "outputs": []
    },
    {
      "cell_type": "code",
      "metadata": {
        "id": "kJ-kuxmg8ggT"
      },
      "source": [
        "df_mortes_original['IDADE'] = df_mortes_original['IDADE'].apply(np.int64)\n",
        "df_mortes_original['RACACOR'] = df_mortes_original['RACACOR'].apply(np.int64)\n",
        "df_mortes_original['OCUP'] = df_mortes_original['OCUP'].apply(np.int64)\n",
        "df_mortes_original['CIRCOBITO'] = df_mortes_original['CIRCOBITO'].apply(np.int64)"
      ],
      "execution_count": 45,
      "outputs": []
    },
    {
      "cell_type": "code",
      "metadata": {
        "colab": {
          "base_uri": "https://localhost:8080/",
          "height": 326
        },
        "id": "5OHfM-az8rmp",
        "outputId": "eae25e17-7074-449a-d956-5a95c4e2aaa7"
      },
      "source": [
        "df_mortes_original.head(5)"
      ],
      "execution_count": 53,
      "outputs": [
        {
          "output_type": "execute_result",
          "data": {
            "text/html": [
              "<div>\n",
              "<style scoped>\n",
              "    .dataframe tbody tr th:only-of-type {\n",
              "        vertical-align: middle;\n",
              "    }\n",
              "\n",
              "    .dataframe tbody tr th {\n",
              "        vertical-align: top;\n",
              "    }\n",
              "\n",
              "    .dataframe thead th {\n",
              "        text-align: right;\n",
              "    }\n",
              "</style>\n",
              "<table border=\"1\" class=\"dataframe\">\n",
              "  <thead>\n",
              "    <tr style=\"text-align: right;\">\n",
              "      <th></th>\n",
              "      <th>Unnamed: 0</th>\n",
              "      <th>TIPOBITO</th>\n",
              "      <th>DTOBITO</th>\n",
              "      <th>DTNASC</th>\n",
              "      <th>SEXO</th>\n",
              "      <th>RACACOR</th>\n",
              "      <th>OCUP</th>\n",
              "      <th>LOCOCOR</th>\n",
              "      <th>CODMUNOCOR</th>\n",
              "      <th>LINHAA</th>\n",
              "      <th>LINHAB</th>\n",
              "      <th>LINHAC</th>\n",
              "      <th>LINHAD</th>\n",
              "      <th>LINHAII</th>\n",
              "      <th>CAUSABAS</th>\n",
              "      <th>CIRCOBITO</th>\n",
              "      <th>CAUSABAS_O</th>\n",
              "      <th>IDADE</th>\n",
              "      <th>IRACACOR</th>\n",
              "    </tr>\n",
              "  </thead>\n",
              "  <tbody>\n",
              "    <tr>\n",
              "      <th>0</th>\n",
              "      <td>0</td>\n",
              "      <td>2</td>\n",
              "      <td>2019-01-21</td>\n",
              "      <td>1961-02-18</td>\n",
              "      <td>1</td>\n",
              "      <td>2</td>\n",
              "      <td>512105</td>\n",
              "      <td>1</td>\n",
              "      <td>290750</td>\n",
              "      <td>R570</td>\n",
              "      <td>J81X</td>\n",
              "      <td>I10X</td>\n",
              "      <td>N189</td>\n",
              "      <td>0</td>\n",
              "      <td>I120</td>\n",
              "      <td>0</td>\n",
              "      <td>I120</td>\n",
              "      <td>57</td>\n",
              "      <td>2</td>\n",
              "    </tr>\n",
              "    <tr>\n",
              "      <th>1</th>\n",
              "      <td>1</td>\n",
              "      <td>2</td>\n",
              "      <td>2019-01-28</td>\n",
              "      <td>1938-07-03</td>\n",
              "      <td>2</td>\n",
              "      <td>0</td>\n",
              "      <td>999992</td>\n",
              "      <td>1</td>\n",
              "      <td>290750</td>\n",
              "      <td>A419</td>\n",
              "      <td>0</td>\n",
              "      <td>0</td>\n",
              "      <td>0</td>\n",
              "      <td>0</td>\n",
              "      <td>A419</td>\n",
              "      <td>0</td>\n",
              "      <td>A419</td>\n",
              "      <td>80</td>\n",
              "      <td>0</td>\n",
              "    </tr>\n",
              "    <tr>\n",
              "      <th>2</th>\n",
              "      <td>2</td>\n",
              "      <td>2</td>\n",
              "      <td>2019-01-27</td>\n",
              "      <td>1945-11-15</td>\n",
              "      <td>2</td>\n",
              "      <td>4</td>\n",
              "      <td>999992</td>\n",
              "      <td>1</td>\n",
              "      <td>290750</td>\n",
              "      <td>I500</td>\n",
              "      <td>I10X</td>\n",
              "      <td>E039</td>\n",
              "      <td>0</td>\n",
              "      <td>0</td>\n",
              "      <td>E039</td>\n",
              "      <td>0</td>\n",
              "      <td>E039</td>\n",
              "      <td>73</td>\n",
              "      <td>4</td>\n",
              "    </tr>\n",
              "    <tr>\n",
              "      <th>3</th>\n",
              "      <td>3</td>\n",
              "      <td>2</td>\n",
              "      <td>2019-01-12</td>\n",
              "      <td>1971-11-04</td>\n",
              "      <td>1</td>\n",
              "      <td>4</td>\n",
              "      <td>0</td>\n",
              "      <td>1</td>\n",
              "      <td>290750</td>\n",
              "      <td>J960</td>\n",
              "      <td>R220</td>\n",
              "      <td>0</td>\n",
              "      <td>0</td>\n",
              "      <td>0</td>\n",
              "      <td>R220</td>\n",
              "      <td>0</td>\n",
              "      <td>R220</td>\n",
              "      <td>47</td>\n",
              "      <td>4</td>\n",
              "    </tr>\n",
              "    <tr>\n",
              "      <th>4</th>\n",
              "      <td>4</td>\n",
              "      <td>2</td>\n",
              "      <td>2019-01-10</td>\n",
              "      <td>1946-10-12</td>\n",
              "      <td>2</td>\n",
              "      <td>4</td>\n",
              "      <td>999992</td>\n",
              "      <td>1</td>\n",
              "      <td>290750</td>\n",
              "      <td>J960</td>\n",
              "      <td>C159</td>\n",
              "      <td>0</td>\n",
              "      <td>0</td>\n",
              "      <td>0</td>\n",
              "      <td>C159</td>\n",
              "      <td>0</td>\n",
              "      <td>C159</td>\n",
              "      <td>72</td>\n",
              "      <td>4</td>\n",
              "    </tr>\n",
              "  </tbody>\n",
              "</table>\n",
              "</div>"
            ],
            "text/plain": [
              "   Unnamed: 0  TIPOBITO     DTOBITO  ... CAUSABAS_O  IDADE  IRACACOR\n",
              "0           0         2  2019-01-21  ...       I120     57         2\n",
              "1           1         2  2019-01-28  ...       A419     80         0\n",
              "2           2         2  2019-01-27  ...       E039     73         4\n",
              "3           3         2  2019-01-12  ...       R220     47         4\n",
              "4           4         2  2019-01-10  ...       C159     72         4\n",
              "\n",
              "[5 rows x 19 columns]"
            ]
          },
          "metadata": {},
          "execution_count": 53
        }
      ]
    },
    {
      "cell_type": "code",
      "metadata": {
        "id": "1FWF72joC7xB"
      },
      "source": [
        "df_mortes_original.isnull().sum()"
      ],
      "execution_count": null,
      "outputs": []
    },
    {
      "cell_type": "code",
      "metadata": {
        "id": "Z3IRPB_skd1i"
      },
      "source": [
        "#http://www2.datasus.gov.br/cid10/V2008/cid10.htm\n",
        "\n",
        "df_cid = pd.read_csv('CID-10-SUBCATEGORIAS.csv',sep=';',encoding = 'ISO-8859-1')\n",
        "df_cid.head()"
      ],
      "execution_count": null,
      "outputs": []
    },
    {
      "cell_type": "code",
      "metadata": {
        "id": "TwhbWyaZUz5B"
      },
      "source": [
        "df_cid_alt = df_cid.drop(columns=['CLASSIF','RESTRSEXO','CAUSAOBITO','DESCRABREV','REFER','EXCLUIDOS'])\n",
        "df_cid_alt.head()\n",
        "   "
      ],
      "execution_count": null,
      "outputs": []
    },
    {
      "cell_type": "code",
      "metadata": {
        "id": "t73FG5gu5kuD"
      },
      "source": [
        "#Merge dos obitos e da causa base da morte\n",
        "#df_Mort_2019_alt_2 = pd.merge(df_Mort_2019_alt,df_cid_alt, on ='SUBCAT')\n",
        "#df_Mort_2019_alt_2.head()"
      ],
      "execution_count": null,
      "outputs": []
    },
    {
      "cell_type": "code",
      "metadata": {
        "id": "Lg7inYzwctqV"
      },
      "source": [
        "#busca a tabelas tabelas do ibge\n",
        "#df_ibge = pd.read_html('https://www.ibge.gov.br/explica/codigos-dos-municipios.php#MG')\n",
        "df_ibge = pd.read_csv('tabela_ibge.csv',sep=';',encoding = 'ISO-8859-1')\n",
        "df_ibge.head()"
      ],
      "execution_count": null,
      "outputs": []
    },
    {
      "cell_type": "code",
      "metadata": {
        "id": "fn2wQXQiHjh7"
      },
      "source": [
        "df_ibge = df_ibge.drop(columns=['uf','nm_uf', 'cd_municipio_compl', 'nm_municipio'])\n",
        "df_ibge.rename(columns={'cd_municipio_base':'COD_MUNICIPIO_OCOR'}, inplace=True)\n",
        "df_ibge.rename(columns={'sgl_uf':'UF'}, inplace=True)\n",
        "\n",
        "df_ibge['COD_MUNICIPIO_OCOR'] = df_ibge['COD_MUNICIPIO_OCOR'].astype(str)"
      ],
      "execution_count": null,
      "outputs": []
    },
    {
      "cell_type": "code",
      "metadata": {
        "id": "8Z5B1lLqZjZq"
      },
      "source": [
        "# Realizar o merge Dataframe df_Mortes e df_cid_alt\n",
        "df_Mortes= pd.merge(df_Mortes, df_ibge, on=['COD_MUNICIPIO_OCOR'])\n",
        "\n",
        "df_Mortes.head()\n",
        "print(df_Mortes.dtypes)\n"
      ],
      "execution_count": null,
      "outputs": []
    },
    {
      "cell_type": "code",
      "metadata": {
        "id": "kd46lj5rOuwj"
      },
      "source": [
        "#Nomes das colunas utilizadas são diferentes, indicar o nome que a coluna coincidente possui na tabela da esquerda com o LEFT_ON e o nome que ela possui na tabela da direita com o RIGHT_ON, ao invés de utilizar somente o ON.\n",
        "#df_teste = df_Mort_2019_alt.drop(columns=['DTOBITO','DTNASC','SEXO','RACACOR','LOCOCOR','COD_MUNICIPIO_OCOR','IDADE'])\n",
        "\n",
        "df_Mort_2019_alt  = pd.merge(df_Mort_2019_alt,df_cid_alt, right_on=['SUBCAT'], left_on=['LINHAA'])\n",
        "#df_teste = pd.merge(df_teste,df_cid_alt, right_on=['SUBCAT'], left_on=['LINHAB'])\n",
        "#df_teste = pd.merge(df_teste,df_cid_alt, right_on=['SUBCAT'], left_on=['LINHAC'])\n",
        "#df_teste = pd.merge(df_teste,df_cid_alt, right_on=['SUBCAT'], left_on=['LINHAD'])\n",
        "#df_teste = pd.merge(df_teste,df_cid_alt, right_on=['SUBCAT'], left_on=['LINHAII'])\n",
        "df_Mort_2019_alt = pd.merge(df_Mort_2019_alt,df_cid_alt, right_on=['SUBCAT'], left_on=['CAUSABAS'])\n",
        "\n",
        "df_Mort_2019_alt.head()\n",
        "\n"
      ],
      "execution_count": null,
      "outputs": []
    }
  ]
}